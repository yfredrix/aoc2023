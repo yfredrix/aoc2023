{
 "cells": [
  {
   "cell_type": "code",
   "execution_count": 198,
   "metadata": {},
   "outputs": [],
   "source": [
    "with open(\"./data/Day 23/example.txt\") as file:\n",
    "    example = file.read()"
   ]
  },
  {
   "cell_type": "code",
   "execution_count": 199,
   "metadata": {},
   "outputs": [],
   "source": [
    "with open('./data/Day 23/input.txt') as file:\n",
    "    data = file.read()"
   ]
  },
  {
   "cell_type": "code",
   "execution_count": 200,
   "metadata": {},
   "outputs": [],
   "source": [
    "\n",
    "def parse_input(inputstr):\n",
    "    grid = []\n",
    "    for line in inputstr.splitlines():\n",
    "        grid.append(list(line))\n",
    "    return grid"
   ]
  },
  {
   "cell_type": "code",
   "execution_count": 201,
   "metadata": {},
   "outputs": [],
   "source": [
    "import networkx as nx\n",
    "def build_graph(grid):\n",
    "    G = nx.DiGraph()\n",
    "    for y, row in enumerate(grid):\n",
    "        for x, char in enumerate(row):\n",
    "            if y == 0 and char != \"#\":\n",
    "                start = (x, y)\n",
    "            if y == len(grid) - 1 and char != \"#\":\n",
    "                end = (x, y)\n",
    "            if char == '#':\n",
    "                continue\n",
    "            G.add_node((x, y))\n",
    "            for dx, dy in ((0, 1), (0, -1), (1, 0), (-1, 0)):\n",
    "                if y + dy < 0 or y + dy >= len(grid):\n",
    "                    continue\n",
    "                if x + dx < 0 or x + dx >= len(row):\n",
    "                    continue\n",
    "                if grid[y + dy][x + dx] == '#':\n",
    "                    continue\n",
    "                if grid[y + dy][x + dx] == '^':\n",
    "                    if dy == -1:\n",
    "                        G.add_edge((x, y), (x + dx, y + dy))\n",
    "                        continue\n",
    "                    else:\n",
    "                        continue\n",
    "                if grid[y + dy][x + dx] == 'v':\n",
    "                    if dy == 1:\n",
    "                        G.add_edge((x, y), (x + dx, y + dy))\n",
    "                        continue\n",
    "                    else:\n",
    "                        continue\n",
    "                if grid[y + dy][x + dx] == '<':\n",
    "                    if dx == -1:\n",
    "                        G.add_edge((x, y), (x + dx, y + dy))\n",
    "                        continue\n",
    "                    else:\n",
    "                        continue\n",
    "                if grid[y + dy][x + dx] == '>':\n",
    "                    if dx == 1:\n",
    "                        G.add_edge((x, y), (x + dx, y + dy))\n",
    "                        continue\n",
    "                    else:\n",
    "                        continue\n",
    "                G.add_edge((x, y), (x + dx, y + dy))\n",
    "    return G, start, end"
   ]
  },
  {
   "cell_type": "markdown",
   "metadata": {},
   "source": [
    "# Part 1"
   ]
  },
  {
   "cell_type": "code",
   "execution_count": 202,
   "metadata": {},
   "outputs": [
    {
     "data": {
      "text/plain": [
       "[90, 74, 82, 86, 94, 82]"
      ]
     },
     "execution_count": 202,
     "metadata": {},
     "output_type": "execute_result"
    }
   ],
   "source": [
    "G_example, start, end = build_graph(parse_input(example))\n",
    "[len(path) - 1 for path in nx.all_simple_paths(G_example, start, end)]"
   ]
  },
  {
   "cell_type": "code",
   "execution_count": 203,
   "metadata": {},
   "outputs": [
    {
     "data": {
      "text/plain": [
       "2362"
      ]
     },
     "execution_count": 203,
     "metadata": {},
     "output_type": "execute_result"
    }
   ],
   "source": [
    "G, start, end = build_graph(parse_input(data))\n",
    "max([len(path) - 1 for path in nx.all_simple_paths(G, start, end)])"
   ]
  },
  {
   "cell_type": "markdown",
   "metadata": {},
   "source": [
    "# Part 2"
   ]
  },
  {
   "cell_type": "code",
   "execution_count": 214,
   "metadata": {},
   "outputs": [],
   "source": [
    "import networkx as nx\n",
    "\n",
    "\n",
    "def build_graph_part2(grid):\n",
    "    G = nx.Graph()\n",
    "    for y, row in enumerate(grid):\n",
    "        for x, char in enumerate(row):\n",
    "            if y == 0 and char != \"#\":\n",
    "                start = (x, y)\n",
    "            if y == len(grid) - 1 and char != \"#\":\n",
    "                end = (x, y)\n",
    "            if char == \"#\":\n",
    "                continue\n",
    "            G.add_node((x, y))\n",
    "            for dx, dy in ((0, 1), (0, -1), (1, 0), (-1, 0)):\n",
    "                if y + dy < 0 or y + dy >= len(grid):\n",
    "                    continue\n",
    "                if x + dx < 0 or x + dx >= len(row):\n",
    "                    continue\n",
    "                if grid[y + dy][x + dx] == \"#\":\n",
    "                    continue\n",
    "                if G.has_edge((x, y), (x + dx, y + dy)) or G.has_edge(\n",
    "                    (x + dx, y + dy), (x, y)\n",
    "                ):\n",
    "                    continue\n",
    "                G.add_edge((x, y), (x + dx, y + dy), weight=1)\n",
    "    return G, start, end"
   ]
  },
  {
   "cell_type": "code",
   "execution_count": 215,
   "metadata": {},
   "outputs": [
    {
     "data": {
      "text/plain": [
       "[154, 118, 90, 118, 74, 82, 126, 86, 94, 150, 110, 82]"
      ]
     },
     "execution_count": 215,
     "metadata": {},
     "output_type": "execute_result"
    }
   ],
   "source": [
    "G_example, start, end = build_graph_part2(parse_input(example))\n",
    "[len(path) - 1 for path in nx.all_simple_paths(G_example, start, end)]"
   ]
  },
  {
   "cell_type": "code",
   "execution_count": 220,
   "metadata": {},
   "outputs": [],
   "source": [
    "import networkx as nx\n",
    "\n",
    "\n",
    "def simplify_graph(G, start, end):\n",
    "    \"\"\"Simplify graph by combining nodes with just a simple path between them to a single node\"\"\"\n",
    "    simplified_graph = G.copy()\n",
    "    for node in G.nodes:\n",
    "        if start == node:\n",
    "            continue\n",
    "        if end == node:\n",
    "            continue\n",
    "        if node in simplified_graph:\n",
    "            neighbors = list(simplified_graph.neighbors(node))\n",
    "\n",
    "            if len(neighbors) == 1 and node != start and node != end:\n",
    "                simplified_graph.remove_node(node)\n",
    "            if len(neighbors) == 0:\n",
    "                simplified_graph.remove_node(node)\n",
    "                \n",
    "            if len(neighbors) == 2:\n",
    "                left_neighbor, right_neighbor = neighbors\n",
    "                curr_weight = (\n",
    "                    simplified_graph.edges[left_neighbor, node].get(\"weight\")\n",
    "                    + simplified_graph.edges[node, right_neighbor].get(\"weight\")\n",
    "                )\n",
    "                simplified_graph.add_edge(left_neighbor, right_neighbor, weight=curr_weight)\n",
    "                simplified_graph.remove_node(node)\n",
    "\n",
    "    return simplified_graph"
   ]
  },
  {
   "cell_type": "code",
   "execution_count": 224,
   "metadata": {},
   "outputs": [],
   "source": [
    "G, start, end = build_graph_part2(parse_input(data))\n",
    "G_new = simplify_graph(G, start, end)"
   ]
  },
  {
   "cell_type": "code",
   "execution_count": 221,
   "metadata": {},
   "outputs": [],
   "source": [
    "G_example, ex_start, ex_end = build_graph_part2(parse_input(example))\n",
    "simplified_example_graph = simplify_graph(G_example, ex_start, ex_end)"
   ]
  },
  {
   "cell_type": "code",
   "execution_count": 225,
   "metadata": {},
   "outputs": [
    {
     "data": {
      "text/plain": [
       "154"
      ]
     },
     "execution_count": 225,
     "metadata": {},
     "output_type": "execute_result"
    }
   ],
   "source": [
    "ex_answer = [\n",
    "    nx.path_weight(simplified_example_graph, path, weight=\"weight\")\n",
    "    for path in nx.all_simple_paths(simplified_example_graph, ex_start, ex_end)\n",
    "]\n",
    "max(ex_answer)"
   ]
  },
  {
   "cell_type": "code",
   "execution_count": 226,
   "metadata": {},
   "outputs": [
    {
     "data": {
      "text/plain": [
       "6538"
      ]
     },
     "execution_count": 226,
     "metadata": {},
     "output_type": "execute_result"
    }
   ],
   "source": [
    "answer = ([\n",
    "    nx.path_weight(G_new, path, weight=\"weight\")\n",
    "    for path in nx.all_simple_paths(G_new, start, end)\n",
    "])\n",
    "max(answer)"
   ]
  },
  {
   "cell_type": "code",
   "execution_count": null,
   "metadata": {},
   "outputs": [],
   "source": []
  }
 ],
 "metadata": {
  "kernelspec": {
   "display_name": ".venv",
   "language": "python",
   "name": "python3"
  },
  "language_info": {
   "codemirror_mode": {
    "name": "ipython",
    "version": 3
   },
   "file_extension": ".py",
   "mimetype": "text/x-python",
   "name": "python",
   "nbconvert_exporter": "python",
   "pygments_lexer": "ipython3",
   "version": "3.8.10"
  }
 },
 "nbformat": 4,
 "nbformat_minor": 2
}
