{
 "cells": [
  {
   "cell_type": "code",
   "execution_count": 2,
   "metadata": {},
   "outputs": [],
   "source": [
    "example = \"\"\"O....#....\n",
    "O.OO#....#\n",
    ".....##...\n",
    "OO.#O....O\n",
    ".O.....O#.\n",
    "O.#..O.#.#\n",
    "..O..#O..O\n",
    ".......O..\n",
    "#....###..\n",
    "#OO..#....\"\"\""
   ]
  },
  {
   "cell_type": "code",
   "execution_count": 3,
   "metadata": {},
   "outputs": [],
   "source": [
    "with open('./data/Day 14/input.txt', 'r') as file:\n",
    "    data = file.read()"
   ]
  },
  {
   "cell_type": "code",
   "execution_count": 4,
   "metadata": {},
   "outputs": [],
   "source": [
    "import numpy as np\n",
    "def parse_rocks(rock_str):\n",
    "    temp_field = []\n",
    "    for line in rock_str.splitlines():\n",
    "        temp_field.append(list(line))\n",
    "    return np.array(temp_field)"
   ]
  },
  {
   "cell_type": "code",
   "execution_count": 70,
   "metadata": {},
   "outputs": [],
   "source": [
    "def check_movement(rock_array, loc, direction):\n",
    "    if direction == \"North\":\n",
    "        if loc[0] == 0:\n",
    "            return rock_array\n",
    "        if rock_array[loc] == 'O' and rock_array[(loc[0]-1, loc[1])] == '.':\n",
    "            rock_array[(loc[0] - 1, loc[1])] = \"O\"\n",
    "            rock_array[loc] = '.'\n",
    "            rock_array = check_movement(rock_array, (loc[0] - 1, loc[1]), direction)\n",
    "    elif direction == \"South\":\n",
    "        if loc[0] == rock_array.shape[0] -1:\n",
    "            return rock_array\n",
    "        if rock_array[loc] == \"O\" and rock_array[(loc[0] + 1, loc[1])] == \".\":\n",
    "            rock_array[(loc[0] + 1, loc[1])] = \"O\"\n",
    "            rock_array[loc] = \".\"\n",
    "            rock_array = check_movement(rock_array, (loc[0] + 1, loc[1]), direction)\n",
    "    elif direction == \"East\":\n",
    "        if loc[1] == rock_array.shape[1] - 1:\n",
    "            return rock_array\n",
    "        if rock_array[loc] == \"O\" and rock_array[(loc[0], loc[1] + 1)] == \".\":\n",
    "            rock_array[(loc[0], loc[1] + 1)] = \"O\"\n",
    "            rock_array[loc] = \".\"\n",
    "            rock_array = check_movement(rock_array, (loc[0], loc[1] + 1), direction)\n",
    "    elif direction == \"West\":\n",
    "        if loc[1] == 0:\n",
    "            return rock_array\n",
    "        if rock_array[loc] == \"O\" and rock_array[(loc[0], loc[1] - 1)] == \".\":\n",
    "            rock_array[(loc[0], loc[1] - 1)] = \"O\"\n",
    "            rock_array[loc] = \".\"\n",
    "            rock_array = check_movement(rock_array, (loc[0], loc[1] - 1), direction)\n",
    "    return rock_array"
   ]
  },
  {
   "cell_type": "code",
   "execution_count": 62,
   "metadata": {},
   "outputs": [],
   "source": [
    "def move_north(rock_array):\n",
    "    \"\"\" \"Moves all 0 to the top until it hits a O or a #\"\"\"\n",
    "    for i in range(rock_array.shape[0]):\n",
    "        for j in range(rock_array.shape[1]):\n",
    "            check_movement(rock_array, (i,j), \"North\")\n",
    "    return rock_array"
   ]
  },
  {
   "cell_type": "code",
   "execution_count": 73,
   "metadata": {},
   "outputs": [],
   "source": [
    "def move_cycle(rock_array):\n",
    "    for i in range(rock_array.shape[0]):\n",
    "        for j in range(rock_array.shape[1]):\n",
    "            rock_array = check_movement(rock_array, (i, j), \"North\")\n",
    "    for i in range(rock_array.shape[0]):\n",
    "        for j in range(rock_array.shape[1]):\n",
    "            rock_array = check_movement(rock_array, (i, j), \"West\")\n",
    "    for i in range(rock_array.shape[0]-1, -1, -1):\n",
    "        for j in range(rock_array.shape[1]-1, -1, -1):\n",
    "            rock_array = check_movement(rock_array, (i, j), \"South\")\n",
    "    for i in range(rock_array.shape[0]-1, -1, -1):\n",
    "        for j in range(rock_array.shape[1]-1, -1, -1):\n",
    "            rock_array = check_movement(rock_array, (i, j), \"East\")\n",
    "    return rock_array"
   ]
  },
  {
   "cell_type": "code",
   "execution_count": 74,
   "metadata": {},
   "outputs": [],
   "source": [
    "def score_rocks(rock_array):\n",
    "    locations_row = np.where(rock_array == \"O\")[0]\n",
    "    distance_top = rock_array.shape[0] - locations_row\n",
    "    return sum(distance_top)"
   ]
  },
  {
   "cell_type": "markdown",
   "metadata": {},
   "source": [
    "# Part 1"
   ]
  },
  {
   "cell_type": "code",
   "execution_count": 75,
   "metadata": {},
   "outputs": [
    {
     "data": {
      "text/plain": [
       "136"
      ]
     },
     "execution_count": 75,
     "metadata": {},
     "output_type": "execute_result"
    }
   ],
   "source": [
    "rock_example_array = parse_rocks(example)\n",
    "example_moved_rocks = move_north(rock_example_array.copy())\n",
    "score_rocks(example_moved_rocks)"
   ]
  },
  {
   "cell_type": "code",
   "execution_count": 76,
   "metadata": {},
   "outputs": [
    {
     "data": {
      "text/plain": [
       "109833"
      ]
     },
     "execution_count": 76,
     "metadata": {},
     "output_type": "execute_result"
    }
   ],
   "source": [
    "rock_array = parse_rocks(data)\n",
    "moved_rocks = move_north(rock_array.copy())\n",
    "score_rocks(moved_rocks)"
   ]
  },
  {
   "cell_type": "markdown",
   "metadata": {},
   "source": [
    "# Part 2"
   ]
  },
  {
   "cell_type": "code",
   "execution_count": 77,
   "metadata": {},
   "outputs": [
    {
     "data": {
      "text/plain": [
       "array([['.', 'O', '.', ..., 'O', '.', '#'],\n",
       "       ['.', '.', 'O', ..., '.', 'O', '.'],\n",
       "       ['.', '.', '.', ..., '.', '.', '.'],\n",
       "       ...,\n",
       "       ['O', '.', '.', ..., 'O', '#', '.'],\n",
       "       ['#', '.', '.', ..., '#', '.', '.'],\n",
       "       ['.', 'O', '.', ..., '.', '.', '.']], dtype='<U1')"
      ]
     },
     "execution_count": 77,
     "metadata": {},
     "output_type": "execute_result"
    }
   ],
   "source": [
    "rock_array"
   ]
  },
  {
   "cell_type": "code",
   "execution_count": 78,
   "metadata": {},
   "outputs": [],
   "source": [
    "from tqdm import tqdm"
   ]
  },
  {
   "cell_type": "code",
   "execution_count": 111,
   "metadata": {},
   "outputs": [],
   "source": [
    "def find_cycle(rock_array):\n",
    "    previous_rocks = [rock_array.copy()]\n",
    "    cycle_found = False\n",
    "    for cycle in tqdm(range(1000000000)):\n",
    "        current_rocks = move_cycle(previous_rocks[-1].copy())\n",
    "        for index, rock in enumerate(previous_rocks):\n",
    "            if np.array_equal(rock, current_rocks):\n",
    "                print(f\"Cycle: {cycle}; Index {index}\")\n",
    "                cycle_found = True\n",
    "                break\n",
    "        previous_rocks.append(current_rocks)\n",
    "        if cycle_found:\n",
    "            return cycle, index, previous_rocks"
   ]
  },
  {
   "cell_type": "code",
   "execution_count": 112,
   "metadata": {},
   "outputs": [
    {
     "name": "stderr",
     "output_type": "stream",
     "text": [
      "  0%|          | 0/1000000000 [00:00<?, ?it/s]"
     ]
    },
    {
     "name": "stderr",
     "output_type": "stream",
     "text": [
      "  0%|          | 169/1000000000 [00:29<48768:20:12,  5.70it/s]"
     ]
    },
    {
     "name": "stdout",
     "output_type": "stream",
     "text": [
      "Cycle: 169; Index 142\n"
     ]
    },
    {
     "name": "stderr",
     "output_type": "stream",
     "text": [
      "\n"
     ]
    }
   ],
   "source": [
    "cycle, index, rocks = find_cycle(rock_array)"
   ]
  },
  {
   "cell_type": "code",
   "execution_count": 113,
   "metadata": {},
   "outputs": [
    {
     "data": {
      "text/plain": [
       "99875"
      ]
     },
     "execution_count": 113,
     "metadata": {},
     "output_type": "execute_result"
    }
   ],
   "source": [
    "position = (1000000000 - index) % (cycle - index + 1) + index\n",
    "score_rocks(rocks[position])"
   ]
  },
  {
   "cell_type": "code",
   "execution_count": 114,
   "metadata": {},
   "outputs": [
    {
     "name": "stderr",
     "output_type": "stream",
     "text": [
      "  0%|          | 9/1000000000 [00:00<479:02:14, 579.87it/s]"
     ]
    },
    {
     "name": "stdout",
     "output_type": "stream",
     "text": [
      "Cycle: 9; Index 3\n"
     ]
    },
    {
     "name": "stderr",
     "output_type": "stream",
     "text": [
      "\n"
     ]
    }
   ],
   "source": [
    "example_cycle, example_index, example_rocks = find_cycle(rock_example_array)"
   ]
  },
  {
   "cell_type": "code",
   "execution_count": 115,
   "metadata": {},
   "outputs": [
    {
     "data": {
      "text/plain": [
       "64"
      ]
     },
     "execution_count": 115,
     "metadata": {},
     "output_type": "execute_result"
    }
   ],
   "source": [
    "position = (1000000000 - example_index) % (example_cycle - example_index + 1) + example_index\n",
    "score_rocks(example_rocks[position])"
   ]
  },
  {
   "cell_type": "code",
   "execution_count": null,
   "metadata": {},
   "outputs": [],
   "source": []
  }
 ],
 "metadata": {
  "kernelspec": {
   "display_name": ".venv",
   "language": "python",
   "name": "python3"
  },
  "language_info": {
   "codemirror_mode": {
    "name": "ipython",
    "version": 3
   },
   "file_extension": ".py",
   "mimetype": "text/x-python",
   "name": "python",
   "nbconvert_exporter": "python",
   "pygments_lexer": "ipython3",
   "version": "3.8.10"
  }
 },
 "nbformat": 4,
 "nbformat_minor": 2
}
