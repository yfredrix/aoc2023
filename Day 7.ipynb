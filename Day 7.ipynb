{
 "cells": [
  {
   "cell_type": "code",
   "execution_count": 3,
   "metadata": {},
   "outputs": [],
   "source": [
    "example = \"\"\"32T3K 765\n",
    "T55J5 684\n",
    "KK677 28\n",
    "KTJJT 220\n",
    "QQQJA 483\"\"\""
   ]
  },
  {
   "cell_type": "code",
   "execution_count": 42,
   "metadata": {},
   "outputs": [],
   "source": [
    "with open('./data/Day 7/input.txt') as f:\n",
    "    data = f.read()"
   ]
  },
  {
   "cell_type": "code",
   "execution_count": 4,
   "metadata": {},
   "outputs": [],
   "source": [
    "def parse_camel_cards(input_string: str) -> list[dict[str, str|int]]:\n",
    "    camel_cards = []\n",
    "    card_scores = input_string.splitlines()\n",
    "    for card_score in card_scores:\n",
    "        card, score = card_score.split()\n",
    "        camel_cards.append({\"card\": card, \"bet\": int(score)})\n",
    "    return camel_cards\n"
   ]
  },
  {
   "cell_type": "code",
   "execution_count": 45,
   "metadata": {},
   "outputs": [],
   "source": [
    "scores = {\n",
    "    \"Five of a kind\": 7,\n",
    "    \"Four of a kind\": 6,\n",
    "    \"Full House\": 5,\n",
    "    \"Three of a kind\": 4,\n",
    "    \"Two pair\": 3,\n",
    "    \"One pair\": 2,\n",
    "    \"High card\": 1,\n",
    "}\n",
    "card_translate = {\n",
    "    \"A\": \"14\",\n",
    "    \"K\": \"13\",\n",
    "    \"Q\": \"12\",\n",
    "    \"J\": \"11\",\n",
    "    \"T\": \"10\",\n",
    "    \"9\": \"09\",\n",
    "    \"8\": \"08\",\n",
    "    \"7\": \"07\",\n",
    "    \"6\": \"06\",\n",
    "    \"5\": \"05\",\n",
    "    \"4\": \"04\",\n",
    "    \"3\": \"03\",\n",
    "    \"2\": \"02\",\n",
    "}"
   ]
  },
  {
   "cell_type": "code",
   "execution_count": 46,
   "metadata": {},
   "outputs": [],
   "source": [
    "def score_card(card):\n",
    "    nr_char = {}\n",
    "    for item in card:\n",
    "        if item not in nr_char:\n",
    "            nr_char[item]=0\n",
    "        nr_char[item]+=1\n",
    "    nrs = list(nr_char.values())\n",
    "    if 5 in nrs:\n",
    "        return 'Five of a kind'\n",
    "    elif 4 in nrs:\n",
    "        return 'Four of a kind'\n",
    "    elif 3 in nrs and 2 in nrs:\n",
    "        return 'Full House'\n",
    "    elif 3 in nrs:\n",
    "        return 'Three of a kind'\n",
    "    elif 2 in nrs:\n",
    "        if nrs.count(2) == 2:\n",
    "            return 'Two pair'\n",
    "        else:\n",
    "            return 'One pair'\n",
    "    else:\n",
    "        return 'High card'"
   ]
  },
  {
   "cell_type": "markdown",
   "metadata": {},
   "source": [
    "# Part 1"
   ]
  },
  {
   "cell_type": "code",
   "execution_count": 47,
   "metadata": {},
   "outputs": [],
   "source": [
    "example_cards = parse_camel_cards(example)"
   ]
  },
  {
   "cell_type": "code",
   "execution_count": 48,
   "metadata": {},
   "outputs": [
    {
     "name": "stdout",
     "output_type": "stream",
     "text": [
      "6440\n"
     ]
    }
   ],
   "source": [
    "for i, carditem in enumerate(example_cards):\n",
    "    carditem[\"type\"] = score_card(carditem[\"card\"])\n",
    "    cardvalue = \"\"\n",
    "    for char in carditem[\"card\"]:\n",
    "        cardvalue += card_translate[char]\n",
    "    carditem[\"sort_score\"] = int(str(scores[carditem[\"type\"]]) + cardvalue)\n",
    "sorted_example_cards = sorted(\n",
    "    example_cards, key=lambda x: x[\"sort_score\"], reverse=False\n",
    ")\n",
    "total = 0\n",
    "for nr, row in enumerate(sorted_example_cards):\n",
    "    total += row[\"bet\"] * (nr + 1)\n",
    "print(total)"
   ]
  },
  {
   "cell_type": "code",
   "execution_count": 49,
   "metadata": {},
   "outputs": [],
   "source": [
    "cards = parse_camel_cards(data)"
   ]
  },
  {
   "cell_type": "code",
   "execution_count": 50,
   "metadata": {},
   "outputs": [
    {
     "name": "stdout",
     "output_type": "stream",
     "text": [
      "248396258\n"
     ]
    }
   ],
   "source": [
    "for i, carditem in enumerate(cards):\n",
    "    carditem[\"type\"] = score_card(carditem[\"card\"])\n",
    "    cardvalue = \"\"\n",
    "    for char in carditem[\"card\"]:\n",
    "        cardvalue += card_translate[char]\n",
    "    carditem[\"sort_score\"] = int(str(scores[carditem[\"type\"]]) + cardvalue)\n",
    "sorted_cards = sorted(\n",
    "    cards, key=lambda x: x[\"sort_score\"], reverse=False\n",
    ")\n",
    "total = 0\n",
    "for nr, row in enumerate(sorted_cards):\n",
    "    total += row[\"bet\"] * (nr + 1)\n",
    "print(total)"
   ]
  },
  {
   "cell_type": "markdown",
   "metadata": {},
   "source": [
    "# Part 2"
   ]
  },
  {
   "cell_type": "code",
   "execution_count": 53,
   "metadata": {},
   "outputs": [],
   "source": [
    "\n",
    "card_translate_part_2 = {\n",
    "    \"A\": \"14\",\n",
    "    \"K\": \"13\",\n",
    "    \"Q\": \"12\",\n",
    "    \"T\": \"10\",\n",
    "    \"9\": \"09\",\n",
    "    \"8\": \"08\",\n",
    "    \"7\": \"07\",\n",
    "    \"6\": \"06\",\n",
    "    \"5\": \"05\",\n",
    "    \"4\": \"04\",\n",
    "    \"3\": \"03\",\n",
    "    \"2\": \"02\",\n",
    "    \"J\": \"01\",\n",
    "}"
   ]
  },
  {
   "cell_type": "code",
   "execution_count": 130,
   "metadata": {},
   "outputs": [],
   "source": [
    "def score_card_part_2(card):\n",
    "    \"\"\"Calculate the type of a card;\n",
    "    With the following types:\n",
    "    Five of a kind\n",
    "    Four of a kind\n",
    "    Full House: Three of a kind and a pair\n",
    "    Three of a kind\n",
    "    Two pair\n",
    "    One pair\n",
    "    High card: None of the above\n",
    "\n",
    "    As additional rule: Cards with a J are a joker and can be used as any card.\n",
    "    \"\"\"\n",
    "    nr_char = {}\n",
    "    for item in card:\n",
    "        if item not in nr_char:\n",
    "            nr_char[item] = 0\n",
    "        nr_char[item] += 1\n",
    "    nrs = sorted(list(nr_char.values()), reverse=True)\n",
    "    n_jokers = nr_char.get(\"J\", 0)\n",
    "    # Time to make things terrible\n",
    "    if nrs == [1, 1, 1, 1, 1]:\n",
    "        if n_jokers != 0:  # High card upgraded to 1 pair\n",
    "            return \"One pair\"\n",
    "        else:\n",
    "            return \"High card\"\n",
    "    elif nrs == [2, 1, 1, 1]:\n",
    "        if n_jokers != 0:\n",
    "            return \"Three of a kind\"\n",
    "        else:\n",
    "            return \"One pair\"\n",
    "    elif nrs == [2, 2, 1]:\n",
    "        if n_jokers == 2:\n",
    "            return \"Four of a kind\"\n",
    "        elif n_jokers == 1:\n",
    "            return \"Full House\"\n",
    "        else:\n",
    "            return \"Two pair\"\n",
    "    elif nrs == [3, 1, 1]:\n",
    "        if n_jokers != 0:  #  High card or 3oaK upgraded to 4oaK\n",
    "            return \"Four of a kind\"\n",
    "        else:\n",
    "            return \"Three of a kind\"\n",
    "    elif n_jokers != 0:  # If any J present after this point, it'll result in 5oaK\n",
    "        return \"Five of a kind\"\n",
    "    elif nrs == [3, 2]:\n",
    "        return \"Full House\"\n",
    "    elif nrs == [4, 1]:\n",
    "        return \"Four of a kind\"\n",
    "    elif 5 in nrs:\n",
    "        return \"Five of a kind\"\n",
    "    else:\n",
    "        print(\"What kind of hand even is this?!\")"
   ]
  },
  {
   "cell_type": "code",
   "execution_count": 131,
   "metadata": {},
   "outputs": [
    {
     "name": "stdout",
     "output_type": "stream",
     "text": [
      "5905\n"
     ]
    }
   ],
   "source": [
    "for i, carditem in enumerate(example_cards):\n",
    "    carditem[\"type\"] = score_card_part_2(carditem[\"card\"])\n",
    "    cardvalue = \"\"\n",
    "    for char in carditem[\"card\"]:\n",
    "        cardvalue += card_translate_part_2[char]\n",
    "    carditem[\"sort_score\"] = int(str(scores[carditem[\"type\"]]) + cardvalue)\n",
    "sorted_example_cards = sorted(\n",
    "    example_cards, key=lambda x: x[\"sort_score\"], reverse=False\n",
    ")\n",
    "total = 0\n",
    "for nr, row in enumerate(sorted_example_cards):\n",
    "    total += row[\"bet\"] * (nr + 1)\n",
    "print(total)"
   ]
  },
  {
   "cell_type": "code",
   "execution_count": 136,
   "metadata": {},
   "outputs": [
    {
     "name": "stdout",
     "output_type": "stream",
     "text": [
      "246436046\n"
     ]
    }
   ],
   "source": [
    "for i, carditem in enumerate(cards):\n",
    "    carditem[\"type\"] = score_card_part_2(carditem[\"card\"])\n",
    "    cardvalue = \"\"\n",
    "    for char in carditem[\"card\"]:\n",
    "        cardvalue += card_translate_part_2[char]\n",
    "    carditem[\"sort_score\"] = int(str(scores[carditem[\"type\"]]) + cardvalue)\n",
    "sorted_cards = sorted(cards, key=lambda x: x[\"sort_score\"], reverse=False)\n",
    "total = 0\n",
    "for nr, row in enumerate(sorted_cards):\n",
    "    total += row[\"bet\"] * (nr + 1)\n",
    "print(total)"
   ]
  },
  {
   "cell_type": "code",
   "execution_count": null,
   "metadata": {},
   "outputs": [],
   "source": []
  }
 ],
 "metadata": {
  "kernelspec": {
   "display_name": ".venv",
   "language": "python",
   "name": "python3"
  },
  "language_info": {
   "codemirror_mode": {
    "name": "ipython",
    "version": 3
   },
   "file_extension": ".py",
   "mimetype": "text/x-python",
   "name": "python",
   "nbconvert_exporter": "python",
   "pygments_lexer": "ipython3",
   "version": "3.11.7"
  }
 },
 "nbformat": 4,
 "nbformat_minor": 2
}
