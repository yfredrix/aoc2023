{
 "cells": [
  {
   "cell_type": "code",
   "execution_count": 3,
   "metadata": {},
   "outputs": [],
   "source": [
    "example = \"\"\"2413432311323\n",
    "3215453535623\n",
    "3255245654254\n",
    "3446585845452\n",
    "4546657867536\n",
    "1438598798454\n",
    "4457876987766\n",
    "3637877979653\n",
    "4654967986887\n",
    "4564679986453\n",
    "1224686865563\n",
    "2546548887735\n",
    "4322674655533\"\"\""
   ]
  },
  {
   "cell_type": "code",
   "execution_count": 4,
   "metadata": {},
   "outputs": [],
   "source": [
    "with open('./data/Day 17/input.txt') as f:\n",
    "    data = f.read()"
   ]
  },
  {
   "cell_type": "code",
   "execution_count": 96,
   "metadata": {},
   "outputs": [],
   "source": [
    "def parse_input(data):\n",
    "    return [list(map(int, line)) for line in data.splitlines()]"
   ]
  },
  {
   "cell_type": "markdown",
   "metadata": {},
   "source": [
    "# Part 1"
   ]
  },
  {
   "cell_type": "code",
   "execution_count": 185,
   "metadata": {},
   "outputs": [],
   "source": [
    "##### CODE takes to long\n",
    "\n",
    "from collections import deque\n",
    "import numpy as np\n",
    "def walk_grid(grid, start, end):\n",
    "    directions = [(1, 0), (-1, 0), (0, 1), (0, -1)]\n",
    "    min_heatloss = float('inf')\n",
    "    \n",
    "    heatloss_grid_steps = [[[float('inf') for k in range(4)]for i in range(len(grid[0]))] for j in range(len(grid))]\n",
    "    heatloss_grid = np.full((len(grid), len(grid[0])), float('inf'))\n",
    "\n",
    "    queue = deque([(start, (1, 0), 0, 0), (start, (0, -1), 0, 0)])\n",
    "    counter = 0\n",
    "    while queue:\n",
    "        counter += 1\n",
    "        loc, prev_dir, steps_taken, heatloss = queue.pop()\n",
    "        x, y = loc\n",
    "        # Kill route if heatloss is larger than the smallest heatloss found so far\n",
    "        if heatloss >= min_heatloss:\n",
    "            continue\n",
    "\n",
    "        # Kill route if another route has already found a lower heatloss for this location\n",
    "        if heatloss >= heatloss_grid_steps[y][x][steps_taken]:\n",
    "            continue\n",
    "\n",
    "        # Kill route if we are out of bounds\n",
    "        if x < 0 or y < 0 or x >= len(grid[0]) or y >= len(grid):\n",
    "            continue\n",
    "\n",
    "        # Kill route if we are at the goal\n",
    "        if (x, y) == end:\n",
    "            min_heatloss = min(min_heatloss, heatloss)\n",
    "            heatloss_grid[y][x] = min(heatloss_grid[y][x], heatloss)\n",
    "            heatloss_grid_steps[y][x][steps_taken] = min(heatloss_grid_steps[y][x][steps_taken], heatloss)\n",
    "            continue\n",
    "\n",
    "        # Knowing that heatloss 2091 is too high due to earlier greedy answer\n",
    "        if heatloss >= 2091:\n",
    "            continue\n",
    "\n",
    "        # Add all possible directions to the queue\n",
    "        for direction in directions:\n",
    "            # Kill route if we are going back the way we came\n",
    "            if direction == (-prev_dir[0], -prev_dir[1]):\n",
    "                continue\n",
    "\n",
    "            # Kill route if we are going the same direction as before and have taken more than 3 steps\n",
    "            if direction == prev_dir:\n",
    "                if steps_taken >= 3:\n",
    "                    continue\n",
    "                new_steps_taken = steps_taken + 1\n",
    "            else:\n",
    "                new_steps_taken = 1\n",
    "            \n",
    "            dx, dy = direction\n",
    "            \n",
    "            # Kill route if we are out of bounds\n",
    "            if x + dx < 0 or y +dy < 0 or x + dx >= len(grid[0]) or y + dy >= len(grid):\n",
    "                continue\n",
    "\n",
    "            queue.append(((x + dx, y + dy), direction, new_steps_taken, heatloss + grid[y][x]))\n",
    "            heatloss_grid_steps[y][x][steps_taken] = min(heatloss_grid_steps[y][x][steps_taken], heatloss)\n",
    "            heatloss_grid[y][x] = min(heatloss, heatloss_grid[y][x])\n",
    "\n",
    "        if counter % 1_000_000 == 0:\n",
    "            print(f\"Counter: {counter}, heatloss_grid_empty: {np.count_nonzero(np.where(heatloss_grid == float('inf'))[0])}, Current min heatloss: {min_heatloss}, Queue length: {len(queue)}\")\n",
    "    return min_heatloss, heatloss_grid, heatloss_grid_steps"
   ]
  },
  {
   "cell_type": "code",
   "execution_count": 178,
   "metadata": {},
   "outputs": [
    {
     "name": "stdout",
     "output_type": "stream",
     "text": [
      "102\n"
     ]
    }
   ],
   "source": [
    "example_data = parse_input(example)\n",
    "min_heatloss, min_heatloss_grid, heatloss_grid_steps = walk_grid(example_data, (0, 0), (len(example_data[0])-1, len(example_data)-1))\n",
    "print(min_heatloss)"
   ]
  },
  {
   "cell_type": "code",
   "execution_count": 210,
   "metadata": {},
   "outputs": [],
   "source": [
    "### With help of reddit to learn that heapq is a thing\n",
    "\n",
    "import heapq\n",
    "\n",
    "def walk_grid(grid, end):\n",
    "    directions = [(1, 0), (-1, 0), (0, 1), (0, -1)]\n",
    "    \n",
    "    # locations, direction_index, steps_taken\n",
    "    visited = set([((1, 0), 0, 1), ((0, 1), 2, 1)])\n",
    "\n",
    "    # Heatloss, location, direction_index, steps_taken\n",
    "    head = [(int(grid[0][1]), (1, 0), 0, 1), (int(grid[1][0]), (0, 1), 2, 1)]\n",
    "    \n",
    "    while head:\n",
    "        heatloss, loc, direction_index, steps_taken,  = heapq.heappop(head)\n",
    "        x, y = loc\n",
    "        # Kill route if we are at the goal\n",
    "        if (x, y) == end:\n",
    "            return heatloss\n",
    "\n",
    "        # Add all possible directions to the queue\n",
    "        for i, new_direction in enumerate(directions):\n",
    "            dx, dy = new_direction\n",
    "            new_x, new_y = x + dx, y + dy\n",
    "            # Kill route if we are out of bounds\n",
    "            if new_x < 0 or new_y < 0 or new_x >= len(grid[0]) or new_y >= len(grid) or (i == direction_index and steps_taken >= 3):\n",
    "                continue\n",
    "\n",
    "            # Kill route if we are going back the way we came\n",
    "            if new_direction == (-directions[direction_index][0], -directions[direction_index][1]):\n",
    "                continue\n",
    "\n",
    "            new_heatloss = heatloss + grid[new_y][new_x]\n",
    "            new_steps_taken = steps_taken + 1 if i == direction_index else 1\n",
    "\n",
    "            if ((new_x, new_y), i, new_steps_taken) not in visited:\n",
    "                heapq.heappush(head, (new_heatloss, (new_x, new_y), i, new_steps_taken))\n",
    "                visited.add(((new_x, new_y), i, new_steps_taken))"
   ]
  },
  {
   "cell_type": "code",
   "execution_count": 213,
   "metadata": {},
   "outputs": [
    {
     "name": "stdout",
     "output_type": "stream",
     "text": [
      "102\n"
     ]
    }
   ],
   "source": [
    "example_data = parse_input(example)\n",
    "min_heatloss = walk_grid(example_data, (len(example_data[0])-1, len(example_data)-1))\n",
    "print(min_heatloss)"
   ]
  },
  {
   "cell_type": "code",
   "execution_count": 214,
   "metadata": {},
   "outputs": [
    {
     "name": "stdout",
     "output_type": "stream",
     "text": [
      "847\n"
     ]
    }
   ],
   "source": [
    "heatmap_parsed = parse_input(data)\n",
    "min_heatloss = walk_grid(heatmap_parsed, (len(heatmap_parsed[0])-1, len(heatmap_parsed)-1))\n",
    "print(min_heatloss)"
   ]
  },
  {
   "cell_type": "markdown",
   "metadata": {},
   "source": [
    "# Part 2"
   ]
  },
  {
   "cell_type": "code",
   "execution_count": 219,
   "metadata": {},
   "outputs": [],
   "source": [
    "\n",
    "import heapq\n",
    "\n",
    "def walk_grid_distances(grid, end, min_count = 4, max_count = 10):\n",
    "    directions = [(1, 0), (-1, 0), (0, 1), (0, -1)]\n",
    "    \n",
    "    # locations, direction_index, steps_taken\n",
    "    visited = set([((1, 0), 0, 1), ((0, 1), 2, 1)])\n",
    "\n",
    "    # Heatloss, location, direction_index, steps_taken\n",
    "    head = [(int(grid[0][1]), (1, 0), 0, 1), (int(grid[1][0]), (0, 1), 2, 1)]\n",
    "    \n",
    "    while head:\n",
    "        heatloss, loc, direction_index, steps_taken,  = heapq.heappop(head)\n",
    "        x, y = loc\n",
    "        # Kill route if we are at the goal\n",
    "        if (x, y) == end and steps_taken >= min_count and steps_taken <= max_count:\n",
    "            return heatloss\n",
    "        \n",
    "        # Add all possible directions to the queue\n",
    "        for i, new_direction in enumerate(directions):\n",
    "            dx, dy = new_direction\n",
    "            new_x, new_y = x + dx, y + dy\n",
    "            # Kill route if we are out of bounds\n",
    "            if new_x < 0 or new_y < 0 or new_x >= len(grid[0]) or new_y >= len(grid) or (i == direction_index and steps_taken >= max_count):\n",
    "                continue\n",
    "\n",
    "            # Kill route if we are going back the way we came\n",
    "            if new_direction == (-directions[direction_index][0], -directions[direction_index][1]):\n",
    "                continue\n",
    "\n",
    "            if i != direction_index and steps_taken < min_count:\n",
    "                continue\n",
    "\n",
    "            new_heatloss = heatloss + grid[new_y][new_x]\n",
    "            new_steps_taken = steps_taken + 1 if i == direction_index else 1\n",
    "\n",
    "            if ((new_x, new_y), i, new_steps_taken) not in visited:\n",
    "                heapq.heappush(head, (new_heatloss, (new_x, new_y), i, new_steps_taken))\n",
    "                visited.add(((new_x, new_y), i, new_steps_taken))"
   ]
  },
  {
   "cell_type": "code",
   "execution_count": 220,
   "metadata": {},
   "outputs": [
    {
     "name": "stdout",
     "output_type": "stream",
     "text": [
      "94\n"
     ]
    }
   ],
   "source": [
    "example_data = parse_input(example)\n",
    "min_heatloss = walk_grid_distances(example_data, (len(example_data[0])-1, len(example_data)-1))\n",
    "print(min_heatloss)"
   ]
  },
  {
   "cell_type": "code",
   "execution_count": 221,
   "metadata": {},
   "outputs": [
    {
     "name": "stdout",
     "output_type": "stream",
     "text": [
      "997\n"
     ]
    }
   ],
   "source": [
    "heatmap_parsed = parse_input(data)\n",
    "min_heatloss = walk_grid_distances(heatmap_parsed, (len(heatmap_parsed[0])-1, len(heatmap_parsed)-1))\n",
    "print(min_heatloss)"
   ]
  },
  {
   "cell_type": "code",
   "execution_count": null,
   "metadata": {},
   "outputs": [],
   "source": []
  }
 ],
 "metadata": {
  "kernelspec": {
   "display_name": ".venv",
   "language": "python",
   "name": "python3"
  },
  "language_info": {
   "codemirror_mode": {
    "name": "ipython",
    "version": 3
   },
   "file_extension": ".py",
   "mimetype": "text/x-python",
   "name": "python",
   "nbconvert_exporter": "python",
   "pygments_lexer": "ipython3",
   "version": "3.12.1"
  }
 },
 "nbformat": 4,
 "nbformat_minor": 2
}
