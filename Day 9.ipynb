{
 "cells": [
  {
   "cell_type": "code",
   "execution_count": 1,
   "metadata": {},
   "outputs": [],
   "source": [
    "example = \"\"\"0 3 6 9 12 15\n",
    "1 3 6 10 15 21\n",
    "10 13 16 21 30 45\"\"\""
   ]
  },
  {
   "cell_type": "code",
   "execution_count": 18,
   "metadata": {},
   "outputs": [],
   "source": [
    "with open(\"./data/Day 9/input.txt\") as f:\n",
    "    data = f.read()"
   ]
  },
  {
   "cell_type": "code",
   "execution_count": 2,
   "metadata": {},
   "outputs": [],
   "source": [
    "import numpy as np"
   ]
  },
  {
   "cell_type": "code",
   "execution_count": 3,
   "metadata": {},
   "outputs": [],
   "source": [
    "def parse_input(input: str):\n",
    "    rows = input.splitlines()\n",
    "    output = []\n",
    "    for row in rows:\n",
    "        output.append(np.array([int(x) for x in row.split()]))\n",
    "    return output"
   ]
  },
  {
   "cell_type": "code",
   "execution_count": 9,
   "metadata": {},
   "outputs": [],
   "source": [
    "def get_next_value(row: np.array):\n",
    "    depth = 0\n",
    "    temp = [row]\n",
    "    diff = np.ediff1d(row)\n",
    "    while any(diff):\n",
    "        depth += 1\n",
    "        temp.append(diff)\n",
    "        diff = np.ediff1d(diff)\n",
    "    temp.append(np.append(diff,0))\n",
    "    for i in range(depth, -1, -1):\n",
    "        temp[i] = np.append(temp[i], temp[i][-1]+temp[i+1][-1])\n",
    "    return temp[0][-1]"
   ]
  },
  {
   "cell_type": "markdown",
   "metadata": {},
   "source": [
    "# Part 1"
   ]
  },
  {
   "cell_type": "code",
   "execution_count": 10,
   "metadata": {},
   "outputs": [],
   "source": [
    "example_parsed = parse_input(example)\n",
    "answers = []\n",
    "for row in example_parsed:\n",
    "    answers.append(np.append(row, get_next_value(row)))"
   ]
  },
  {
   "cell_type": "code",
   "execution_count": 21,
   "metadata": {},
   "outputs": [
    {
     "data": {
      "text/plain": [
       "114"
      ]
     },
     "execution_count": 21,
     "metadata": {},
     "output_type": "execute_result"
    }
   ],
   "source": [
    "example_parsed = parse_input(example)\n",
    "example_answers = []\n",
    "for row in example_parsed:\n",
    "    example_answers.append(get_next_value(row))\n",
    "sum(example_answers)"
   ]
  },
  {
   "cell_type": "code",
   "execution_count": 22,
   "metadata": {},
   "outputs": [
    {
     "data": {
      "text/plain": [
       "1992273652"
      ]
     },
     "execution_count": 22,
     "metadata": {},
     "output_type": "execute_result"
    }
   ],
   "source": [
    "parsed = parse_input(data)\n",
    "answers = []\n",
    "for row in parsed:\n",
    "    answers.append(get_next_value(row))\n",
    "sum(answers)"
   ]
  },
  {
   "cell_type": "markdown",
   "metadata": {},
   "source": [
    "# Part 2"
   ]
  },
  {
   "cell_type": "code",
   "execution_count": 23,
   "metadata": {},
   "outputs": [],
   "source": [
    "def get_previous_value(row: np.array):\n",
    "    depth = 0\n",
    "    temp = [row]\n",
    "    diff = np.ediff1d(row)\n",
    "    while any(diff):\n",
    "        depth += 1\n",
    "        temp.append(diff)\n",
    "        diff = np.ediff1d(diff)\n",
    "    temp.append(np.append(0, diff))\n",
    "    for i in range(depth, -1, -1):\n",
    "        temp[i] = np.append(\n",
    "            temp[i][0] - temp[i + 1][0],\n",
    "            temp[i])\n",
    "    return temp[0][0]"
   ]
  },
  {
   "cell_type": "code",
   "execution_count": 24,
   "metadata": {},
   "outputs": [
    {
     "data": {
      "text/plain": [
       "2"
      ]
     },
     "execution_count": 24,
     "metadata": {},
     "output_type": "execute_result"
    }
   ],
   "source": [
    "example_parsed = parse_input(example)\n",
    "example_answers = []\n",
    "for row in example_parsed:\n",
    "    example_answers.append(get_previous_value(row))\n",
    "sum(example_answers)"
   ]
  },
  {
   "cell_type": "code",
   "execution_count": 25,
   "metadata": {},
   "outputs": [
    {
     "data": {
      "text/plain": [
       "1012"
      ]
     },
     "execution_count": 25,
     "metadata": {},
     "output_type": "execute_result"
    }
   ],
   "source": [
    "parsed = parse_input(data)\n",
    "answers = []\n",
    "for row in parsed:\n",
    "    answers.append(get_previous_value(row))\n",
    "sum(answers)"
   ]
  },
  {
   "cell_type": "code",
   "execution_count": null,
   "metadata": {},
   "outputs": [],
   "source": []
  }
 ],
 "metadata": {
  "kernelspec": {
   "display_name": ".venv",
   "language": "python",
   "name": "python3"
  },
  "language_info": {
   "codemirror_mode": {
    "name": "ipython",
    "version": 3
   },
   "file_extension": ".py",
   "mimetype": "text/x-python",
   "name": "python",
   "nbconvert_exporter": "python",
   "pygments_lexer": "ipython3",
   "version": "3.11.7"
  }
 },
 "nbformat": 4,
 "nbformat_minor": 2
}
