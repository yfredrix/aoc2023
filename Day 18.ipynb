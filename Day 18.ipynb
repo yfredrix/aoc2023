{
 "cells": [
  {
   "cell_type": "code",
   "execution_count": 38,
   "metadata": {},
   "outputs": [],
   "source": [
    "example = \"\"\"R 6 (#70c710)\n",
    "D 5 (#0dc571)\n",
    "L 2 (#5713f0)\n",
    "D 2 (#d2c081)\n",
    "R 2 (#59c680)\n",
    "D 2 (#411b91)\n",
    "L 5 (#8ceee2)\n",
    "U 2 (#caa173)\n",
    "L 1 (#1b58a2)\n",
    "U 2 (#caa171)\n",
    "R 2 (#7807d2)\n",
    "U 3 (#a77fa3)\n",
    "L 2 (#015232)\n",
    "U 2 (#7a21e3)\"\"\""
   ]
  },
  {
   "cell_type": "code",
   "execution_count": 39,
   "metadata": {},
   "outputs": [],
   "source": [
    "with open(\"./data/Day 18/input.txt\") as f:\n",
    "    data = f.read()"
   ]
  },
  {
   "cell_type": "code",
   "execution_count": 40,
   "metadata": {},
   "outputs": [],
   "source": [
    "def parse_input(inputstr):\n",
    "    return [line.split() for line in inputstr.splitlines()]"
   ]
  },
  {
   "cell_type": "code",
   "execution_count": 49,
   "metadata": {},
   "outputs": [],
   "source": [
    "from shapely import Polygon\n",
    "\n",
    "def create_Polygon(instructions):\n",
    "    start = (0,0)\n",
    "    points = [start]\n",
    "    for instruction in instructions:\n",
    "        direction = instruction[0]\n",
    "        distance = int(instruction[1])\n",
    "        if direction == \"R\":\n",
    "            points.append((points[-1][0]+distance,points[-1][1]))\n",
    "        elif direction == \"L\":\n",
    "            points.append((points[-1][0]-distance,points[-1][1]))\n",
    "        elif direction == \"U\":\n",
    "            points.append((points[-1][0],points[-1][1]+distance))\n",
    "        elif direction == \"D\":\n",
    "            points.append((points[-1][0],points[-1][1]-distance))\n",
    "    return Polygon(points)\n"
   ]
  },
  {
   "cell_type": "markdown",
   "metadata": {},
   "source": [
    "# Part 1"
   ]
  },
  {
   "cell_type": "code",
   "execution_count": 50,
   "metadata": {},
   "outputs": [],
   "source": [
    "example_parsed = parse_input(example)\n",
    "parsed = parse_input(data)"
   ]
  },
  {
   "cell_type": "code",
   "execution_count": 51,
   "metadata": {},
   "outputs": [
    {
     "name": "stdout",
     "output_type": "stream",
     "text": [
      "62\n"
     ]
    }
   ],
   "source": [
    "example_polygon = create_Polygon(example_parsed)\n",
    "area = example_polygon.area + example_polygon.boundary.length / 2 + 1\n",
    "print(int(area))"
   ]
  },
  {
   "cell_type": "code",
   "execution_count": 52,
   "metadata": {},
   "outputs": [
    {
     "name": "stdout",
     "output_type": "stream",
     "text": [
      "74074\n"
     ]
    }
   ],
   "source": [
    "polygon = create_Polygon(parsed)\n",
    "area = polygon.area + polygon.boundary.length / 2 + 1\n",
    "print(int(area))"
   ]
  },
  {
   "cell_type": "markdown",
   "metadata": {},
   "source": [
    "# Part 2"
   ]
  },
  {
   "cell_type": "code",
   "execution_count": 53,
   "metadata": {},
   "outputs": [],
   "source": [
    "translate = {\"0\":\"R\", \"1\":\"D\", \"2\":\"L\", \"3\":\"U\"}\n",
    "\n",
    "def parse_input_2(inputstr):\n",
    "    return [\n",
    "        [\n",
    "            translate[line.split()[2].strip(\"()\")[-1]],\n",
    "            int(line.split()[2].strip(\"()\")[1:-1], 16),\n",
    "        ]\n",
    "        for line in inputstr.splitlines()\n",
    "    ]"
   ]
  },
  {
   "cell_type": "code",
   "execution_count": 54,
   "metadata": {},
   "outputs": [
    {
     "name": "stdout",
     "output_type": "stream",
     "text": [
      "952408144115\n"
     ]
    }
   ],
   "source": [
    "example_parsed = parse_input_2(example)\n",
    "example_polygon = create_Polygon(example_parsed)\n",
    "area = example_polygon.area + example_polygon.boundary.length/2 + 1\n",
    "print(int(area))"
   ]
  },
  {
   "cell_type": "code",
   "execution_count": 55,
   "metadata": {},
   "outputs": [
    {
     "name": "stdout",
     "output_type": "stream",
     "text": [
      "112074045986829\n"
     ]
    }
   ],
   "source": [
    "parsed = parse_input_2(data)\n",
    "polygon = create_Polygon(parsed)\n",
    "area = polygon.area + polygon.boundary.length / 2 + 1\n",
    "print(int(area))"
   ]
  },
  {
   "cell_type": "code",
   "execution_count": null,
   "metadata": {},
   "outputs": [],
   "source": []
  }
 ],
 "metadata": {
  "kernelspec": {
   "display_name": ".venv",
   "language": "python",
   "name": "python3"
  },
  "language_info": {
   "codemirror_mode": {
    "name": "ipython",
    "version": 3
   },
   "file_extension": ".py",
   "mimetype": "text/x-python",
   "name": "python",
   "nbconvert_exporter": "python",
   "pygments_lexer": "ipython3",
   "version": "3.8.10"
  }
 },
 "nbformat": 4,
 "nbformat_minor": 2
}
