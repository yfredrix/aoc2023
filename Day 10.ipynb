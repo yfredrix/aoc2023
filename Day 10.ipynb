{
 "cells": [
  {
   "cell_type": "code",
   "execution_count": 1,
   "metadata": {},
   "outputs": [],
   "source": [
    "example_1 = \"\"\".....\n",
    ".S-7.\n",
    ".|.|.\n",
    ".L-J.\n",
    ".....\"\"\"\n",
    "\n",
    "example_2 = \"\"\"..F7.\n",
    ".FJ|.\n",
    "SJ.L7\n",
    "|F--J\n",
    "LJ...\"\"\""
   ]
  },
  {
   "cell_type": "code",
   "execution_count": 2,
   "metadata": {},
   "outputs": [],
   "source": [
    "with open(\"./data/Day 10/input.txt\") as f:\n",
    "    data = f.read()"
   ]
  },
  {
   "cell_type": "code",
   "execution_count": 8,
   "metadata": {},
   "outputs": [],
   "source": [
    "import numpy as np"
   ]
  },
  {
   "cell_type": "code",
   "execution_count": 22,
   "metadata": {},
   "outputs": [],
   "source": [
    "def parse_input(input_str: str) -> np.array:\n",
    "    return np.array([list(row) for row in input_str.splitlines()])"
   ]
  },
  {
   "cell_type": "code",
   "execution_count": 65,
   "metadata": {},
   "outputs": [],
   "source": [
    "def get_monster_start(maze: np.array) -> tuple[int, int]:\n",
    "    indexes = np.where(maze == \"S\")\n",
    "    return (indexes[0][0], indexes[1][0])"
   ]
  },
  {
   "cell_type": "code",
   "execution_count": 113,
   "metadata": {},
   "outputs": [],
   "source": [
    "def check_connected_pipe(maze: np.array, previous: tuple[int, int], new: tuple[int, int]) -> bool:\n",
    "    diff_y = new[0] - previous[0]\n",
    "    diff_x = new[1] - previous[1]\n",
    "    if (maze[new] == '.'):\n",
    "        return False\n",
    "    elif (maze[new] == \"|\" or maze[new] == \"L\" or maze[new] ==\"J\") and diff_y == 1:\n",
    "        return True\n",
    "    elif (maze[new] == \"|\" or maze[new] == \"F\" or maze[new] ==\"7\") and diff_y == -1:\n",
    "        return True\n",
    "    elif (maze[new] == \"-\" or maze[new] == \"J\" or maze[new] ==\"7\") and diff_x == 1:\n",
    "        return True\n",
    "    elif (maze[new] == \"-\" or maze[new] == \"F\" or maze[new] ==\"L\") and diff_x == -1:\n",
    "        return True\n",
    "    elif (maze[new] == \"S\"):\n",
    "        return True\n",
    "    else:\n",
    "        return False"
   ]
  },
  {
   "cell_type": "code",
   "execution_count": 114,
   "metadata": {},
   "outputs": [],
   "source": [
    "def get_next_position(maze: np.array, previous: tuple[int, int], current: tuple[int, int]) -> tuple[int, int]:\n",
    "    diff_y = current[0] - previous[0]\n",
    "    diff_x = current[1] - previous[1]\n",
    "    if (maze[current] == \"|\") and diff_y == 1:\n",
    "        return (current[0]+1, current[1])\n",
    "    elif (maze[current] == \"|\") and diff_y == -1:\n",
    "        return (current[0]-1, current[1])\n",
    "    elif (maze[current] == \"-\") and diff_x == 1:\n",
    "        return (current[0], current[1]+1)\n",
    "    elif (maze[current] == \"-\") and diff_x == -1:\n",
    "        return (current[0], current[1]-1)\n",
    "    elif (maze[current] == \"L\") and diff_y == 1:\n",
    "        return (current[0], current[1]+1)\n",
    "    elif (maze[current] == \"L\") and diff_x == -1:\n",
    "        return (current[0]-1, current[1])\n",
    "    elif (maze[current] == \"J\") and diff_y == 1:\n",
    "        return (current[0], current[1]-1)\n",
    "    elif (maze[current] == \"J\") and diff_x == 1:\n",
    "        return (current[0]-1, current[1])\n",
    "    elif (maze[current] == \"7\") and diff_y == -1:\n",
    "        return (current[0], current[1]-1)\n",
    "    elif (maze[current] == \"7\") and diff_x == 1:\n",
    "        return (current[0]+1, current[1])\n",
    "    elif (maze[current] == \"F\") and diff_y == -1:\n",
    "        return (current[0], current[1]+1)\n",
    "    elif (maze[current] == \"F\") and diff_x == -1:\n",
    "        return (current[0]+1, current[1])\n",
    "    elif (maze[current] == \"S\"):\n",
    "        return (current[0], current[1])\n",
    "    else:\n",
    "        print(\"Error\")"
   ]
  },
  {
   "cell_type": "code",
   "execution_count": 115,
   "metadata": {},
   "outputs": [],
   "source": [
    "def track_pipe_network(maze: np.array, start_index: tuple[int]):\n",
    "    current_index = start_index\n",
    "    indexes_to_check = [(current_index[0] - 1, current_index[1]), (current_index[0] + 1, current_index[1]), (current_index[0], current_index[1] -1), (current_index[0], current_index[1]+1)]\n",
    "    for current_index in indexes_to_check:\n",
    "        pipe_network = list()\n",
    "        prev_index = start_index\n",
    "        steps = 0\n",
    "        while check_connected_pipe(maze, prev_index, current_index) and start_index not in pipe_network:\n",
    "            pipe_network.append(current_index)\n",
    "            temp_cur_index = current_index\n",
    "            current_index = get_next_position(maze, prev_index, current_index)\n",
    "            prev_index = temp_cur_index\n",
    "            steps += 1\n",
    "        if start_index in pipe_network:\n",
    "            pipe_network.append(start_index)\n",
    "            break\n",
    "    return round(steps/2), pipe_network"
   ]
  },
  {
   "cell_type": "markdown",
   "metadata": {},
   "source": [
    "# Part 1"
   ]
  },
  {
   "cell_type": "code",
   "execution_count": 118,
   "metadata": {},
   "outputs": [
    {
     "name": "stdout",
     "output_type": "stream",
     "text": [
      "Error\n"
     ]
    },
    {
     "ename": "KeyboardInterrupt",
     "evalue": "",
     "output_type": "error",
     "traceback": [
      "\u001b[1;31m---------------------------------------------------------------------------\u001b[0m",
      "\u001b[1;31mKeyboardInterrupt\u001b[0m                         Traceback (most recent call last)",
      "Cell \u001b[1;32mIn[118], line 3\u001b[0m\n\u001b[0;32m      1\u001b[0m example_1_maze \u001b[38;5;241m=\u001b[39m parse_input(example_1)\n\u001b[0;32m      2\u001b[0m example_1_start \u001b[38;5;241m=\u001b[39m get_monster_start(example_1_maze)\n\u001b[1;32m----> 3\u001b[0m example_1_monster_steps, example_1_pipe_network \u001b[38;5;241m=\u001b[39m \u001b[43mtrack_pipe_network\u001b[49m\u001b[43m(\u001b[49m\u001b[43mexample_1_maze\u001b[49m\u001b[43m,\u001b[49m\u001b[43m \u001b[49m\u001b[43mexample_1_start\u001b[49m\u001b[43m)\u001b[49m\n\u001b[0;32m      4\u001b[0m example_1_monster_steps\n",
      "Cell \u001b[1;32mIn[115], line 8\u001b[0m, in \u001b[0;36mtrack_pipe_network\u001b[1;34m(maze, start_index)\u001b[0m\n\u001b[0;32m      6\u001b[0m prev_index \u001b[38;5;241m=\u001b[39m start_index\n\u001b[0;32m      7\u001b[0m steps \u001b[38;5;241m=\u001b[39m \u001b[38;5;241m0\u001b[39m\n\u001b[1;32m----> 8\u001b[0m \u001b[38;5;28;01mwhile\u001b[39;00m \u001b[43mcheck_connected_pipe\u001b[49m(maze, prev_index, current_index) \u001b[38;5;129;01mand\u001b[39;00m start_index \u001b[38;5;129;01mnot\u001b[39;00m \u001b[38;5;129;01min\u001b[39;00m pipe_network:\n\u001b[0;32m      9\u001b[0m     pipe_network\u001b[38;5;241m.\u001b[39mappend(current_index)\n\u001b[0;32m     10\u001b[0m     temp_cur_index \u001b[38;5;241m=\u001b[39m current_index\n",
      "File \u001b[1;32mc:\\Users\\Skier\\OneDrive\\Documenten\\git\\aoc2023\\.venv\\Lib\\site-packages\\debugpy\\_vendored\\pydevd\\_pydevd_bundle\\pydevd_frame.py:988\u001b[0m, in \u001b[0;36mPyDBFrame.trace_dispatch\u001b[1;34m(self, frame, event, arg)\u001b[0m\n\u001b[0;32m    986\u001b[0m \u001b[38;5;66;03m# if thread has a suspend flag, we suspend with a busy wait\u001b[39;00m\n\u001b[0;32m    987\u001b[0m \u001b[38;5;28;01mif\u001b[39;00m info\u001b[38;5;241m.\u001b[39mpydev_state \u001b[38;5;241m==\u001b[39m STATE_SUSPEND:\n\u001b[1;32m--> 988\u001b[0m     \u001b[38;5;28;43mself\u001b[39;49m\u001b[38;5;241;43m.\u001b[39;49m\u001b[43mdo_wait_suspend\u001b[49m\u001b[43m(\u001b[49m\u001b[43mthread\u001b[49m\u001b[43m,\u001b[49m\u001b[43m \u001b[49m\u001b[43mframe\u001b[49m\u001b[43m,\u001b[49m\u001b[43m \u001b[49m\u001b[43mevent\u001b[49m\u001b[43m,\u001b[49m\u001b[43m \u001b[49m\u001b[43marg\u001b[49m\u001b[43m)\u001b[49m\n\u001b[0;32m    989\u001b[0m     \u001b[38;5;28;01mreturn\u001b[39;00m \u001b[38;5;28mself\u001b[39m\u001b[38;5;241m.\u001b[39mtrace_dispatch\n\u001b[0;32m    990\u001b[0m \u001b[38;5;28;01melse\u001b[39;00m:\n",
      "File \u001b[1;32mc:\\Users\\Skier\\OneDrive\\Documenten\\git\\aoc2023\\.venv\\Lib\\site-packages\\debugpy\\_vendored\\pydevd\\_pydevd_bundle\\pydevd_frame.py:165\u001b[0m, in \u001b[0;36mPyDBFrame.do_wait_suspend\u001b[1;34m(self, *args, **kwargs)\u001b[0m\n\u001b[0;32m    164\u001b[0m \u001b[38;5;28;01mdef\u001b[39;00m \u001b[38;5;21mdo_wait_suspend\u001b[39m(\u001b[38;5;28mself\u001b[39m, \u001b[38;5;241m*\u001b[39margs, \u001b[38;5;241m*\u001b[39m\u001b[38;5;241m*\u001b[39mkwargs):\n\u001b[1;32m--> 165\u001b[0m     \u001b[38;5;28;43mself\u001b[39;49m\u001b[38;5;241;43m.\u001b[39;49m\u001b[43m_args\u001b[49m\u001b[43m[\u001b[49m\u001b[38;5;241;43m0\u001b[39;49m\u001b[43m]\u001b[49m\u001b[38;5;241;43m.\u001b[39;49m\u001b[43mdo_wait_suspend\u001b[49m\u001b[43m(\u001b[49m\u001b[38;5;241;43m*\u001b[39;49m\u001b[43margs\u001b[49m\u001b[43m,\u001b[49m\u001b[43m \u001b[49m\u001b[38;5;241;43m*\u001b[39;49m\u001b[38;5;241;43m*\u001b[39;49m\u001b[43mkwargs\u001b[49m\u001b[43m)\u001b[49m\n",
      "File \u001b[1;32mc:\\Users\\Skier\\OneDrive\\Documenten\\git\\aoc2023\\.venv\\Lib\\site-packages\\debugpy\\_vendored\\pydevd\\pydevd.py:2070\u001b[0m, in \u001b[0;36mPyDB.do_wait_suspend\u001b[1;34m(self, thread, frame, event, arg, exception_type)\u001b[0m\n\u001b[0;32m   2067\u001b[0m             from_this_thread\u001b[38;5;241m.\u001b[39mappend(frame_custom_thread_id)\n\u001b[0;32m   2069\u001b[0m     \u001b[38;5;28;01mwith\u001b[39;00m \u001b[38;5;28mself\u001b[39m\u001b[38;5;241m.\u001b[39m_threads_suspended_single_notification\u001b[38;5;241m.\u001b[39mnotify_thread_suspended(thread_id, thread, stop_reason):\n\u001b[1;32m-> 2070\u001b[0m         keep_suspended \u001b[38;5;241m=\u001b[39m \u001b[38;5;28;43mself\u001b[39;49m\u001b[38;5;241;43m.\u001b[39;49m\u001b[43m_do_wait_suspend\u001b[49m\u001b[43m(\u001b[49m\u001b[43mthread\u001b[49m\u001b[43m,\u001b[49m\u001b[43m \u001b[49m\u001b[43mframe\u001b[49m\u001b[43m,\u001b[49m\u001b[43m \u001b[49m\u001b[43mevent\u001b[49m\u001b[43m,\u001b[49m\u001b[43m \u001b[49m\u001b[43marg\u001b[49m\u001b[43m,\u001b[49m\u001b[43m \u001b[49m\u001b[43msuspend_type\u001b[49m\u001b[43m,\u001b[49m\u001b[43m \u001b[49m\u001b[43mfrom_this_thread\u001b[49m\u001b[43m,\u001b[49m\u001b[43m \u001b[49m\u001b[43mframes_tracker\u001b[49m\u001b[43m)\u001b[49m\n\u001b[0;32m   2072\u001b[0m frames_list \u001b[38;5;241m=\u001b[39m \u001b[38;5;28;01mNone\u001b[39;00m\n\u001b[0;32m   2074\u001b[0m \u001b[38;5;28;01mif\u001b[39;00m keep_suspended:\n\u001b[0;32m   2075\u001b[0m     \u001b[38;5;66;03m# This means that we should pause again after a set next statement.\u001b[39;00m\n",
      "File \u001b[1;32mc:\\Users\\Skier\\OneDrive\\Documenten\\git\\aoc2023\\.venv\\Lib\\site-packages\\debugpy\\_vendored\\pydevd\\pydevd.py:2106\u001b[0m, in \u001b[0;36mPyDB._do_wait_suspend\u001b[1;34m(self, thread, frame, event, arg, suspend_type, from_this_thread, frames_tracker)\u001b[0m\n\u001b[0;32m   2103\u001b[0m         \u001b[38;5;28mself\u001b[39m\u001b[38;5;241m.\u001b[39m_call_input_hook()\n\u001b[0;32m   2105\u001b[0m     \u001b[38;5;28mself\u001b[39m\u001b[38;5;241m.\u001b[39mprocess_internal_commands()\n\u001b[1;32m-> 2106\u001b[0m     \u001b[43mtime\u001b[49m\u001b[38;5;241;43m.\u001b[39;49m\u001b[43msleep\u001b[49m\u001b[43m(\u001b[49m\u001b[38;5;241;43m0.01\u001b[39;49m\u001b[43m)\u001b[49m\n\u001b[0;32m   2108\u001b[0m \u001b[38;5;28mself\u001b[39m\u001b[38;5;241m.\u001b[39mcancel_async_evaluation(get_current_thread_id(thread), \u001b[38;5;28mstr\u001b[39m(\u001b[38;5;28mid\u001b[39m(frame)))\n\u001b[0;32m   2110\u001b[0m \u001b[38;5;66;03m# process any stepping instructions\u001b[39;00m\n",
      "\u001b[1;31mKeyboardInterrupt\u001b[0m: "
     ]
    }
   ],
   "source": [
    "example_1_maze = parse_input(example_1)\n",
    "example_1_start = get_monster_start(example_1_maze)\n",
    "example_1_monster_steps, example_1_pipe_network = track_pipe_network(example_1_maze, example_1_start)\n",
    "example_1_monster_steps"
   ]
  },
  {
   "cell_type": "code",
   "execution_count": 106,
   "metadata": {},
   "outputs": [
    {
     "data": {
      "text/plain": [
       "8"
      ]
     },
     "execution_count": 106,
     "metadata": {},
     "output_type": "execute_result"
    }
   ],
   "source": [
    "example_2_maze = parse_input(example_2)\n",
    "example_2_start = get_monster_start(example_2_maze)\n",
    "example_2_monster_steps, example_2_pipe_network = track_pipe_network(example_2_maze, example_2_start)\n",
    "example_2_monster_steps"
   ]
  },
  {
   "cell_type": "code",
   "execution_count": 107,
   "metadata": {},
   "outputs": [
    {
     "data": {
      "text/plain": [
       "6690"
      ]
     },
     "execution_count": 107,
     "metadata": {},
     "output_type": "execute_result"
    }
   ],
   "source": [
    "maze = parse_input(data)\n",
    "start = get_monster_start(maze)\n",
    "monster_steps, pipe_network = track_pipe_network(maze, start)\n",
    "monster_steps"
   ]
  },
  {
   "cell_type": "markdown",
   "metadata": {},
   "source": [
    "# Part 2"
   ]
  },
  {
   "cell_type": "code",
   "execution_count": 94,
   "metadata": {},
   "outputs": [],
   "source": [
    "from shapely import Polygon"
   ]
  },
  {
   "cell_type": "code",
   "execution_count": 108,
   "metadata": {},
   "outputs": [
    {
     "data": {
      "image/svg+xml": [
       "<svg xmlns=\"http://www.w3.org/2000/svg\" xmlns:xlink=\"http://www.w3.org/1999/xlink\" width=\"100.0\" height=\"100.0\" viewBox=\"0.92 0.92 2.16 2.16\" preserveAspectRatio=\"xMinYMin meet\"><g transform=\"matrix(1,0,0,-1,0,4.0)\"><path fill-rule=\"evenodd\" fill=\"#66cc99\" stroke=\"#555555\" stroke-width=\"0.0432\" opacity=\"0.6\" d=\"M 1.0,2.0 L 1.0,3.0 L 2.0,3.0 L 3.0,3.0 L 3.0,2.0 L 3.0,1.0 L 2.0,1.0 L 1.0,2.0 z\" /></g></svg>"
      ],
      "text/plain": [
       "<POLYGON ((1 2, 1 3, 2 3, 3 3, 3 2, 3 1, 2 1, 1 2))>"
      ]
     },
     "execution_count": 108,
     "metadata": {},
     "output_type": "execute_result"
    }
   ],
   "source": [
    "Polygon(list(example_1_pipe_network))"
   ]
  },
  {
   "cell_type": "code",
   "execution_count": 109,
   "metadata": {},
   "outputs": [
    {
     "data": {
      "text/plain": [
       "[(1, 2), (1, 3), (2, 3), (3, 3), (3, 2), (3, 1), (2, 1)]"
      ]
     },
     "execution_count": 109,
     "metadata": {},
     "output_type": "execute_result"
    }
   ],
   "source": [
    "example_1_pipe_network"
   ]
  },
  {
   "cell_type": "code",
   "execution_count": 110,
   "metadata": {},
   "outputs": [
    {
     "data": {
      "text/plain": [
       "(1, 1)"
      ]
     },
     "execution_count": 110,
     "metadata": {},
     "output_type": "execute_result"
    }
   ],
   "source": [
    "example_1_start"
   ]
  },
  {
   "cell_type": "code",
   "execution_count": null,
   "metadata": {},
   "outputs": [],
   "source": []
  }
 ],
 "metadata": {
  "kernelspec": {
   "display_name": "Python 3",
   "language": "python",
   "name": "python3"
  },
  "language_info": {
   "codemirror_mode": {
    "name": "ipython",
    "version": 3
   },
   "file_extension": ".py",
   "mimetype": "text/x-python",
   "name": "python",
   "nbconvert_exporter": "python",
   "pygments_lexer": "ipython3",
   "version": "3.12.1"
  }
 },
 "nbformat": 4,
 "nbformat_minor": 2
}
