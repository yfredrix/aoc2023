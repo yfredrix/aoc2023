{
 "cells": [
  {
   "cell_type": "code",
   "execution_count": 1,
   "metadata": {},
   "outputs": [],
   "source": [
    "example_1 = \"\"\".....\n",
    ".S-7.\n",
    ".|.|.\n",
    ".L-J.\n",
    ".....\"\"\"\n",
    "\n",
    "example_2 = \"\"\"..F7.\n",
    ".FJ|.\n",
    "SJ.L7\n",
    "|F--J\n",
    "LJ...\"\"\""
   ]
  },
  {
   "cell_type": "code",
   "execution_count": 2,
   "metadata": {},
   "outputs": [],
   "source": [
    "with open(\"./data/Day 10/input.txt\") as f:\n",
    "    data = f.read()"
   ]
  },
  {
   "cell_type": "code",
   "execution_count": 8,
   "metadata": {},
   "outputs": [],
   "source": [
    "import numpy as np"
   ]
  },
  {
   "cell_type": "code",
   "execution_count": 22,
   "metadata": {},
   "outputs": [],
   "source": [
    "def parse_input(input_str: str) -> np.array:\n",
    "    return np.array([list(row) for row in input_str.splitlines()])"
   ]
  },
  {
   "cell_type": "code",
   "execution_count": 65,
   "metadata": {},
   "outputs": [],
   "source": [
    "def get_monster_start(maze: np.array) -> tuple[int, int]:\n",
    "    indexes = np.where(maze == \"S\")\n",
    "    return (indexes[0][0], indexes[1][0])"
   ]
  },
  {
   "cell_type": "code",
   "execution_count": 113,
   "metadata": {},
   "outputs": [],
   "source": [
    "def check_connected_pipe(maze: np.array, previous: tuple[int, int], new: tuple[int, int]) -> bool:\n",
    "    diff_y = new[0] - previous[0]\n",
    "    diff_x = new[1] - previous[1]\n",
    "    if (maze[new] == '.'):\n",
    "        return False\n",
    "    elif (maze[new] == \"|\" or maze[new] == \"L\" or maze[new] ==\"J\") and diff_y == 1:\n",
    "        return True\n",
    "    elif (maze[new] == \"|\" or maze[new] == \"F\" or maze[new] ==\"7\") and diff_y == -1:\n",
    "        return True\n",
    "    elif (maze[new] == \"-\" or maze[new] == \"J\" or maze[new] ==\"7\") and diff_x == 1:\n",
    "        return True\n",
    "    elif (maze[new] == \"-\" or maze[new] == \"F\" or maze[new] ==\"L\") and diff_x == -1:\n",
    "        return True\n",
    "    elif (maze[new] == \"S\"):\n",
    "        return True\n",
    "    else:\n",
    "        return False"
   ]
  },
  {
   "cell_type": "code",
   "execution_count": 119,
   "metadata": {},
   "outputs": [],
   "source": [
    "def get_next_position(maze: np.array, previous: tuple[int, int], current: tuple[int, int]) -> tuple[int, int]:\n",
    "    diff_y = current[0] - previous[0]\n",
    "    diff_x = current[1] - previous[1]\n",
    "    if (maze[current] == \"|\") and diff_y == 1:\n",
    "        return (current[0]+1, current[1])\n",
    "    elif (maze[current] == \"|\") and diff_y == -1:\n",
    "        return (current[0]-1, current[1])\n",
    "    elif (maze[current] == \"-\") and diff_x == 1:\n",
    "        return (current[0], current[1]+1)\n",
    "    elif (maze[current] == \"-\") and diff_x == -1:\n",
    "        return (current[0], current[1]-1)\n",
    "    elif (maze[current] == \"L\") and diff_y == 1:\n",
    "        return (current[0], current[1]+1)\n",
    "    elif (maze[current] == \"L\") and diff_x == -1:\n",
    "        return (current[0]-1, current[1])\n",
    "    elif (maze[current] == \"J\") and diff_y == 1:\n",
    "        return (current[0], current[1]-1)\n",
    "    elif (maze[current] == \"J\") and diff_x == 1:\n",
    "        return (current[0]-1, current[1])\n",
    "    elif (maze[current] == \"7\") and diff_y == -1:\n",
    "        return (current[0], current[1]-1)\n",
    "    elif (maze[current] == \"7\") and diff_x == 1:\n",
    "        return (current[0]+1, current[1])\n",
    "    elif (maze[current] == \"F\") and diff_y == -1:\n",
    "        return (current[0], current[1]+1)\n",
    "    elif (maze[current] == \"F\") and diff_x == -1:\n",
    "        return (current[0]+1, current[1])\n",
    "    elif (maze[current] == \"S\"):\n",
    "        return current\n",
    "    else:\n",
    "        print(\"Error\")"
   ]
  },
  {
   "cell_type": "code",
   "execution_count": 123,
   "metadata": {},
   "outputs": [],
   "source": [
    "def track_pipe_network(maze: np.array, start_index: tuple[int]):\n",
    "    current_index = start_index\n",
    "    indexes_to_check = [(current_index[0] - 1, current_index[1]), (current_index[0] + 1, current_index[1]), (current_index[0], current_index[1] -1), (current_index[0], current_index[1]+1)]\n",
    "    for current_index in indexes_to_check:\n",
    "        pipe_network = list()\n",
    "        prev_index = start_index\n",
    "        steps = 0\n",
    "        while check_connected_pipe(maze, prev_index, current_index) and start_index not in pipe_network:\n",
    "            pipe_network.append(current_index)\n",
    "            temp_cur_index = current_index\n",
    "            current_index = get_next_position(maze, prev_index, current_index)\n",
    "            prev_index = temp_cur_index\n",
    "            steps += 1\n",
    "        if start_index in pipe_network:\n",
    "            break\n",
    "    return round(steps/2), pipe_network"
   ]
  },
  {
   "cell_type": "markdown",
   "metadata": {},
   "source": [
    "# Part 1"
   ]
  },
  {
   "cell_type": "code",
   "execution_count": 124,
   "metadata": {},
   "outputs": [
    {
     "data": {
      "text/plain": [
       "4"
      ]
     },
     "execution_count": 124,
     "metadata": {},
     "output_type": "execute_result"
    }
   ],
   "source": [
    "example_1_maze = parse_input(example_1)\n",
    "example_1_start = get_monster_start(example_1_maze)\n",
    "example_1_monster_steps, example_1_pipe_network = track_pipe_network(example_1_maze, example_1_start)\n",
    "example_1_monster_steps"
   ]
  },
  {
   "cell_type": "code",
   "execution_count": 125,
   "metadata": {},
   "outputs": [
    {
     "data": {
      "text/plain": [
       "8"
      ]
     },
     "execution_count": 125,
     "metadata": {},
     "output_type": "execute_result"
    }
   ],
   "source": [
    "example_2_maze = parse_input(example_2)\n",
    "example_2_start = get_monster_start(example_2_maze)\n",
    "example_2_monster_steps, example_2_pipe_network = track_pipe_network(example_2_maze, example_2_start)\n",
    "example_2_monster_steps"
   ]
  },
  {
   "cell_type": "code",
   "execution_count": 126,
   "metadata": {},
   "outputs": [
    {
     "data": {
      "text/plain": [
       "6690"
      ]
     },
     "execution_count": 126,
     "metadata": {},
     "output_type": "execute_result"
    }
   ],
   "source": [
    "maze = parse_input(data)\n",
    "start = get_monster_start(maze)\n",
    "monster_steps, pipe_network = track_pipe_network(maze, start)\n",
    "monster_steps"
   ]
  },
  {
   "cell_type": "markdown",
   "metadata": {},
   "source": [
    "# Part 2"
   ]
  },
  {
   "cell_type": "code",
   "execution_count": 151,
   "metadata": {},
   "outputs": [],
   "source": [
    "example_3 = \"\"\"...........\n",
    ".S-------7.\n",
    ".|F-----7|.\n",
    ".||.....||.\n",
    ".||.....||.\n",
    ".|L-7.F-J|.\n",
    ".|..|.|..|.\n",
    ".L--J.L--J.\n",
    "...........\"\"\"\n",
    "\n",
    "example_4 = \"\"\".F----7F7F7F7F-7....\n",
    ".|F--7||||||||FJ....\n",
    ".||.FJ||||||||L7....\n",
    "FJL7L7LJLJ||LJ.L-7..\n",
    "L--J.L7...LJS7F-7L7.\n",
    "....F-J..F7FJ|L7L7L7\n",
    "....L7.F7||L7|.L7L7|\n",
    ".....|FJLJ|FJ|F7|.LJ\n",
    "....FJL-7.||.||||...\n",
    "....L---J.LJ.LJLJ...\"\"\"\n",
    "\n",
    "example_5 = \"\"\"FF7FSF7F7F7F7F7F---7\n",
    "L|LJ||||||||||||F--J\n",
    "FL-7LJLJ||||||LJL-77\n",
    "F--JF--7||LJLJ7F7FJ-\n",
    "L---JF-JLJ.||-FJLJJ7\n",
    "|F|F-JF---7F7-L7L|7|\n",
    "|FFJF7L7F-JF7|JL---7\n",
    "7-L-JL7||F7|L7F-7F7|\n",
    "L.L7LFJ|||||FJL7||LJ\n",
    "L7JLJL-JLJLJL--JLJ.L\"\"\""
   ]
  },
  {
   "cell_type": "code",
   "execution_count": 135,
   "metadata": {},
   "outputs": [
    {
     "data": {
      "text/plain": [
       "23"
      ]
     },
     "execution_count": 135,
     "metadata": {},
     "output_type": "execute_result"
    }
   ],
   "source": [
    "example_3_maze = parse_input(example_3)\n",
    "example_3_start = get_monster_start(example_3_maze)\n",
    "example_3_monster_steps, example_3_pipe_network = track_pipe_network(example_3_maze, example_3_start)"
   ]
  },
  {
   "cell_type": "code",
   "execution_count": 152,
   "metadata": {},
   "outputs": [],
   "source": [
    "example_4_maze = parse_input(example_4)\n",
    "example_4_start = get_monster_start(example_4_maze)\n",
    "example_4_monster_steps, example_4_pipe_network = track_pipe_network(example_4_maze, example_4_start)\n",
    "\n",
    "example_5_maze = parse_input(example_5)\n",
    "example_5_start = get_monster_start(example_5_maze)\n",
    "example_5_monster_steps, example_5_pipe_network = track_pipe_network(example_5_maze, example_5_start)"
   ]
  },
  {
   "cell_type": "code",
   "execution_count": 143,
   "metadata": {},
   "outputs": [],
   "source": [
    "from shapely import Polygon, Point"
   ]
  },
  {
   "cell_type": "code",
   "execution_count": 144,
   "metadata": {},
   "outputs": [],
   "source": [
    "def get_interior_coords(enclosed_polygon: Polygon) -> list[tuple[int, int]]:\n",
    "    min_x, min_y, max_x, max_y = enclosed_polygon.bounds\n",
    "    interior_coords = []\n",
    "    for x in range(int(min_x), int(max_x + 1)):\n",
    "        for y in range(int(min_y), int(max_y + 1)):\n",
    "            if enclosed_polygon.contains(Point(x, y)):\n",
    "                interior_coords.append((x, y))\n",
    "    return interior_coords"
   ]
  },
  {
   "cell_type": "code",
   "execution_count": 156,
   "metadata": {},
   "outputs": [
    {
     "data": {
      "text/plain": [
       "4"
      ]
     },
     "execution_count": 156,
     "metadata": {},
     "output_type": "execute_result"
    }
   ],
   "source": [
    "example_3_polygon = Polygon(example_3_pipe_network)\n",
    "len(get_interior_coords(example_3_polygon))"
   ]
  },
  {
   "cell_type": "code",
   "execution_count": 155,
   "metadata": {},
   "outputs": [
    {
     "data": {
      "text/plain": [
       "8"
      ]
     },
     "execution_count": 155,
     "metadata": {},
     "output_type": "execute_result"
    }
   ],
   "source": [
    "example_4_polygon = Polygon(example_4_pipe_network)\n",
    "len(get_interior_coords(example_4_polygon))"
   ]
  },
  {
   "cell_type": "code",
   "execution_count": 154,
   "metadata": {},
   "outputs": [
    {
     "data": {
      "text/plain": [
       "10"
      ]
     },
     "execution_count": 154,
     "metadata": {},
     "output_type": "execute_result"
    }
   ],
   "source": [
    "example_5_polygon = Polygon(example_5_pipe_network)\n",
    "len(get_interior_coords(example_5_polygon))"
   ]
  },
  {
   "cell_type": "code",
   "execution_count": 157,
   "metadata": {},
   "outputs": [
    {
     "data": {
      "text/plain": [
       "525"
      ]
     },
     "execution_count": 157,
     "metadata": {},
     "output_type": "execute_result"
    }
   ],
   "source": [
    "polygon = Polygon(pipe_network)\n",
    "len(get_interior_coords(polygon))"
   ]
  },
  {
   "cell_type": "code",
   "execution_count": null,
   "metadata": {},
   "outputs": [],
   "source": []
  }
 ],
 "metadata": {
  "kernelspec": {
   "display_name": "Python 3",
   "language": "python",
   "name": "python3"
  },
  "language_info": {
   "codemirror_mode": {
    "name": "ipython",
    "version": 3
   },
   "file_extension": ".py",
   "mimetype": "text/x-python",
   "name": "python",
   "nbconvert_exporter": "python",
   "pygments_lexer": "ipython3",
   "version": "3.12.1"
  }
 },
 "nbformat": 4,
 "nbformat_minor": 2
}
