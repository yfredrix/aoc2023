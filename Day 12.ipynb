{
 "cells": [
  {
   "cell_type": "code",
   "execution_count": 14,
   "metadata": {},
   "outputs": [],
   "source": [
    "example = \"\"\"???.### 1,1,3\n",
    ".??..??...?##. 1,1,3\n",
    "?#?#?#?#?#?#?#? 1,3,1,6\n",
    "????.#...#... 4,1,1\n",
    "????.######..#####. 1,6,5\n",
    "?###???????? 3,2,1\"\"\""
   ]
  },
  {
   "cell_type": "code",
   "execution_count": 15,
   "metadata": {},
   "outputs": [],
   "source": [
    "with open(\"./data/Day 12/input.txt\") as f:\n",
    "    data = f.read()"
   ]
  },
  {
   "cell_type": "code",
   "execution_count": 16,
   "metadata": {},
   "outputs": [],
   "source": [
    "def parse_data(text: str) -> list[list[str, str]]:\n",
    "    output = []\n",
    "    for line in text.splitlines():\n",
    "        springs, info = line.split()\n",
    "        info = [int(i) for i in info.split(',')]\n",
    "        output.append([springs, info])\n",
    "    return output"
   ]
  },
  {
   "cell_type": "code",
   "execution_count": 17,
   "metadata": {},
   "outputs": [],
   "source": [
    "from functools import lru_cache\n",
    "@lru_cache(maxsize=None)\n",
    "def validate_permutation(springs: str, info: list[int]) -> bool:\n",
    "    defective_springs = [el for el in springs.split(\".\") if el]\n",
    "    if len(defective_springs) != len(info):\n",
    "        return False\n",
    "    for i, nr in enumerate(info):\n",
    "        if len(defective_springs[i]) != nr:\n",
    "            return False\n",
    "    return True"
   ]
  },
  {
   "cell_type": "code",
   "execution_count": 18,
   "metadata": {},
   "outputs": [],
   "source": [
    "def find(s, ch):\n",
    "    return [i for i, ltr in enumerate(s) if ltr == ch]"
   ]
  },
  {
   "cell_type": "code",
   "execution_count": 19,
   "metadata": {},
   "outputs": [],
   "source": [
    "import itertools\n",
    "\n",
    "\n",
    "def create_permutations(springs: str, info: list[int]):\n",
    "    \"\"\"Try all permutations to fill question marks with # or .\"\"\"\n",
    "    places_to_replace = find(springs, \"?\")\n",
    "    nr_broken = len(find(springs, \"#\"))\n",
    "    possible_characters = [\"#\", \".\"]\n",
    "    possible_permutations = 0\n",
    "    info_tuple = tuple(info)\n",
    "    for permutation in itertools.product(\n",
    "        possible_characters, repeat=len(places_to_replace)\n",
    "    ):\n",
    "        if len([i for i in permutation if i == \"#\"]) + nr_broken != sum(info):\n",
    "            continue\n",
    "        test_springs = springs\n",
    "        for i, place in enumerate(places_to_replace):\n",
    "            test_springs = (\n",
    "                test_springs[:place] + permutation[i] + test_springs[place + 1 :]\n",
    "            )\n",
    "        if validate_permutation(test_springs, info_tuple):\n",
    "            possible_permutations += 1\n",
    "    return possible_permutations"
   ]
  },
  {
   "cell_type": "markdown",
   "metadata": {},
   "source": [
    "# Part 1"
   ]
  },
  {
   "cell_type": "code",
   "execution_count": 26,
   "metadata": {},
   "outputs": [],
   "source": [
    "example_parsed = parse_data(example)"
   ]
  },
  {
   "cell_type": "code",
   "execution_count": 27,
   "metadata": {},
   "outputs": [
    {
     "name": "stdout",
     "output_type": "stream",
     "text": [
      "21\n"
     ]
    }
   ],
   "source": [
    "arrangements = 0\n",
    "for row in example_parsed:\n",
    "    arrangements += create_permutations(*row)\n",
    "print(arrangements)"
   ]
  },
  {
   "cell_type": "code",
   "execution_count": 28,
   "metadata": {},
   "outputs": [],
   "source": [
    "from tqdm import tqdm"
   ]
  },
  {
   "cell_type": "code",
   "execution_count": 29,
   "metadata": {},
   "outputs": [],
   "source": [
    "parsed = parse_data(data)"
   ]
  },
  {
   "cell_type": "code",
   "execution_count": 30,
   "metadata": {},
   "outputs": [
    {
     "name": "stderr",
     "output_type": "stream",
     "text": [
      "100%|██████████| 1000/1000 [00:11<00:00, 86.94it/s]"
     ]
    },
    {
     "name": "stdout",
     "output_type": "stream",
     "text": [
      "7191\n"
     ]
    },
    {
     "name": "stderr",
     "output_type": "stream",
     "text": [
      "\n"
     ]
    }
   ],
   "source": [
    "arrangements = 0\n",
    "for row in tqdm(parsed):\n",
    "    arrangements += create_permutations(*row)\n",
    "print(arrangements)"
   ]
  },
  {
   "cell_type": "markdown",
   "metadata": {},
   "source": [
    "# Part 2"
   ]
  },
  {
   "cell_type": "code",
   "execution_count": 64,
   "metadata": {},
   "outputs": [],
   "source": [
    "# Brute forcing is definitely not working anymore"
   ]
  },
  {
   "cell_type": "code",
   "execution_count": 20,
   "metadata": {},
   "outputs": [],
   "source": [
    "def parse_data_v2(text: str) -> list[list[str, str]]:\n",
    "    output = []\n",
    "    for line in text.splitlines():\n",
    "        springs, info = line.split()\n",
    "        long_springs = \"?\".join(5 * [springs])\n",
    "        info = 5 * [int(i) for i in info.split(\",\")]\n",
    "        output.append([long_springs, info])\n",
    "    return output"
   ]
  },
  {
   "cell_type": "code",
   "execution_count": 21,
   "metadata": {},
   "outputs": [],
   "source": [
    "example_v2 = parse_data_v2(example)\n",
    "parsed_v2 = parse_data_v2(data)"
   ]
  },
  {
   "cell_type": "code",
   "execution_count": 23,
   "metadata": {},
   "outputs": [],
   "source": [
    "import functools\n",
    "\n",
    "\n",
    "@functools.cache\n",
    "def arrangements(springs, defective_groups):\n",
    "    if len(defective_groups) == 0:\n",
    "        a = int(sum(spring == \"#\" for spring in springs) == 0)\n",
    "        return a\n",
    "    if sum(defective_groups) > len(springs):\n",
    "        return 0\n",
    "\n",
    "    if springs[0] == \".\":\n",
    "        a = arrangements(springs[1:], defective_groups)\n",
    "        return a\n",
    "\n",
    "    no1, no2 = 0, 0\n",
    "    if springs[0] == \"?\":\n",
    "        no2 = arrangements(springs[1:], defective_groups)\n",
    "\n",
    "    if (\n",
    "        all(c != \".\" for c in springs[: defective_groups[0]])\n",
    "        and (springs[defective_groups[0]] if len(springs) > defective_groups[0] else \".\") != \"#\"\n",
    "    ):\n",
    "        no1 = arrangements(springs[(defective_groups[0] + 1) :], defective_groups[1:])\n",
    "\n",
    "    return no1 + no2"
   ]
  },
  {
   "cell_type": "code",
   "execution_count": 25,
   "metadata": {},
   "outputs": [
    {
     "name": "stdout",
     "output_type": "stream",
     "text": [
      "525152\n"
     ]
    }
   ],
   "source": [
    "example_total = 0\n",
    "for spring, group in example_v2:\n",
    "    example_total += arrangements(tuple(spring), tuple(group))\n",
    "print(example_total)"
   ]
  },
  {
   "cell_type": "code",
   "execution_count": 26,
   "metadata": {},
   "outputs": [
    {
     "name": "stdout",
     "output_type": "stream",
     "text": [
      "6512849198636\n"
     ]
    }
   ],
   "source": [
    "total = 0\n",
    "for spring, group in parsed_v2:\n",
    "    total += arrangements(tuple(spring), tuple(group))\n",
    "print(total)"
   ]
  },
  {
   "cell_type": "code",
   "execution_count": null,
   "metadata": {},
   "outputs": [],
   "source": []
  },
  {
   "cell_type": "code",
   "execution_count": null,
   "metadata": {},
   "outputs": [],
   "source": []
  }
 ],
 "metadata": {
  "kernelspec": {
   "display_name": ".venv",
   "language": "python",
   "name": "python3"
  },
  "language_info": {
   "codemirror_mode": {
    "name": "ipython",
    "version": 3
   },
   "file_extension": ".py",
   "mimetype": "text/x-python",
   "name": "python",
   "nbconvert_exporter": "python",
   "pygments_lexer": "ipython3",
   "version": "3.11.7"
  }
 },
 "nbformat": 4,
 "nbformat_minor": 2
}
