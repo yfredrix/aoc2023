{
 "cells": [
  {
   "cell_type": "code",
   "execution_count": 13,
   "metadata": {},
   "outputs": [],
   "source": [
    "example = r\"\"\".|...\\....\n",
    "|.-.\\.....\n",
    ".....|-...\n",
    "........|.\n",
    "..........\n",
    ".........\\\n",
    "..../.\\\\..\n",
    ".-.-/..|..\n",
    ".|....-|.\\\n",
    "..//.|....\"\"\""
   ]
  },
  {
   "cell_type": "code",
   "execution_count": 14,
   "metadata": {},
   "outputs": [],
   "source": [
    "with open(\"./data/Day 16/input.txt\", 'r') as f:\n",
    "    data = f.read()"
   ]
  },
  {
   "cell_type": "code",
   "execution_count": 15,
   "metadata": {},
   "outputs": [],
   "source": [
    "def parse_data(data):\n",
    "    return [list(i) for i in data.splitlines()]"
   ]
  },
  {
   "cell_type": "code",
   "execution_count": 16,
   "metadata": {},
   "outputs": [],
   "source": [
    "import numpy as np\n",
    "\n",
    "def init(data):\n",
    "    direction_map = [[[] for _ in range(len(data[0]))] for _ in range(len(data))]\n",
    "    y = len(data)\n",
    "    x = len(data[0])\n",
    "    light_map = np.zeros((y,x), dtype=np.int8)\n",
    "    return direction_map, light_map"
   ]
  },
  {
   "cell_type": "code",
   "execution_count": 17,
   "metadata": {},
   "outputs": [],
   "source": [
    "light_processing = {\n",
    "    ((1, 0), '\\\\'): [(0, 1)],\n",
    "    ((1, 0), '/'): [(0, -1)],\n",
    "    ((-1, 0), '\\\\'): [(0, -1)],\n",
    "    ((-1, 0), '/'): [(0, 1)],\n",
    "    \n",
    "    ((0, 1), '\\\\'): [(1, 0)],\n",
    "    ((0, 1), '/'): [(-1, 0)],\n",
    "    ((0, -1), '\\\\'): [(-1, 0)],\n",
    "    ((0, -1), '/'): [(1, 0)],\n",
    "\n",
    "    ((1, 0), '|'): [(0, 1), (0, -1)],\n",
    "    ((-1, 0), '|'): [(0, 1), (0, -1)],\n",
    "    ((0, 1), '-'): [(1, 0), (-1, 0)],\n",
    "    ((0, -1), '-'): [(1, 0), (-1, 0)],\n",
    "}\n",
    "# Format (x, y)"
   ]
  },
  {
   "cell_type": "code",
   "execution_count": 18,
   "metadata": {},
   "outputs": [],
   "source": [
    "def move_beam(map, beams):\n",
    "    curr_beams = beams.copy()\n",
    "    beams = []\n",
    "    for beam in curr_beams:\n",
    "        beam_directions = [beam[1]]\n",
    "        space = map[beam[0][1]][beam[0][0]]\n",
    "        key = (beam_directions[0], space)\n",
    "        if key in light_processing:\n",
    "            beam_directions = light_processing[key]\n",
    "        for action in beam_directions:\n",
    "            new_pos = (beam[0][0] + action[0], beam[0][1] + action[1])\n",
    "            if new_pos[0] < 0 or new_pos[0] >= len(map[0]) or new_pos[1] < 0 or new_pos[1] >= len(map):\n",
    "                continue\n",
    "            beams.append([new_pos, action])\n",
    "    return beams"
   ]
  },
  {
   "cell_type": "code",
   "execution_count": 19,
   "metadata": {},
   "outputs": [],
   "source": [
    "def validate_run(beams, direction_map):\n",
    "    new_beams = []\n",
    "    for beam in beams:\n",
    "        loc, direction = beam\n",
    "        if direction in direction_map[loc[1]][loc[0]]:\n",
    "            continue\n",
    "        new_beams.append(beam)\n",
    "    return new_beams"
   ]
  },
  {
   "cell_type": "code",
   "execution_count": 20,
   "metadata": {},
   "outputs": [],
   "source": [
    "def run_beams(map, beams, direction_map, light_map):\n",
    "    while beams:\n",
    "        for beam in beams:\n",
    "            direction_map[beam[0][1]][beam[0][0]].append(beam[1])\n",
    "            light_map[beam[0][1]][beam[0][0]] = 1\n",
    "        beams = move_beam(map, beams)\n",
    "        beams = validate_run(beams, direction_map)\n",
    "    return light_map, direction_map"
   ]
  },
  {
   "cell_type": "markdown",
   "metadata": {},
   "source": [
    "# Part 1"
   ]
  },
  {
   "cell_type": "code",
   "execution_count": 21,
   "metadata": {},
   "outputs": [
    {
     "data": {
      "text/plain": [
       "46"
      ]
     },
     "execution_count": 21,
     "metadata": {},
     "output_type": "execute_result"
    }
   ],
   "source": [
    "example_map = parse_data(example)\n",
    "direction_map, light_map = init(example_map)\n",
    "beams = [[(0, 0), (1, 0)]]\n",
    "light_map, direction_map = run_beams(example_map, beams, direction_map, light_map)\n",
    "np.sum(light_map)"
   ]
  },
  {
   "cell_type": "code",
   "execution_count": 22,
   "metadata": {},
   "outputs": [
    {
     "data": {
      "text/plain": [
       "8021"
      ]
     },
     "execution_count": 22,
     "metadata": {},
     "output_type": "execute_result"
    }
   ],
   "source": [
    "## Runtime 0.0s\n",
    "\n",
    "mirror_map = parse_data(data)\n",
    "direction_map, light_map = init(mirror_map)\n",
    "beams = [[(0, 0), (1, 0)]]\n",
    "light_map, direction_map = run_beams(mirror_map, beams, direction_map, light_map)\n",
    "np.sum(light_map)"
   ]
  },
  {
   "cell_type": "markdown",
   "metadata": {},
   "source": [
    "# Part 2"
   ]
  },
  {
   "cell_type": "code",
   "execution_count": 23,
   "metadata": {},
   "outputs": [
    {
     "data": {
      "text/plain": [
       "51"
      ]
     },
     "execution_count": 23,
     "metadata": {},
     "output_type": "execute_result"
    }
   ],
   "source": [
    "map = parse_data(example)\n",
    "starting_positions = []\n",
    "# Starting Positions top\n",
    "for i in range(len(example_map[0])):\n",
    "    starting_positions.append([(i, 0), (0, 1)])\n",
    "    # Starting Positions bottom\t\n",
    "    starting_positions.append([(i, len(example_map)-1), (0, -1)])\n",
    "# Starting Positions left\n",
    "for i in range(len(example_map)):\n",
    "    starting_positions.append([(0, i), (1, 0)])\n",
    "    # Starting Positions right\n",
    "    starting_positions.append([(len(example_map[0])-1, i), (-1, 0)])\n",
    "energized = []\n",
    "for beams in starting_positions:\n",
    "    direction_map, light_map = init(map)\n",
    "    light_map, direction_map = run_beams(map, [beams], direction_map, light_map)\n",
    "    energized.append(np.sum(light_map))\n",
    "max(energized)\n"
   ]
  },
  {
   "cell_type": "code",
   "execution_count": 24,
   "metadata": {},
   "outputs": [
    {
     "data": {
      "text/plain": [
       "8216"
      ]
     },
     "execution_count": 24,
     "metadata": {},
     "output_type": "execute_result"
    }
   ],
   "source": [
    "## Runtime 2.8s\n",
    "map = parse_data(data)\n",
    "starting_positions = []\n",
    "# Starting Positions top\n",
    "for i in range(len(map[0])):\n",
    "    starting_positions.append([(i, 0), (0, 1)])\n",
    "    # Starting Positions bottom\t\n",
    "    starting_positions.append([(i, len(map)-1), (0, -1)])\n",
    "# Starting Positions left\n",
    "for i in range(len(map)):\n",
    "    starting_positions.append([(0, i), (1, 0)])\n",
    "    # Starting Positions right\n",
    "    starting_positions.append([(len(map[0])-1, i), (-1, 0)])\n",
    "energized = []\n",
    "for beams in starting_positions:\n",
    "    direction_map, light_map = init(map)\n",
    "    light_map, direction_map = run_beams(map, [beams], direction_map, light_map)\n",
    "    energized.append(np.sum(light_map))\n",
    "max(energized)\n"
   ]
  },
  {
   "cell_type": "code",
   "execution_count": null,
   "metadata": {},
   "outputs": [],
   "source": []
  }
 ],
 "metadata": {
  "kernelspec": {
   "display_name": ".venv",
   "language": "python",
   "name": "python3"
  },
  "language_info": {
   "codemirror_mode": {
    "name": "ipython",
    "version": 3
   },
   "file_extension": ".py",
   "mimetype": "text/x-python",
   "name": "python",
   "nbconvert_exporter": "python",
   "pygments_lexer": "ipython3",
   "version": "3.12.1"
  }
 },
 "nbformat": 4,
 "nbformat_minor": 2
}
