{
 "cells": [
  {
   "cell_type": "code",
   "execution_count": 5,
   "metadata": {},
   "outputs": [],
   "source": [
    "example = \"\"\"seeds: 79 14 55 13\n",
    "\n",
    "seed-to-soil map:\n",
    "50 98 2\n",
    "52 50 48\n",
    "\n",
    "soil-to-fertilizer map:\n",
    "0 15 37\n",
    "37 52 2\n",
    "39 0 15\n",
    "\n",
    "fertilizer-to-water map:\n",
    "49 53 8\n",
    "0 11 42\n",
    "42 0 7\n",
    "57 7 4\n",
    "\n",
    "water-to-light map:\n",
    "88 18 7\n",
    "18 25 70\n",
    "\n",
    "light-to-temperature map:\n",
    "45 77 23\n",
    "81 45 19\n",
    "68 64 13\n",
    "\n",
    "temperature-to-humidity map:\n",
    "0 69 1\n",
    "1 0 69\n",
    "\n",
    "humidity-to-location map:\n",
    "60 56 37\n",
    "56 93 4\"\"\""
   ]
  },
  {
   "cell_type": "code",
   "execution_count": 6,
   "metadata": {},
   "outputs": [],
   "source": [
    "translate = [\"destination\", \"source\", \"length\"]\n",
    "example_parsed_data = {}\n",
    "for row in example.splitlines():\n",
    "    if row == \"\":\n",
    "        continue\n",
    "    if \":\" in row:\n",
    "        key, value = row.split(\":\")\n",
    "        if \"seeds\" in key:\n",
    "            example_parsed_data[key.strip()] = [int(x) for x in value.split()]\n",
    "        else:\n",
    "            example_parsed_data[key.strip()] = []\n",
    "    else:\n",
    "        temp = {translate[i]: int(x) for i, x in enumerate(row.split())}\n",
    "        ranges = {\n",
    "            \"source\": range(temp[\"source\"], temp[\"source\"] + temp[\"length\"] + 1),\n",
    "            \"destination\": range(\n",
    "                temp[\"destination\"], temp[\"destination\"] + temp[\"length\"] + 1\n",
    "            ),\n",
    "        }\n",
    "        example_parsed_data[key.strip()].append(ranges)"
   ]
  },
  {
   "cell_type": "code",
   "execution_count": 7,
   "metadata": {},
   "outputs": [],
   "source": [
    "def find_destination(source_number, translate_dir, step):\n",
    "    specific_translate = translate_dir[step]\n",
    "    for translate in specific_translate:\n",
    "        if source_number in translate[\"source\"]:\n",
    "            return translate[\"destination\"].start + (\n",
    "                source_number - translate[\"source\"].start\n",
    "            )\n",
    "    return source_number"
   ]
  },
  {
   "cell_type": "markdown",
   "metadata": {},
   "source": [
    "# Part 1"
   ]
  },
  {
   "cell_type": "code",
   "execution_count": 8,
   "metadata": {},
   "outputs": [],
   "source": [
    "with open(\"./data/Day 5/input.txt\", 'r') as file:\n",
    "    data = file.read().splitlines()"
   ]
  },
  {
   "cell_type": "code",
   "execution_count": 9,
   "metadata": {},
   "outputs": [],
   "source": [
    "translate = [\"destination\", \"source\", \"length\"]\n",
    "parsed_data = {}\n",
    "for row in data:\n",
    "    if row == \"\":\n",
    "        continue\n",
    "    if \":\" in row:\n",
    "        key, value = row.split(\":\")\n",
    "        if \"seeds\" in key:\n",
    "            parsed_data[key.strip()] = [int(x) for x in value.split()]\n",
    "        else:\n",
    "            parsed_data[key.strip()] = []\n",
    "    else:\n",
    "        temp = {translate[i]: int(x) for i, x in enumerate(row.split())}\n",
    "        ranges = {\n",
    "            \"source\": range(temp[\"source\"], temp[\"source\"] + temp[\"length\"] + 1),\n",
    "            \"destination\": range(\n",
    "                temp[\"destination\"], temp[\"destination\"] + temp[\"length\"] + 1\n",
    "            ),\n",
    "        }\n",
    "        parsed_data[key.strip()].append(ranges)"
   ]
  },
  {
   "cell_type": "code",
   "execution_count": 10,
   "metadata": {},
   "outputs": [
    {
     "name": "stdout",
     "output_type": "stream",
     "text": [
      "35\n"
     ]
    }
   ],
   "source": [
    "locations = []\n",
    "for seed in example_parsed_data[\"seeds\"]:\n",
    "    soil = find_destination(seed, example_parsed_data, \"seed-to-soil map\")\n",
    "    fertilizer = find_destination(soil, example_parsed_data, \"soil-to-fertilizer map\")\n",
    "    water = find_destination(fertilizer, example_parsed_data, \"fertilizer-to-water map\")\n",
    "    light = find_destination(water, example_parsed_data, \"water-to-light map\")\n",
    "    temperature = find_destination(\n",
    "        light, example_parsed_data, \"light-to-temperature map\"\n",
    "    )\n",
    "    humidity = find_destination(\n",
    "        temperature, example_parsed_data, \"temperature-to-humidity map\"\n",
    "    )\n",
    "    location = find_destination(\n",
    "        humidity, example_parsed_data, \"humidity-to-location map\"\n",
    "    )\n",
    "    locations.append(location)\n",
    "print(min(locations))"
   ]
  },
  {
   "cell_type": "code",
   "execution_count": 11,
   "metadata": {},
   "outputs": [
    {
     "name": "stdout",
     "output_type": "stream",
     "text": [
      "218513636\n"
     ]
    }
   ],
   "source": [
    "locations = []\n",
    "for seed in parsed_data[\"seeds\"]:\n",
    "    soil = find_destination(seed, parsed_data, \"seed-to-soil map\")\n",
    "    fertilizer = find_destination(soil, parsed_data, \"soil-to-fertilizer map\")\n",
    "    water = find_destination(fertilizer, parsed_data, \"fertilizer-to-water map\")\n",
    "    light = find_destination(water, parsed_data, \"water-to-light map\")\n",
    "    temperature = find_destination(light, parsed_data, \"light-to-temperature map\")\n",
    "    humidity = find_destination(temperature, parsed_data, \"temperature-to-humidity map\")\n",
    "    location = find_destination(humidity, parsed_data, \"humidity-to-location map\")\n",
    "    locations.append(location)\n",
    "print(min(locations))"
   ]
  },
  {
   "cell_type": "code",
   "execution_count": 15,
   "metadata": {},
   "outputs": [
    {
     "data": {
      "text/plain": [
       "40401857"
      ]
     },
     "execution_count": 15,
     "metadata": {},
     "output_type": "execute_result"
    }
   ],
   "source": [
    "parsed_data[\"seeds\"][11]"
   ]
  },
  {
   "cell_type": "markdown",
   "metadata": {},
   "source": [
    "## Part 2"
   ]
  },
  {
   "cell_type": "code",
   "execution_count": 54,
   "metadata": {},
   "outputs": [],
   "source": [
    "seeds = example_parsed_data[\"seeds\"]\n",
    "new_seeds = []\n",
    "for i in range(0, len(seeds),2):\n",
    "    new_seeds.append(range(seeds[i], seeds[i+1]+seeds[i]+1))\n",
    "example_parsed_data[\"seeds\"] = new_seeds"
   ]
  },
  {
   "cell_type": "code",
   "execution_count": 56,
   "metadata": {},
   "outputs": [
    {
     "name": "stdout",
     "output_type": "stream",
     "text": [
      "46\n"
     ]
    }
   ],
   "source": [
    "locations = []\n",
    "for seedrange in example_parsed_data[\"seeds\"]:\n",
    "    for seed in seedrange:\n",
    "        soil = find_destination(seed, example_parsed_data, \"seed-to-soil map\")\n",
    "        fertilizer = find_destination(soil, example_parsed_data, \"soil-to-fertilizer map\")\n",
    "        water = find_destination(fertilizer, example_parsed_data, \"fertilizer-to-water map\")\n",
    "        light = find_destination(water, example_parsed_data, \"water-to-light map\")\n",
    "        temperature = find_destination(\n",
    "            light, example_parsed_data, \"light-to-temperature map\"\n",
    "        )\n",
    "        humidity = find_destination(\n",
    "            temperature, example_parsed_data, \"temperature-to-humidity map\"\n",
    "        )\n",
    "        location = find_destination(\n",
    "            humidity, example_parsed_data, \"humidity-to-location map\"\n",
    "        )\n",
    "        locations.append(location)\n",
    "print(min(locations))"
   ]
  },
  {
   "cell_type": "code",
   "execution_count": 25,
   "metadata": {},
   "outputs": [],
   "source": [
    "from tqdm import tqdm"
   ]
  },
  {
   "cell_type": "code",
   "execution_count": 16,
   "metadata": {},
   "outputs": [],
   "source": [
    "last_lowest_loc_seed = min(locations) \n",
    "\n",
    "seed_index = locations.index(last_lowest_loc_seed)\n",
    "\n",
    "seeds = parsed_data[\"seeds\"]\n",
    "lowest_seed_value = seeds[seed_index]\n",
    "new_seeds = []\n",
    "for i in range(0, len(seeds), 2):\n",
    "    new_seeds.append(range(seeds[i], seeds[i + 1] + seeds[i] + 1))\n",
    "parsed_data[\"seeds\"] = new_seeds"
   ]
  },
  {
   "cell_type": "code",
   "execution_count": 29,
   "metadata": {},
   "outputs": [
    {
     "name": "stdout",
     "output_type": "stream",
     "text": [
      "265216440 5\n",
      "[265216440, 318404409, 595388542, 1541137241, 1761783859, 2421669855, 2631578036, 3086765083, 3224684468, 3605925978] [5, 7, 9, 2, 8, 6, 4, 0, 1, 3]\n"
     ]
    }
   ],
   "source": [
    "distances = []\n",
    "for seed_range in parsed_data['seeds']:\n",
    "    if lowest_seed_value in seed_range:\n",
    "        print(seed_range)\n",
    "    distance = min(abs(lowest_seed_value - seed_range.start), abs(lowest_seed_value - seed_range.stop))\n",
    "    distances.append(distance)\n",
    "print(min(distances), distances.index(min(distances)))\n",
    "print(sorted(distances), [distances.index(x) for x in sorted(distances)])"
   ]
  },
  {
   "cell_type": "code",
   "execution_count": 30,
   "metadata": {},
   "outputs": [
    {
     "name": "stderr",
     "output_type": "stream",
     "text": [
      "  1%|▏         | 1913240/131147347 [00:30<34:13, 62940.25it/s]\n"
     ]
    },
    {
     "ename": "KeyboardInterrupt",
     "evalue": "",
     "output_type": "error",
     "traceback": [
      "\u001b[1;31m---------------------------------------------------------------------------\u001b[0m",
      "\u001b[1;31mKeyboardInterrupt\u001b[0m                         Traceback (most recent call last)",
      "\u001b[1;32mc:\\Users\\yorick.fredrix_nsp\\Documenten\\Projecten\\aoc2023\\Day 5.ipynb Cell 16\u001b[0m line \u001b[0;36m1\n\u001b[0;32m      <a href='vscode-notebook-cell:/c%3A/Users/yorick.fredrix_nsp/Documenten/Projecten/aoc2023/Day%205.ipynb#X23sZmlsZQ%3D%3D?line=8'>9</a>\u001b[0m     humidity \u001b[39m=\u001b[39m find_destination(\n\u001b[0;32m     <a href='vscode-notebook-cell:/c%3A/Users/yorick.fredrix_nsp/Documenten/Projecten/aoc2023/Day%205.ipynb#X23sZmlsZQ%3D%3D?line=9'>10</a>\u001b[0m         temperature, parsed_data, \u001b[39m\"\u001b[39m\u001b[39mtemperature-to-humidity map\u001b[39m\u001b[39m\"\u001b[39m\n\u001b[0;32m     <a href='vscode-notebook-cell:/c%3A/Users/yorick.fredrix_nsp/Documenten/Projecten/aoc2023/Day%205.ipynb#X23sZmlsZQ%3D%3D?line=10'>11</a>\u001b[0m     )\n\u001b[0;32m     <a href='vscode-notebook-cell:/c%3A/Users/yorick.fredrix_nsp/Documenten/Projecten/aoc2023/Day%205.ipynb#X23sZmlsZQ%3D%3D?line=11'>12</a>\u001b[0m     location \u001b[39m=\u001b[39m find_destination(humidity, parsed_data, \u001b[39m\"\u001b[39m\u001b[39mhumidity-to-location map\u001b[39m\u001b[39m\"\u001b[39m)\n\u001b[1;32m---> <a href='vscode-notebook-cell:/c%3A/Users/yorick.fredrix_nsp/Documenten/Projecten/aoc2023/Day%205.ipynb#X23sZmlsZQ%3D%3D?line=12'>13</a>\u001b[0m     locations \u001b[39m=\u001b[39m \u001b[39mmin\u001b[39m(locations, location)\n\u001b[0;32m     <a href='vscode-notebook-cell:/c%3A/Users/yorick.fredrix_nsp/Documenten/Projecten/aoc2023/Day%205.ipynb#X23sZmlsZQ%3D%3D?line=13'>14</a>\u001b[0m \u001b[39mprint\u001b[39m(locations)\n",
      "\u001b[1;31mKeyboardInterrupt\u001b[0m: "
     ]
    }
   ],
   "source": [
    "locations = 1e11\n",
    "seedrange = parsed_data[\"seeds\"][7]\n",
    "for seed in tqdm(seedrange):\n",
    "    soil = find_destination(seed, parsed_data, \"seed-to-soil map\")\n",
    "    fertilizer = find_destination(soil, parsed_data, \"soil-to-fertilizer map\")\n",
    "    water = find_destination(fertilizer, parsed_data, \"fertilizer-to-water map\")\n",
    "    light = find_destination(water, parsed_data, \"water-to-light map\")\n",
    "    temperature = find_destination(light, parsed_data, \"light-to-temperature map\")\n",
    "    humidity = find_destination(\n",
    "        temperature, parsed_data, \"temperature-to-humidity map\"\n",
    "    )\n",
    "    location = find_destination(humidity, parsed_data, \"humidity-to-location map\")\n",
    "    locations = min(locations, location)\n",
    "print(locations)"
   ]
  },
  {
   "cell_type": "code",
   "execution_count": null,
   "metadata": {},
   "outputs": [],
   "source": []
  }
 ],
 "metadata": {
  "kernelspec": {
   "display_name": ".venv",
   "language": "python",
   "name": "python3"
  },
  "language_info": {
   "codemirror_mode": {
    "name": "ipython",
    "version": 3
   },
   "file_extension": ".py",
   "mimetype": "text/x-python",
   "name": "python",
   "nbconvert_exporter": "python",
   "pygments_lexer": "ipython3",
   "version": "3.11.6"
  }
 },
 "nbformat": 4,
 "nbformat_minor": 2
}
