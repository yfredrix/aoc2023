{
 "cells": [
  {
   "cell_type": "code",
   "execution_count": 183,
   "metadata": {},
   "outputs": [],
   "source": [
    "example = \"\"\"seeds: 79 14 55 13\n",
    "\n",
    "seed-to-soil map:\n",
    "50 98 2\n",
    "52 50 48\n",
    "\n",
    "soil-to-fertilizer map:\n",
    "0 15 37\n",
    "37 52 2\n",
    "39 0 15\n",
    "\n",
    "fertilizer-to-water map:\n",
    "49 53 8\n",
    "0 11 42\n",
    "42 0 7\n",
    "57 7 4\n",
    "\n",
    "water-to-light map:\n",
    "88 18 7\n",
    "18 25 70\n",
    "\n",
    "light-to-temperature map:\n",
    "45 77 23\n",
    "81 45 19\n",
    "68 64 13\n",
    "\n",
    "temperature-to-humidity map:\n",
    "0 69 1\n",
    "1 0 69\n",
    "\n",
    "humidity-to-location map:\n",
    "60 56 37\n",
    "56 93 4\"\"\""
   ]
  },
  {
   "cell_type": "code",
   "execution_count": 184,
   "metadata": {},
   "outputs": [],
   "source": [
    "translate = [\"destination\", \"source\", \"length\"]\n",
    "example_parsed_data = {}\n",
    "for row in example.splitlines():\n",
    "    if row == \"\":\n",
    "        continue\n",
    "    if \":\" in row:\n",
    "        key, value = row.split(\":\")\n",
    "        if \"seeds\" in key:\n",
    "            example_parsed_data[key.strip()] = [int(x) for x in value.split()]\n",
    "        else:\n",
    "            example_parsed_data[key.strip()] = []\n",
    "    else:\n",
    "        temp = {translate[i]: int(x) for i, x in enumerate(row.split())}\n",
    "        ranges = {\n",
    "            \"source\": range(temp[\"source\"], temp[\"source\"] + temp[\"length\"]),\n",
    "            \"destination\": range(\n",
    "                temp[\"destination\"], temp[\"destination\"] + temp[\"length\"]\n",
    "            ),\n",
    "        }\n",
    "        example_parsed_data[key.strip()].append(ranges)\n",
    "\n",
    "for i in example_parsed_data.keys():\n",
    "    if \"seeds\" not in i:\n",
    "        example_parsed_data[i] = sorted(\n",
    "            example_parsed_data[i], key=lambda x: x[\"source\"].start\n",
    "        )"
   ]
  },
  {
   "cell_type": "code",
   "execution_count": 185,
   "metadata": {},
   "outputs": [],
   "source": [
    "def find_destination(source_number, translate_dir, step):\n",
    "    specific_translate = translate_dir[step]\n",
    "    for translate in specific_translate:\n",
    "        if source_number in translate[\"source\"]:\n",
    "            return translate[\"destination\"].start + (\n",
    "                source_number - translate[\"source\"].start\n",
    "            )\n",
    "    return source_number"
   ]
  },
  {
   "cell_type": "markdown",
   "metadata": {},
   "source": [
    "# Part 1"
   ]
  },
  {
   "cell_type": "code",
   "execution_count": 186,
   "metadata": {},
   "outputs": [],
   "source": [
    "with open(\"./data/Day 5/input.txt\", 'r') as file:\n",
    "    data = file.read().splitlines()"
   ]
  },
  {
   "cell_type": "code",
   "execution_count": 187,
   "metadata": {},
   "outputs": [],
   "source": [
    "translate = [\"destination\", \"source\", \"length\"]\n",
    "parsed_data = {}\n",
    "for row in data:\n",
    "    if row == \"\":\n",
    "        continue\n",
    "    if \":\" in row:\n",
    "        key, value = row.split(\":\")\n",
    "        if \"seeds\" in key:\n",
    "            parsed_data[key.strip()] = [int(x) for x in value.split()]\n",
    "        else:\n",
    "            parsed_data[key.strip()] = []\n",
    "    else:\n",
    "        temp = {translate[i]: int(x) for i, x in enumerate(row.split())}\n",
    "        ranges = {\n",
    "            \"source\": range(temp[\"source\"], temp[\"source\"] + temp[\"length\"]),\n",
    "            \"destination\": range(\n",
    "                temp[\"destination\"], temp[\"destination\"] + temp[\"length\"]\n",
    "            ),\n",
    "        }\n",
    "        parsed_data[key.strip()].append(ranges)\n",
    "\n",
    "for i in parsed_data.keys():\n",
    "    if \"seeds\" not in i:\n",
    "        parsed_data[i] = sorted(parsed_data[i], key=lambda x: x[\"source\"].start)"
   ]
  },
  {
   "cell_type": "code",
   "execution_count": 188,
   "metadata": {},
   "outputs": [
    {
     "name": "stdout",
     "output_type": "stream",
     "text": [
      "35\n"
     ]
    }
   ],
   "source": [
    "locations = []\n",
    "for seed in example_parsed_data[\"seeds\"]:\n",
    "    soil = find_destination(seed, example_parsed_data, \"seed-to-soil map\")\n",
    "    fertilizer = find_destination(soil, example_parsed_data, \"soil-to-fertilizer map\")\n",
    "    water = find_destination(fertilizer, example_parsed_data, \"fertilizer-to-water map\")\n",
    "    light = find_destination(water, example_parsed_data, \"water-to-light map\")\n",
    "    temperature = find_destination(\n",
    "        light, example_parsed_data, \"light-to-temperature map\"\n",
    "    )\n",
    "    humidity = find_destination(\n",
    "        temperature, example_parsed_data, \"temperature-to-humidity map\"\n",
    "    )\n",
    "    location = find_destination(\n",
    "        humidity, example_parsed_data, \"humidity-to-location map\"\n",
    "    )\n",
    "    locations.append(location)\n",
    "print(min(locations))"
   ]
  },
  {
   "cell_type": "code",
   "execution_count": 189,
   "metadata": {},
   "outputs": [
    {
     "name": "stdout",
     "output_type": "stream",
     "text": [
      "218513636\n"
     ]
    }
   ],
   "source": [
    "locations = []\n",
    "for seed in parsed_data[\"seeds\"]:\n",
    "    soil = find_destination(seed, parsed_data, \"seed-to-soil map\")\n",
    "    fertilizer = find_destination(soil, parsed_data, \"soil-to-fertilizer map\")\n",
    "    water = find_destination(fertilizer, parsed_data, \"fertilizer-to-water map\")\n",
    "    light = find_destination(water, parsed_data, \"water-to-light map\")\n",
    "    temperature = find_destination(light, parsed_data, \"light-to-temperature map\")\n",
    "    humidity = find_destination(temperature, parsed_data, \"temperature-to-humidity map\")\n",
    "    location = find_destination(humidity, parsed_data, \"humidity-to-location map\")\n",
    "    locations.append(location)\n",
    "print(min(locations))"
   ]
  },
  {
   "cell_type": "markdown",
   "metadata": {},
   "source": [
    "## Part 2"
   ]
  },
  {
   "cell_type": "code",
   "execution_count": 190,
   "metadata": {},
   "outputs": [],
   "source": [
    "seeds = example_parsed_data[\"seeds\"]\n",
    "new_seeds = []\n",
    "for i in range(0, len(seeds), 2):\n",
    "    new_seeds.append(range(seeds[i], seeds[i + 1] + seeds[i] + 1))\n",
    "example_parsed_data[\"seedranges\"] = new_seeds\n",
    "\n",
    "\n",
    "seeds = parsed_data[\"seeds\"]\n",
    "new_seeds = []\n",
    "for i in range(0, len(seeds), 2):\n",
    "    new_seeds.append(range(seeds[i], seeds[i + 1] + seeds[i] + 1))\n",
    "parsed_data[\"seedranges\"] = new_seeds"
   ]
  },
  {
   "cell_type": "code",
   "execution_count": 202,
   "metadata": {},
   "outputs": [
    {
     "data": {
      "text/plain": [
       "([range(95, 98), range(98, 100), range(100, 110)],\n",
       " [range(50, 52), range(97, 100), range(100, 110)])"
      ]
     },
     "execution_count": 202,
     "metadata": {},
     "output_type": "execute_result"
    }
   ],
   "source": [
    "def map_range(input_range, range_info, key):\n",
    "    \"\"\"The function should find the overlap between the input range and the range list.\n",
    "    Example input: input_range = range(52, 100), range_list = [range(40, 60), range(70, 90)]\n",
    "    Example source_output: [range(52, 60), range(60,70), range(70, 90), range(90, 100)]\n",
    "    \"\"\"\n",
    "    range_source_list = [x[\"source\"] for x in range_info[key]]\n",
    "    range_destination_list = [x[\"destination\"] for x in range_info[key]]\n",
    "    source_output = []\n",
    "    destination_output = []\n",
    "    for nr, i in enumerate(range_source_list):\n",
    "        if i.start >= input_range.stop or i.stop <= input_range.start:\n",
    "            continue\n",
    "        elif i.start >= input_range.start and i.stop <= input_range.stop:\n",
    "            source_output.append(range(i.start, i.stop))\n",
    "            destination_output.append(\n",
    "                range(range_destination_list[nr].start, range_destination_list[nr].stop)\n",
    "            )\n",
    "        elif i.start < input_range.start and i.stop > input_range.stop:\n",
    "            source_output.append(range(input_range.start, input_range.stop))\n",
    "            destination_output.append(\n",
    "                range(\n",
    "                    range_destination_list[nr].start + (input_range.start - i.start),\n",
    "                    range_destination_list[nr].start + (input_range.stop - i.start),\n",
    "                )\n",
    "            )\n",
    "        elif i.start < input_range.start and i.stop <= input_range.stop:\n",
    "            source_output.append(range(input_range.start, i.stop))\n",
    "            destination_output.append(\n",
    "                range(\n",
    "                    range_destination_list[nr].start + (input_range.start - i.start),\n",
    "                    range_destination_list[nr].stop,\n",
    "                )\n",
    "            )\n",
    "        elif i.start >= input_range.start and i.stop >= input_range.stop:\n",
    "            source_output.append(range(i.start, input_range.stop))\n",
    "            destination_output.append(\n",
    "                range(\n",
    "                    range_destination_list[nr].start,\n",
    "                    range_destination_list[nr].start + (input_range.stop - i.start),\n",
    "                )\n",
    "            )\n",
    "\n",
    "    source_output = sorted(source_output, key=lambda x: x.start)\n",
    "\n",
    "    # Add stuff which isn't mapped in the range list\n",
    "    if source_output:\n",
    "        if source_output[0].start > input_range.start:\n",
    "            destination_output.append(range(input_range.start, source_output[0].start))\n",
    "            source_output.insert(0, range(input_range.start, source_output[0].start))\n",
    "        if source_output[-1].stop < input_range.stop:\n",
    "            destination_output.append(range(source_output[-1].stop, input_range.stop))\n",
    "            source_output.append(range(source_output[-1].stop, input_range.stop))\n",
    "\n",
    "        for i in range(len(source_output) - 1):\n",
    "            if source_output[i].stop != source_output[i + 1].start:\n",
    "                destination_output.append(\n",
    "                    range(source_output[i].stop, source_output[i + 1].start)\n",
    "                )\n",
    "                source_output.insert(\n",
    "                    i + 1, range(source_output[i].stop, source_output[i + 1].start)\n",
    "                )\n",
    "    else:\n",
    "        source_output.append(input_range)\n",
    "        destination_output.append(input_range)\n",
    "    destination_output = sorted(destination_output, key=lambda x: x.start)\n",
    "    return source_output, destination_output\n",
    "\n",
    "\n",
    "map_range(range(95, 110), example_parsed_data, \"seed-to-soil map\")"
   ]
  },
  {
   "cell_type": "code",
   "execution_count": 203,
   "metadata": {},
   "outputs": [
    {
     "name": "stdout",
     "output_type": "stream",
     "text": [
      "[[range(46, 56), range(60, 61)], [range(82, 85)], [range(68, 69)], [range(86, 90)], [range(56, 60), range(94, 97), range(97, 100)]]\n",
      "46\n"
     ]
    }
   ],
   "source": [
    "seedranges = example_parsed_data[\"seedranges\"]\n",
    "locations = []\n",
    "start_locs = []\n",
    "for seedrange in seedranges:\n",
    "    _, soil_range = map_range(seedrange, example_parsed_data, \"seed-to-soil map\")\n",
    "    for soil in soil_range:\n",
    "        _, fertilizer_range = map_range(\n",
    "            soil, example_parsed_data, \"soil-to-fertilizer map\"\n",
    "        )\n",
    "        for fertilizer in fertilizer_range:\n",
    "            _, water_range = map_range(\n",
    "                fertilizer, example_parsed_data, \"fertilizer-to-water map\"\n",
    "            )\n",
    "            for water in water_range:\n",
    "                _, light_range = map_range(\n",
    "                    water, example_parsed_data, \"water-to-light map\"\n",
    "                )\n",
    "                for light in light_range:\n",
    "                    _, temperature_range = map_range(\n",
    "                        light, example_parsed_data, \"light-to-temperature map\"\n",
    "                    )\n",
    "                    for temperature in temperature_range:\n",
    "                        _, humidity_range = map_range(\n",
    "                            temperature,\n",
    "                            example_parsed_data,\n",
    "                            \"temperature-to-humidity map\",\n",
    "                        )\n",
    "                        for humidity in humidity_range:\n",
    "                            _, location_range = map_range(\n",
    "                                humidity,\n",
    "                                example_parsed_data,\n",
    "                                \"humidity-to-location map\",\n",
    "                            )\n",
    "                            locations.append(location_range)\n",
    "                            start_locs.append(min([x.start for x in location_range]))\n",
    "print(locations)\n",
    "print(min(start_locs))"
   ]
  },
  {
   "cell_type": "code",
   "execution_count": 204,
   "metadata": {},
   "outputs": [
    {
     "name": "stdout",
     "output_type": "stream",
     "text": [
      "[[range(522761994, 549940730)], [range(4086619351, 4114245069)], [range(3632792332, 3661301945)], [range(3661301945, 3687148353)], [range(668015448, 670327854)], [range(3169340739, 3190304362)], [range(1994231379, 2056117807)], [range(1747535087, 1748822215)], [range(549940730, 550136753)], [range(876486655, 888644053)], [range(3698223319, 3704620563)], [range(3441642521, 3464620375)], [range(1276674482, 1301610861)], [range(232257988, 232958678)], [range(1720499075, 1747535087), range(4243519042, 4279176998)], [range(2552577894, 2577884821)], [range(288875640, 308079844)], [range(2329564024, 2349539545)], [range(3704967548, 3715627067)], [range(280278922, 288875640)], [range(1218249913, 1274588044), range(2884737886, 2914848039), range(3519755810, 3534582689), range(4279176998, 4290148707)], [range(555394663, 606585628), range(3424476263, 3425710324)], [range(2577884821, 2589359657)], [range(2124094240, 2139014891)], [range(3990263023, 3992490524)], [range(1813446793, 1853848651)], [range(308079844, 416908948)], [range(1367077380, 1399376623)], [range(3971571239, 3983430043)], [range(3367560261, 3417648311)], [range(3106655756, 3125413133)], [range(3266837448, 3306464100)], [range(1194105161, 1211605839)], [range(3464620375, 3517485589)], [range(2459750215, 2462147641)], [range(3952753874, 3954587531)], [range(1399376623, 1405347305)], [range(2633955958, 2647331862)], [range(2467354109, 2467843531)], [range(1405573458, 1409258416)], [range(1677111997, 1699858836)], [range(3016645478, 3024154071)], [range(3730231830, 3768208321)], [range(2165139271, 2205889348)], [range(2205889348, 2241665869)], [range(4002673505, 4003633408)], [range(1538233289, 1583976712)], [range(921962153, 924636225)], [range(2393867557, 2403419102)], [range(3435220912, 3441642521)], [range(2462147641, 2467215027)], [range(3955269183, 3962802033)], [range(1028979955, 1074026597)], [range(3014924306, 3016645478)], [range(2063455061, 2124094240)], [range(2744629897, 2773554413)], [range(3926210071, 3941339826)], [range(2527942019, 2552374332)], [range(81956384, 94610443)], [range(1480285602, 1514284653)], [range(94610443, 127181046)], [range(3729021949, 3730231830)], [range(2552374332, 2552577894)], [range(2349539545, 2383471625)], [range(3071107355, 3080695736)], [range(4210052433, 4213207788)], [range(3226464981, 3248293967)], [range(2818617349, 2833185908)], [range(1116311642, 1194105161)], [range(606585628, 610263099), range(3517485589, 3519755810)], [range(610263099, 668015448)], [range(2609821682, 2622443263)], [range(1520262794, 1523074937)], [range(1940180971, 1991906048)], [range(3190304362, 3200672088)], [range(3817578099, 3926210071)], [range(2241665869, 2329564024)], [range(2403419102, 2408103172)], [range(3141303961, 3167469518)], [range(1301610861, 1342317783)], [range(1274588044, 1276674482)], [range(1342317783, 1367077380)], [range(416908948, 520267541)], [range(3608451988, 3614384425)], [range(3614384425, 3632792332)], [range(3211278746, 3226464981)]]\n",
      "81956384\n"
     ]
    }
   ],
   "source": [
    "seedranges = parsed_data[\"seedranges\"]\n",
    "locations = []\n",
    "start_locs = []\n",
    "for seedrange in seedranges:\n",
    "    _, soil_range = map_range(seedrange, parsed_data, \"seed-to-soil map\")\n",
    "    for soil in soil_range:\n",
    "        _, fertilizer_range = map_range(soil, parsed_data, \"soil-to-fertilizer map\")\n",
    "        for fertilizer in fertilizer_range:\n",
    "            _, water_range = map_range(\n",
    "                fertilizer, parsed_data, \"fertilizer-to-water map\"\n",
    "            )\n",
    "            for water in water_range:\n",
    "                _, light_range = map_range(water, parsed_data, \"water-to-light map\")\n",
    "                for light in light_range:\n",
    "                    _, temperature_range = map_range(\n",
    "                        light, parsed_data, \"light-to-temperature map\"\n",
    "                    )\n",
    "                    for temperature in temperature_range:\n",
    "                        _, humidity_range = map_range(\n",
    "                            temperature,\n",
    "                            parsed_data,\n",
    "                            \"temperature-to-humidity map\",\n",
    "                        )\n",
    "                        for humidity in humidity_range:\n",
    "                            _, location_range = map_range(\n",
    "                                humidity,\n",
    "                                parsed_data,\n",
    "                                \"humidity-to-location map\",\n",
    "                            )\n",
    "                            locations.append(location_range)\n",
    "                            start_locs.append(min([x.start for x in location_range]))\n",
    "print(locations)\n",
    "print(min(start_locs))"
   ]
  },
  {
   "cell_type": "code",
   "execution_count": null,
   "metadata": {},
   "outputs": [],
   "source": []
  }
 ],
 "metadata": {
  "kernelspec": {
   "display_name": ".venv",
   "language": "python",
   "name": "python3"
  },
  "language_info": {
   "codemirror_mode": {
    "name": "ipython",
    "version": 3
   },
   "file_extension": ".py",
   "mimetype": "text/x-python",
   "name": "python",
   "nbconvert_exporter": "python",
   "pygments_lexer": "ipython3",
   "version": "3.11.6"
  }
 },
 "nbformat": 4,
 "nbformat_minor": 2
}
