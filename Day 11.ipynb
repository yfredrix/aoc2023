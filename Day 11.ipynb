{
 "cells": [
  {
   "cell_type": "code",
   "execution_count": 1,
   "metadata": {},
   "outputs": [],
   "source": [
    "example = \"\"\"...#......\n",
    ".......#..\n",
    "#.........\n",
    "..........\n",
    "......#...\n",
    ".#........\n",
    ".........#\n",
    "..........\n",
    ".......#..\n",
    "#...#.....\"\"\""
   ]
  },
  {
   "cell_type": "code",
   "execution_count": 22,
   "metadata": {},
   "outputs": [],
   "source": [
    "with open('./data/Day 11/input.txt') as input:\n",
    "    data = input.read()"
   ]
  },
  {
   "cell_type": "code",
   "execution_count": 6,
   "metadata": {},
   "outputs": [],
   "source": [
    "import numpy as np\n",
    "def parse_input(input):\n",
    "    return np.array([list(line) for line in input.splitlines()])"
   ]
  },
  {
   "cell_type": "code",
   "execution_count": 14,
   "metadata": {},
   "outputs": [],
   "source": [
    "def find_stars(galaxy: np.array) -> list[tuple[int, int]]:\n",
    "    stars = []\n",
    "    stars_x = set()\n",
    "    stars_y = set()\n",
    "    star_indexes = np.where(galaxy == '#')\n",
    "    for y, x in zip(*star_indexes):\n",
    "        stars.append((y, x))\n",
    "        stars_x.add(x)\n",
    "        stars_y.add(y)\n",
    "    return stars, stars_x, stars_y"
   ]
  },
  {
   "cell_type": "code",
   "execution_count": 19,
   "metadata": {},
   "outputs": [],
   "source": [
    "def get_empty_space(galaxy: np.array, stars_x: set[int], stars_y: set[int]):\n",
    "    galaxy_size = galaxy.shape\n",
    "    galaxy_y = set(range(galaxy_size[0]))\n",
    "    galaxy_x = set(range(galaxy_size[1]))\n",
    "    empty_space_x = galaxy_x.symmetric_difference(stars_x)\n",
    "    empty_space_y = galaxy_y.symmetric_difference(stars_y)\n",
    "    return empty_space_x, empty_space_y"
   ]
  },
  {
   "cell_type": "code",
   "execution_count": 61,
   "metadata": {},
   "outputs": [],
   "source": [
    "def move_stars(stars: list[tuple[int, int]], empty_space_x: set[int], empty_space_y: set[int], space_expension: int = 1):\n",
    "    new_stars = []\n",
    "    for star in stars:\n",
    "        y, x = star\n",
    "        new_y, new_x = star\n",
    "        for empty_y in empty_space_y:\n",
    "            if y > empty_y:\n",
    "                new_y += space_expension\n",
    "        for empty_x in empty_space_x:\n",
    "            if x > empty_x:\n",
    "                new_x += space_expension\n",
    "        new_stars.append((new_y, new_x))\n",
    "    return new_stars"
   ]
  },
  {
   "cell_type": "code",
   "execution_count": 43,
   "metadata": {},
   "outputs": [],
   "source": [
    "import networkx as nx\n",
    "\n",
    "def calculate_distance(star: tuple[int, int], other_star: tuple[int, int]):\n",
    "    y, x = star\n",
    "    other_y, other_x = other_star\n",
    "    return abs(y - other_y) + abs(x - other_x)\n",
    "\n",
    "\n",
    "def build_star_graph(stars: list[tuple[int, int]]):\n",
    "    graph = nx.Graph()\n",
    "    graph.add_nodes_from(stars)\n",
    "    for star in stars:\n",
    "        y, x = star\n",
    "        for other_star in stars:\n",
    "            other_y, other_x = other_star\n",
    "            if y == other_y and x == other_x:\n",
    "                continue\n",
    "            graph.add_edge(star, other_star, weight=calculate_distance(star, other_star))\n",
    "    return graph\n"
   ]
  },
  {
   "cell_type": "markdown",
   "metadata": {},
   "source": [
    "# Part 1"
   ]
  },
  {
   "cell_type": "code",
   "execution_count": 59,
   "metadata": {},
   "outputs": [
    {
     "data": {
      "text/plain": [
       "374"
      ]
     },
     "execution_count": 59,
     "metadata": {},
     "output_type": "execute_result"
    }
   ],
   "source": [
    "example_galaxy = parse_input(example)\n",
    "example_stars, example_stars_x, example_stars_y = find_stars(example_galaxy)\n",
    "example_empty_x, example_empty_y = get_empty_space(example_galaxy, example_stars_x, example_stars_y)\n",
    "example_new_stars = move_stars(example_stars, example_empty_x, example_empty_y)\n",
    "example_star_graph = build_star_graph(example_new_stars)\n",
    "int(example_star_graph.size(weight='weight'))"
   ]
  },
  {
   "cell_type": "code",
   "execution_count": 60,
   "metadata": {},
   "outputs": [
    {
     "data": {
      "text/plain": [
       "9918828"
      ]
     },
     "execution_count": 60,
     "metadata": {},
     "output_type": "execute_result"
    }
   ],
   "source": [
    "galaxy = parse_input(data)\n",
    "stars, stars_x, stars_y = find_stars(galaxy)\n",
    "empty_x, empty_y = get_empty_space(galaxy, stars_x, stars_y)\n",
    "new_stars = move_stars(stars, empty_x, empty_y)\n",
    "star_graph = build_star_graph(new_stars)\n",
    "int(star_graph.size(weight='weight'))"
   ]
  },
  {
   "cell_type": "markdown",
   "metadata": {},
   "source": [
    "# Part 2"
   ]
  },
  {
   "cell_type": "code",
   "execution_count": 67,
   "metadata": {},
   "outputs": [
    {
     "data": {
      "text/plain": [
       "1030"
      ]
     },
     "execution_count": 67,
     "metadata": {},
     "output_type": "execute_result"
    }
   ],
   "source": [
    "example_galaxy = parse_input(example)\n",
    "example_stars, example_stars_x, example_stars_y = find_stars(example_galaxy)\n",
    "example_empty_x, example_empty_y = get_empty_space(example_galaxy, example_stars_x, example_stars_y)\n",
    "example_new_stars = move_stars(example_stars, example_empty_x, example_empty_y, space_expension=10-1)\n",
    "example_star_graph = build_star_graph(example_new_stars)\n",
    "int(example_star_graph.size(weight='weight'))"
   ]
  },
  {
   "cell_type": "code",
   "execution_count": 68,
   "metadata": {},
   "outputs": [
    {
     "data": {
      "text/plain": [
       "8410"
      ]
     },
     "execution_count": 68,
     "metadata": {},
     "output_type": "execute_result"
    }
   ],
   "source": [
    "example_galaxy = parse_input(example)\n",
    "example_stars, example_stars_x, example_stars_y = find_stars(example_galaxy)\n",
    "example_empty_x, example_empty_y = get_empty_space(example_galaxy, example_stars_x, example_stars_y)\n",
    "example_new_stars = move_stars(example_stars, example_empty_x, example_empty_y, space_expension=100-1)\n",
    "example_star_graph = build_star_graph(example_new_stars)\n",
    "int(example_star_graph.size(weight='weight'))"
   ]
  },
  {
   "cell_type": "code",
   "execution_count": 69,
   "metadata": {},
   "outputs": [
    {
     "data": {
      "text/plain": [
       "692506533832"
      ]
     },
     "execution_count": 69,
     "metadata": {},
     "output_type": "execute_result"
    }
   ],
   "source": [
    "galaxy = parse_input(data)\n",
    "stars, stars_x, stars_y = find_stars(galaxy)\n",
    "empty_x, empty_y = get_empty_space(galaxy, stars_x, stars_y)\n",
    "new_stars = move_stars(stars, empty_x, empty_y, space_expension=1000000-1)\n",
    "star_graph = build_star_graph(new_stars)\n",
    "int(star_graph.size(weight='weight'))"
   ]
  },
  {
   "cell_type": "code",
   "execution_count": null,
   "metadata": {},
   "outputs": [],
   "source": []
  }
 ],
 "metadata": {
  "kernelspec": {
   "display_name": ".venv",
   "language": "python",
   "name": "python3"
  },
  "language_info": {
   "codemirror_mode": {
    "name": "ipython",
    "version": 3
   },
   "file_extension": ".py",
   "mimetype": "text/x-python",
   "name": "python",
   "nbconvert_exporter": "python",
   "pygments_lexer": "ipython3",
   "version": "3.12.1"
  }
 },
 "nbformat": 4,
 "nbformat_minor": 2
}
