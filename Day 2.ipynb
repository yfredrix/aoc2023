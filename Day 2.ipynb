{
 "cells": [
  {
   "cell_type": "code",
   "execution_count": 1,
   "metadata": {},
   "outputs": [],
   "source": [
    "example = \"\"\"Game 1: 3 blue, 4 red; 1 red, 2 green, 6 blue; 2 green\n",
    "Game 2: 1 blue, 2 green; 3 green, 4 blue, 1 red; 1 green, 1 blue\n",
    "Game 3: 8 green, 6 blue, 20 red; 5 blue, 4 red, 13 green; 5 green, 1 red\n",
    "Game 4: 1 green, 3 red, 6 blue; 3 green, 6 red; 3 green, 15 blue, 14 red\n",
    "Game 5: 6 red, 1 blue, 3 green; 2 blue, 1 red, 2 green\n",
    "\"\"\""
   ]
  },
  {
   "cell_type": "code",
   "execution_count": 13,
   "metadata": {},
   "outputs": [],
   "source": [
    "def parse_game(game):\n",
    "    \"\"\"\n",
    "    Parse the game information into a dictionary with the keys being the game number;\n",
    "    The values being a dictionary with the keys being the colors and the values being the maximum number of that color\n",
    "    Example:\n",
    "    Game 1: 3 blue, 4 red; 1 red, 2 green, 6 blue; 2 green\n",
    "    Game 2: 1 blue, 2 green; 3 green, 4 blue, 1 red; 1 green, 1 blue\n",
    "    Becomes:\n",
    "    {1: {'blue': 6, 'red': 4, 'green': 2}, 2: {'blue': 4, 'red': 1, 'green': 3}}\n",
    "    \"\"\"\n",
    "    games = {}\n",
    "    for line in game.splitlines():\n",
    "        if line:\n",
    "            game_number, game_info = line.split(':')\n",
    "            games[int(game_number.split()[-1])] = {}\n",
    "            colors = {}\n",
    "            for sub_game in game_info.split(';'):\n",
    "                for color in sub_game.split(','):\n",
    "                    color = color.strip()\n",
    "                    if color:\n",
    "                        color_number = color.split()\n",
    "                        if color_number[1] not in colors:\n",
    "                            colors[color_number[1]] = int(color_number[0])\n",
    "                        else:\n",
    "                            colors[color_number[1]] = max(colors[color_number[1]], int(color_number[0]))\n",
    "            games[int(game_number.split()[-1])] = colors\n",
    "    return games"
   ]
  },
  {
   "cell_type": "code",
   "execution_count": 16,
   "metadata": {},
   "outputs": [],
   "source": [
    "from typing import Dict\n",
    "def filter_possible_games(games: Dict[str, Dict[str, int]], bag_contents: Dict[str, int]):\n",
    "    \"\"\"\n",
    "    Given a dictionary of games and a dictionary of bag contents, filter out the games that are not possible\n",
    "    \"\"\"\n",
    "    possible_games = {}\n",
    "    for game, colors in games.items():\n",
    "        possible = True\n",
    "        for color, number in colors.items():\n",
    "            if color not in bag_contents or bag_contents[color] < number:\n",
    "                possible = False\n",
    "                break\n",
    "        if possible:\n",
    "            possible_games[game] = colors\n",
    "    return possible_games\n"
   ]
  },
  {
   "cell_type": "markdown",
   "metadata": {},
   "source": [
    "## Part 1"
   ]
  },
  {
   "cell_type": "code",
   "execution_count": 17,
   "metadata": {},
   "outputs": [],
   "source": [
    "bag_contents = {'blue': 14, 'red': 12, 'green': 13}"
   ]
  },
  {
   "cell_type": "code",
   "execution_count": 34,
   "metadata": {},
   "outputs": [
    {
     "name": "stdout",
     "output_type": "stream",
     "text": [
      "The code is 2541\n"
     ]
    }
   ],
   "source": [
    "with open('./data/Day 2/input.txt') as f:\n",
    "    games = parse_game(f.read())\n",
    "    filtered_games = filter_possible_games(games, bag_contents)\n",
    "    code = sum(filtered_games.keys())\n",
    "    print(f'The code is {code}')"
   ]
  },
  {
   "cell_type": "code",
   "execution_count": 29,
   "metadata": {},
   "outputs": [
    {
     "name": "stdout",
     "output_type": "stream",
     "text": [
      "8\n"
     ]
    }
   ],
   "source": [
    "example_games = parse_game(example)\n",
    "possible_games = filter_possible_games(example_games, bag_contents)\n",
    "code = sum(possible_games.keys())\n",
    "print(code)"
   ]
  },
  {
   "cell_type": "markdown",
   "metadata": {},
   "source": [
    "## Part 2"
   ]
  },
  {
   "cell_type": "code",
   "execution_count": 30,
   "metadata": {},
   "outputs": [],
   "source": [
    "from functools import reduce\n",
    "def power_counts(games):\n",
    "    \"\"\"Returns the multiplication of the color values for each game\n",
    "    Example:\n",
    "    {1: {'blue': 6, 'red': 4, 'green': 2}, 2: {'blue': 4, 'red': 1, 'green': 3}}\n",
    "    Becomes:\n",
    "    {1: 48, 2: 12}\n",
    "    \"\"\"\n",
    "    return {game: reduce(lambda x, y: x * y, colors.values()) for game, colors in games.items()}"
   ]
  },
  {
   "cell_type": "code",
   "execution_count": 32,
   "metadata": {},
   "outputs": [
    {
     "name": "stdout",
     "output_type": "stream",
     "text": [
      "2286\n"
     ]
    }
   ],
   "source": [
    "example_results = power_counts(example_games)\n",
    "print(sum(example_results.values()))"
   ]
  },
  {
   "cell_type": "code",
   "execution_count": 35,
   "metadata": {},
   "outputs": [
    {
     "data": {
      "text/plain": [
       "66016"
      ]
     },
     "execution_count": 35,
     "metadata": {},
     "output_type": "execute_result"
    }
   ],
   "source": [
    "sum(power_counts(games).values())"
   ]
  },
  {
   "cell_type": "code",
   "execution_count": null,
   "metadata": {},
   "outputs": [],
   "source": []
  }
 ],
 "metadata": {
  "kernelspec": {
   "display_name": ".venv",
   "language": "python",
   "name": "python3"
  },
  "language_info": {
   "codemirror_mode": {
    "name": "ipython",
    "version": 3
   },
   "file_extension": ".py",
   "mimetype": "text/x-python",
   "name": "python",
   "nbconvert_exporter": "python",
   "pygments_lexer": "ipython3",
   "version": "3.11.6"
  }
 },
 "nbformat": 4,
 "nbformat_minor": 2
}
