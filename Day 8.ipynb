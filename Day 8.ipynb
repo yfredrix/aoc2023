{
 "cells": [
  {
   "cell_type": "code",
   "execution_count": 7,
   "metadata": {},
   "outputs": [],
   "source": [
    "example = \"\"\"RL\n",
    "\n",
    "AAA = (BBB, CCC)\n",
    "BBB = (DDD, EEE)\n",
    "CCC = (ZZZ, GGG)\n",
    "DDD = (DDD, DDD)\n",
    "EEE = (EEE, EEE)\n",
    "GGG = (GGG, GGG)\n",
    "ZZZ = (ZZZ, ZZZ)\"\"\""
   ]
  },
  {
   "cell_type": "code",
   "execution_count": 8,
   "metadata": {},
   "outputs": [],
   "source": [
    "with open(\"./data/Day 8/input.txt\", \"r\") as file:\n",
    "    data = file.read()"
   ]
  },
  {
   "cell_type": "code",
   "execution_count": 9,
   "metadata": {},
   "outputs": [],
   "source": [
    "def parse_nodes_instructions(input:str) -> (str, dict[str, list[str, str]]):\n",
    "    nodes = {}\n",
    "    for i, line in enumerate(input.splitlines()):\n",
    "        if i == 0:\n",
    "            instructions = line\n",
    "        elif i == 1:\n",
    "            continue\n",
    "        else:\n",
    "            node, edges = line.split(\" = \")\n",
    "            edges = edges.replace(\"(\", \"\").replace(\")\",\"\").replace(\" \",\"\").split(\",\")\n",
    "            nodes[node.replace(\" \",\"\")] = edges\n",
    "    return instructions, nodes"
   ]
  },
  {
   "cell_type": "code",
   "execution_count": 10,
   "metadata": {},
   "outputs": [],
   "source": [
    "def walk_nodes(instructions, nodes, start_node=\"AAA\", end_node=\"ZZZ\"):\n",
    "    current_node = start_node\n",
    "    steps = 0\n",
    "    while current_node != end_node:\n",
    "        if instructions[steps%len(instructions)] == \"L\":\n",
    "            current_node = nodes[current_node][0]\n",
    "        elif instructions[steps%len(instructions)] == \"R\":\n",
    "            current_node = nodes[current_node][1]\n",
    "        else:\n",
    "            print(\"Error\")\n",
    "            break\n",
    "        steps += 1\n",
    "    return steps"
   ]
  },
  {
   "cell_type": "markdown",
   "metadata": {},
   "source": [
    "# Part 1"
   ]
  },
  {
   "cell_type": "code",
   "execution_count": 11,
   "metadata": {},
   "outputs": [],
   "source": [
    "example_instructions, example_nodes = parse_nodes_instructions(example)"
   ]
  },
  {
   "cell_type": "code",
   "execution_count": 12,
   "metadata": {},
   "outputs": [
    {
     "data": {
      "text/plain": [
       "2"
      ]
     },
     "execution_count": 12,
     "metadata": {},
     "output_type": "execute_result"
    }
   ],
   "source": [
    "walk_nodes(example_instructions, example_nodes)"
   ]
  },
  {
   "cell_type": "code",
   "execution_count": 13,
   "metadata": {},
   "outputs": [
    {
     "data": {
      "text/plain": [
       "13301"
      ]
     },
     "execution_count": 13,
     "metadata": {},
     "output_type": "execute_result"
    }
   ],
   "source": [
    "instructions, nodes = parse_nodes_instructions(data)\n",
    "walk_nodes(instructions, nodes)"
   ]
  },
  {
   "cell_type": "markdown",
   "metadata": {},
   "source": [
    "# Part 2"
   ]
  },
  {
   "cell_type": "code",
   "execution_count": 19,
   "metadata": {},
   "outputs": [],
   "source": [
    "example_2 = \"\"\"LR\n",
    "\n",
    "11A = (11B, XXX)\n",
    "11B = (XXX, 11Z)\n",
    "11Z = (11B, XXX)\n",
    "22A = (22B, XXX)\n",
    "22B = (22C, 22C)\n",
    "22C = (22Z, 22Z)\n",
    "22Z = (22B, 22B)\n",
    "XXX = (XXX, XXX)\"\"\""
   ]
  },
  {
   "cell_type": "code",
   "execution_count": 43,
   "metadata": {},
   "outputs": [],
   "source": [
    "def walk_nodes_2(instructions, nodes):\n",
    "    all_start_nodes = [node for node in nodes if node[-1] == \"A\"]\n",
    "    results = {}\n",
    "    for node in all_start_nodes:\n",
    "        current_node = node\n",
    "        steps = 0\n",
    "        while current_node[-1] != \"Z\":\n",
    "            if instructions[steps % len(instructions)] == \"L\":\n",
    "                current_node = nodes[current_node][0]\n",
    "            elif instructions[steps % len(instructions)] == \"R\":\n",
    "                current_node = nodes[current_node][1]\n",
    "            else:\n",
    "                print(\"Error\")\n",
    "                break\n",
    "            steps += 1\n",
    "        results[node] = steps\n",
    "    return results"
   ]
  },
  {
   "cell_type": "code",
   "execution_count": 49,
   "metadata": {},
   "outputs": [
    {
     "data": {
      "text/plain": [
       "6"
      ]
     },
     "execution_count": 49,
     "metadata": {},
     "output_type": "execute_result"
    }
   ],
   "source": [
    "import math\n",
    "min_steps = walk_nodes_2(*parse_nodes_instructions(example_2))\n",
    "math.lcm(*min_steps.values())"
   ]
  },
  {
   "cell_type": "code",
   "execution_count": 51,
   "metadata": {},
   "outputs": [
    {
     "data": {
      "text/plain": [
       "7309459565207"
      ]
     },
     "execution_count": 51,
     "metadata": {},
     "output_type": "execute_result"
    }
   ],
   "source": [
    "min_steps = walk_nodes_2(instructions, nodes)\n",
    "math.lcm(*min_steps.values())"
   ]
  },
  {
   "cell_type": "code",
   "execution_count": null,
   "metadata": {},
   "outputs": [],
   "source": []
  }
 ],
 "metadata": {
  "kernelspec": {
   "display_name": ".venv",
   "language": "python",
   "name": "python3"
  },
  "language_info": {
   "codemirror_mode": {
    "name": "ipython",
    "version": 3
   },
   "file_extension": ".py",
   "mimetype": "text/x-python",
   "name": "python",
   "nbconvert_exporter": "python",
   "pygments_lexer": "ipython3",
   "version": "3.11.7"
  }
 },
 "nbformat": 4,
 "nbformat_minor": 2
}
