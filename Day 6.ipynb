{
 "cells": [
  {
   "cell_type": "code",
   "execution_count": 33,
   "metadata": {},
   "outputs": [],
   "source": [
    "def solve4boat(max_time, min_distance):\n",
    "    checks = []\n",
    "    for time in range(max_time):\n",
    "        distance = time*(max_time-time)\n",
    "        checks.append(distance > min_distance)\n",
    "    return checks"
   ]
  },
  {
   "cell_type": "code",
   "execution_count": 42,
   "metadata": {},
   "outputs": [],
   "source": [
    "with open('./data/Day 6/input.txt') as f:\n",
    "    data = f.read()"
   ]
  },
  {
   "cell_type": "code",
   "execution_count": 34,
   "metadata": {},
   "outputs": [],
   "source": [
    "example = \"\"\"Time:      7  15   30\n",
    "Distance:  9  40  200\"\"\""
   ]
  },
  {
   "cell_type": "markdown",
   "metadata": {},
   "source": [
    "# Part 1"
   ]
  },
  {
   "cell_type": "code",
   "execution_count": 35,
   "metadata": {},
   "outputs": [],
   "source": [
    "def parse_input(input):\n",
    "    parsed = {}\n",
    "    parsed[\"times\"] = [int(i) for i in input.splitlines()[0].split(\":\")[1].split()]\n",
    "    parsed[\"distance\"] = [int(i) for i in input.splitlines()[1].split(\":\")[1].split()]\n",
    "    return parsed"
   ]
  },
  {
   "cell_type": "code",
   "execution_count": 39,
   "metadata": {},
   "outputs": [
    {
     "data": {
      "text/plain": [
       "288"
      ]
     },
     "execution_count": 39,
     "metadata": {},
     "output_type": "execute_result"
    }
   ],
   "source": [
    "import math\n",
    "\n",
    "parsed_example = parse_input(example)\n",
    "options = []\n",
    "nr_options = []\n",
    "for i, max_time in enumerate(parsed_example[\"times\"]):\n",
    "    temp_options = solve4boat(max_time, parsed_example[\"distance\"][i])\n",
    "    options.append(temp_options)\n",
    "    nr_options.append(sum(temp_options))\n",
    "math.prod(nr_options)"
   ]
  },
  {
   "cell_type": "code",
   "execution_count": 43,
   "metadata": {},
   "outputs": [
    {
     "data": {
      "text/plain": [
       "771628"
      ]
     },
     "execution_count": 43,
     "metadata": {},
     "output_type": "execute_result"
    }
   ],
   "source": [
    "import math\n",
    "\n",
    "parsed_data = parse_input(data)\n",
    "options = []\n",
    "nr_options = []\n",
    "for i, max_time in enumerate(parsed_data[\"times\"]):\n",
    "    temp_options = solve4boat(max_time, parsed_data[\"distance\"][i])\n",
    "    options.append(temp_options)\n",
    "    nr_options.append(sum(temp_options))\n",
    "math.prod(nr_options)"
   ]
  },
  {
   "cell_type": "markdown",
   "metadata": {},
   "source": [
    "# Part 2"
   ]
  },
  {
   "cell_type": "code",
   "execution_count": 51,
   "metadata": {},
   "outputs": [],
   "source": [
    "def parse_input2(input):\n",
    "    parsed = {}\n",
    "    for line in input.splitlines():\n",
    "        parsed[line.split(\":\")[0]] = int(line.split(\":\")[1].replace(\" \",\"\"))\n",
    "    return parsed"
   ]
  },
  {
   "cell_type": "code",
   "execution_count": 56,
   "metadata": {},
   "outputs": [
    {
     "data": {
      "text/plain": [
       "71503"
      ]
     },
     "execution_count": 56,
     "metadata": {},
     "output_type": "execute_result"
    }
   ],
   "source": [
    "parsed_example = parse_input2(example)\n",
    "temp_options = solve4boat(parsed_example[\"Time\"], parsed_example[\"Distance\"])\n",
    "nr_options = sum(temp_options)\n",
    "nr_options"
   ]
  },
  {
   "cell_type": "code",
   "execution_count": 57,
   "metadata": {},
   "outputs": [
    {
     "data": {
      "text/plain": [
       "27363861"
      ]
     },
     "execution_count": 57,
     "metadata": {},
     "output_type": "execute_result"
    }
   ],
   "source": [
    "parsed_data = parse_input2(data)\n",
    "temp_options = solve4boat(parsed_data[\"Time\"], parsed_data[\"Distance\"])\n",
    "nr_options = sum(temp_options)\n",
    "nr_options"
   ]
  },
  {
   "cell_type": "code",
   "execution_count": null,
   "metadata": {},
   "outputs": [],
   "source": []
  }
 ],
 "metadata": {
  "kernelspec": {
   "display_name": ".venv",
   "language": "python",
   "name": "python3"
  },
  "language_info": {
   "codemirror_mode": {
    "name": "ipython",
    "version": 3
   },
   "file_extension": ".py",
   "mimetype": "text/x-python",
   "name": "python",
   "nbconvert_exporter": "python",
   "pygments_lexer": "ipython3",
   "version": "3.11.6"
  }
 },
 "nbformat": 4,
 "nbformat_minor": 2
}
