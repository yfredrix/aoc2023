{
 "cells": [
  {
   "cell_type": "code",
   "execution_count": 52,
   "metadata": {},
   "outputs": [],
   "source": [
    "example = \"\"\"...........\n",
    ".....###.#.\n",
    ".###.##..#.\n",
    "..#.#...#..\n",
    "....#.#....\n",
    ".##..S####.\n",
    ".##..#...#.\n",
    ".......##..\n",
    ".##.#.####.\n",
    ".##..##.##.\n",
    "...........\"\"\""
   ]
  },
  {
   "cell_type": "code",
   "execution_count": 30,
   "metadata": {},
   "outputs": [],
   "source": [
    "with open('./data/Day 21/input.txt') as f:\n",
    "    data = f.read()"
   ]
  },
  {
   "cell_type": "code",
   "execution_count": 44,
   "metadata": {},
   "outputs": [],
   "source": [
    "import numpy as np\n",
    "def parse_gardens(inputdata: str):\n",
    "    grid = []\n",
    "    for line in inputdata.splitlines():\n",
    "        grid.append(list(line))\n",
    "    gardens = np.array(grid)\n",
    "    return np.pad(gardens, 1, mode='constant', constant_values='#')"
   ]
  },
  {
   "cell_type": "code",
   "execution_count": 53,
   "metadata": {},
   "outputs": [],
   "source": [
    "def walk_garden(garden: np.array, current_locations):\n",
    "    new_locations = set()\n",
    "    for location in current_locations:\n",
    "        for dx, dy in [(0, 1), (0, -1), (1, 0), (-1, 0)]:\n",
    "            nloc = (location[0] + dy, location[1] + dx)\n",
    "            if garden[nloc] == '#':\n",
    "                continue\n",
    "            new_locations.add(nloc)\n",
    "    return new_locations"
   ]
  },
  {
   "cell_type": "code",
   "execution_count": 54,
   "metadata": {},
   "outputs": [],
   "source": [
    "def walk_around_garden(garden: np.array, start_location, number_of_steps: int):\n",
    "    current_locations = set([start_location])\n",
    "    for _ in range(number_of_steps):\n",
    "        current_locations = walk_garden(garden, current_locations)\n",
    "    return current_locations"
   ]
  },
  {
   "cell_type": "markdown",
   "metadata": {},
   "source": [
    "# Part 1"
   ]
  },
  {
   "cell_type": "code",
   "execution_count": 58,
   "metadata": {},
   "outputs": [
    {
     "data": {
      "text/plain": [
       "16"
      ]
     },
     "execution_count": 58,
     "metadata": {},
     "output_type": "execute_result"
    }
   ],
   "source": [
    "example_garden = parse_gardens(example)\n",
    "y, x = np.where(example_garden == \"S\")\n",
    "example_start_location = (y[0], x[0])\n",
    "locations_example = walk_around_garden(example_garden, example_start_location, 6)\n",
    "len(locations_example)"
   ]
  },
  {
   "cell_type": "code",
   "execution_count": 67,
   "metadata": {},
   "outputs": [
    {
     "data": {
      "text/plain": [
       "3632"
      ]
     },
     "execution_count": 67,
     "metadata": {},
     "output_type": "execute_result"
    }
   ],
   "source": [
    "garden = parse_gardens(data)\n",
    "y, x = np.where(garden == \"S\")\n",
    "start_location = (y[0], x[0])\n",
    "locations_example = walk_around_garden(garden, start_location, 64)\n",
    "len(locations_example)"
   ]
  },
  {
   "cell_type": "markdown",
   "metadata": {},
   "source": [
    "# Part 2"
   ]
  },
  {
   "cell_type": "code",
   "execution_count": 116,
   "metadata": {},
   "outputs": [],
   "source": [
    "import numpy as np\n",
    "import math\n",
    "\n",
    "def parse_gardens2(inputdata: str):\n",
    "    grid = []\n",
    "    for line in inputdata.splitlines():\n",
    "        grid.append(list(line))\n",
    "    gardens = np.array(grid)\n",
    "    return gardens"
   ]
  },
  {
   "cell_type": "code",
   "execution_count": 117,
   "metadata": {},
   "outputs": [],
   "source": [
    "def extend_garden(garden: np.array):\n",
    "    horizontal_extension = np.concatenate(9 * [garden])\n",
    "    vertical_extension = np.concatenate(9 * [horizontal_extension], axis=1)\n",
    "    return vertical_extension"
   ]
  },
  {
   "cell_type": "code",
   "execution_count": 118,
   "metadata": {},
   "outputs": [],
   "source": [
    "def find_start(garden: np.array):\n",
    "    y_range, x_range = np.where(garden == \"S\")\n",
    "    middle = round(len(y_range) / 2)\n",
    "    start_location = (y_range[middle], x_range[middle])\n",
    "    return start_location"
   ]
  },
  {
   "cell_type": "code",
   "execution_count": 119,
   "metadata": {},
   "outputs": [],
   "source": [
    "example_garden2 = parse_gardens2(example)\n",
    "extended_example_garden = extend_garden(example_garden2)\n",
    "example_start_location = find_start(extended_example_garden)"
   ]
  },
  {
   "cell_type": "code",
   "execution_count": 120,
   "metadata": {},
   "outputs": [
    {
     "data": {
      "text/plain": [
       "1594"
      ]
     },
     "execution_count": 120,
     "metadata": {},
     "output_type": "execute_result"
    }
   ],
   "source": [
    "len(walk_around_garden(extended_example_garden, example_start_location, 50))"
   ]
  },
  {
   "cell_type": "code",
   "execution_count": 121,
   "metadata": {},
   "outputs": [],
   "source": [
    "garden2 = parse_gardens2(data)\n",
    "extend_garden2 = extend_garden(garden2)\n",
    "start_location2 = find_start(extend_garden2)"
   ]
  },
  {
   "cell_type": "code",
   "execution_count": 139,
   "metadata": {},
   "outputs": [],
   "source": [
    "height = garden2.shape[0]"
   ]
  },
  {
   "cell_type": "code",
   "execution_count": 140,
   "metadata": {},
   "outputs": [],
   "source": [
    "first_grid = len(walk_around_garden(extend_garden2, start_location2, math.floor(height / 2)))\n",
    "second_grid = len(walk_around_garden(extend_garden2, start_location2, math.floor(height / 2) + height))\n",
    "third_grid = len(walk_around_garden(extend_garden2, start_location2, math.floor(height / 2) + 2 * height))"
   ]
  },
  {
   "cell_type": "code",
   "execution_count": 161,
   "metadata": {},
   "outputs": [],
   "source": [
    "def interpolate(n: int, a: int, b: int, c: int) -> int:\n",
    "    fst = b - a\n",
    "    snd = c - b\n",
    "    return a + fst * n + ((n**2 - n) // 2) * (snd - fst)"
   ]
  },
  {
   "cell_type": "code",
   "execution_count": 162,
   "metadata": {},
   "outputs": [
    {
     "data": {
      "text/plain": [
       "600336060511101"
      ]
     },
     "execution_count": 162,
     "metadata": {},
     "output_type": "execute_result"
    }
   ],
   "source": [
    "interpolate(26501365//height, first_grid, second_grid, third_grid)"
   ]
  },
  {
   "cell_type": "code",
   "execution_count": null,
   "metadata": {},
   "outputs": [],
   "source": []
  }
 ],
 "metadata": {
  "kernelspec": {
   "display_name": ".venv",
   "language": "python",
   "name": "python3"
  },
  "language_info": {
   "codemirror_mode": {
    "name": "ipython",
    "version": 3
   },
   "file_extension": ".py",
   "mimetype": "text/x-python",
   "name": "python",
   "nbconvert_exporter": "python",
   "pygments_lexer": "ipython3",
   "version": "3.8.10"
  }
 },
 "nbformat": 4,
 "nbformat_minor": 2
}
