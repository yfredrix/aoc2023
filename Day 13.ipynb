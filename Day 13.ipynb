{
 "cells": [
  {
   "cell_type": "code",
   "execution_count": 101,
   "metadata": {},
   "outputs": [],
   "source": [
    "example = \"\"\"#.##..##.\n",
    "..#.##.#.\n",
    "##......#\n",
    "##......#\n",
    "..#.##.#.\n",
    "..##..##.\n",
    "#.#.##.#.\n",
    "\n",
    "#...##..#\n",
    "#....#..#\n",
    "..##..###\n",
    "#####.##.\n",
    "#####.##.\n",
    "..##..###\n",
    "#....#..#\"\"\""
   ]
  },
  {
   "cell_type": "code",
   "execution_count": 102,
   "metadata": {},
   "outputs": [],
   "source": [
    "import numpy as np\n",
    "from typing import List\n",
    "\n",
    "def parse_input(ashes_map_string: str) -> List[np.array]:\n",
    "    ashes_map = []\n",
    "    temp_map = []\n",
    "    for line in ashes_map_string.splitlines():\n",
    "        if line:\n",
    "            temp_map.append(list(line))\n",
    "        else:\n",
    "            ashes_map.append(np.array(temp_map))\n",
    "            temp_map = []\n",
    "    ashes_map.append(np.array(temp_map))\n",
    "    return ashes_map"
   ]
  },
  {
   "cell_type": "code",
   "execution_count": 137,
   "metadata": {},
   "outputs": [],
   "source": [
    "def check_mirror(ash_map, mirror_loc, direction):\n",
    "    size = ash_map.shape\n",
    "    if direction == \"col\":\n",
    "        distance = min(size[1] - (mirror_loc + 1), mirror_loc + 1)\n",
    "        if distance == mirror_loc + 1:\n",
    "            return np.array_equal(\n",
    "                ash_map[:, : mirror_loc + 1],\n",
    "                np.flip(ash_map[:, mirror_loc + 1 : 2 * (mirror_loc + 1)], axis=1),\n",
    "            )\n",
    "        else:\n",
    "            return np.array_equal(\n",
    "                ash_map[:, mirror_loc + 1 - distance : mirror_loc + 1],\n",
    "                np.flip(ash_map[:, mirror_loc + 1 :], axis=1),\n",
    "            )\n",
    "    elif direction == \"row\":\n",
    "        distance = min(size[0] - (mirror_loc + 1), mirror_loc + 1)\n",
    "        if distance == mirror_loc + 1:\n",
    "            return np.array_equal(\n",
    "                ash_map[: mirror_loc + 1, :],\n",
    "                np.flip(ash_map[mirror_loc + 1 : 2 * (mirror_loc + 1), :], axis=0),\n",
    "            )\n",
    "        else:\n",
    "            return np.array_equal(\n",
    "                ash_map[mirror_loc + 1 - distance : mirror_loc + 1, :],\n",
    "                np.flip(ash_map[mirror_loc + 1 :, :], axis=0),\n",
    "            )\n",
    "\n",
    "    else:\n",
    "        raise ValueError(\"direction must be 'col' or 'row'\")"
   ]
  },
  {
   "cell_type": "code",
   "execution_count": 138,
   "metadata": {},
   "outputs": [],
   "source": [
    "def find_mirror(ash_map: np.array):\n",
    "    size = ash_map.shape\n",
    "    for i in range(size[0]-1):\n",
    "        if np.array_equal(ash_map[i, :], ash_map[i + 1, :]):\n",
    "            if check_mirror(ash_map, i, \"row\"):\n",
    "                return 100*(i+1)\n",
    "    for j in range(size[1]-1):\n",
    "        if np.array_equal(ash_map[:, j], ash_map[:, j + 1]):\n",
    "            if check_mirror(ash_map, j, \"col\"):\n",
    "                return j+1\n",
    "    assert 2==1, \"Should not reach\""
   ]
  },
  {
   "cell_type": "code",
   "execution_count": 139,
   "metadata": {},
   "outputs": [],
   "source": [
    "with open(\"./data/Day 13/input.txt\", 'r') as file:\n",
    "    data = file.read()"
   ]
  },
  {
   "cell_type": "code",
   "execution_count": 140,
   "metadata": {},
   "outputs": [],
   "source": [
    "ashes_example = parse_input(example)\n",
    "ashes = parse_input(data)"
   ]
  },
  {
   "cell_type": "code",
   "execution_count": 141,
   "metadata": {},
   "outputs": [
    {
     "data": {
      "text/plain": [
       "(17, 7)"
      ]
     },
     "execution_count": 141,
     "metadata": {},
     "output_type": "execute_result"
    }
   ],
   "source": [
    "ashes[0].shape"
   ]
  },
  {
   "cell_type": "code",
   "execution_count": 142,
   "metadata": {},
   "outputs": [
    {
     "name": "stdout",
     "output_type": "stream",
     "text": [
      "405\n"
     ]
    }
   ],
   "source": [
    "example_value = 0\n",
    "for map in ashes_example:\n",
    "    example_value += find_mirror(map)\n",
    "print(example_value)"
   ]
  },
  {
   "cell_type": "code",
   "execution_count": 144,
   "metadata": {},
   "outputs": [
    {
     "name": "stdout",
     "output_type": "stream",
     "text": [
      "34889\n"
     ]
    }
   ],
   "source": [
    "value = 0\n",
    "for map in ashes:\n",
    "    value += find_mirror(map)\n",
    "print(value)"
   ]
  },
  {
   "cell_type": "markdown",
   "metadata": {},
   "source": [
    "# Part 2"
   ]
  },
  {
   "cell_type": "code",
   "execution_count": 150,
   "metadata": {},
   "outputs": [],
   "source": [
    "def check_mirror_part2(ash_map, mirror_loc, direction):\n",
    "    size = ash_map.shape\n",
    "    if direction == \"col\":\n",
    "        distance = min(size[1] - (mirror_loc + 1), mirror_loc + 1)\n",
    "        if distance == mirror_loc + 1:\n",
    "            return (\n",
    "                ash_map[:, : mirror_loc + 1][\n",
    "                    np.not_equal(\n",
    "                        ash_map[:, : mirror_loc + 1],\n",
    "                        np.flip(\n",
    "                            ash_map[:, mirror_loc + 1 : 2 * (mirror_loc + 1)], axis=1\n",
    "                        ),\n",
    "                    )\n",
    "                ].size\n",
    "                == 1\n",
    "            )\n",
    "        else:\n",
    "            return (\n",
    "                ash_map[:, mirror_loc + 1 - distance : mirror_loc + 1][\n",
    "                    np.not_equal(\n",
    "                        ash_map[:, mirror_loc + 1 - distance : mirror_loc + 1],\n",
    "                        np.flip(ash_map[:, mirror_loc + 1 :], axis=1),\n",
    "                    )\n",
    "                ].size\n",
    "                == 1\n",
    "            )\n",
    "    elif direction == \"row\":\n",
    "        distance = min(size[0] - (mirror_loc + 1), mirror_loc + 1)\n",
    "        if distance == mirror_loc + 1:\n",
    "            return ash_map[: mirror_loc + 1, :][np.not_equal(\n",
    "                ash_map[: mirror_loc + 1, :],\n",
    "                np.flip(ash_map[mirror_loc + 1 : 2 * (mirror_loc + 1), :], axis=0),\n",
    "            )].size == 1\n",
    "        else:\n",
    "            return ash_map[mirror_loc + 1 - distance : mirror_loc + 1, :][np.not_equal(\n",
    "                ash_map[mirror_loc + 1 - distance : mirror_loc + 1, :],\n",
    "                np.flip(ash_map[mirror_loc + 1 :, :], axis=0),\n",
    "            )].size == 1\n",
    "\n",
    "    else:\n",
    "        raise ValueError(\"direction must be 'col' or 'row'\")"
   ]
  },
  {
   "cell_type": "code",
   "execution_count": 151,
   "metadata": {},
   "outputs": [],
   "source": [
    "def find_mirror_part_2(ash_map: np.array):\n",
    "    size = ash_map.shape\n",
    "    for i in range(size[0] - 1):\n",
    "        if check_mirror_part2(ash_map, i, \"row\"):\n",
    "            return 100 * (i + 1)\n",
    "    for j in range(size[1] - 1):\n",
    "        if check_mirror_part2(ash_map, j, \"col\"):\n",
    "            return j + 1\n",
    "    assert 2 == 1, \"Should not reach\""
   ]
  },
  {
   "cell_type": "code",
   "execution_count": 153,
   "metadata": {},
   "outputs": [
    {
     "name": "stdout",
     "output_type": "stream",
     "text": [
      "400\n"
     ]
    }
   ],
   "source": [
    "example_value = 0\n",
    "for ash_ex in ashes_example:\n",
    "    example_value += find_mirror_part_2(ash_ex)\n",
    "print(example_value)"
   ]
  },
  {
   "cell_type": "code",
   "execution_count": 154,
   "metadata": {},
   "outputs": [
    {
     "name": "stdout",
     "output_type": "stream",
     "text": [
      "34224\n"
     ]
    }
   ],
   "source": [
    "value = 0\n",
    "for map in ashes:\n",
    "    value += find_mirror_part_2(map)\n",
    "print(value)"
   ]
  },
  {
   "cell_type": "code",
   "execution_count": null,
   "metadata": {},
   "outputs": [],
   "source": []
  }
 ],
 "metadata": {
  "kernelspec": {
   "display_name": ".venv",
   "language": "python",
   "name": "python3"
  },
  "language_info": {
   "codemirror_mode": {
    "name": "ipython",
    "version": 3
   },
   "file_extension": ".py",
   "mimetype": "text/x-python",
   "name": "python",
   "nbconvert_exporter": "python",
   "pygments_lexer": "ipython3",
   "version": "3.8.10"
  }
 },
 "nbformat": 4,
 "nbformat_minor": 2
}
