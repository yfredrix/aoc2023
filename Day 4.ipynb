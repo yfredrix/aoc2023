{
 "cells": [
  {
   "cell_type": "code",
   "execution_count": 1,
   "metadata": {},
   "outputs": [],
   "source": [
    "example = \"\"\"Card 1: 41 48 83 86 17 | 83 86  6 31 17  9 48 53\n",
    "Card 2: 13 32 20 16 61 | 61 30 68 82 17 32 24 19\n",
    "Card 3:  1 21 53 59 44 | 69 82 63 72 16 21 14  1\n",
    "Card 4: 41 92 73 84 69 | 59 84 76 51 58  5 54 83\n",
    "Card 5: 87 83 26 28 32 | 88 30 70 12 93 22 82 36\n",
    "Card 6: 31 18 13 56 72 | 74 77 10 23 35 67 36 11\"\"\""
   ]
  },
  {
   "cell_type": "code",
   "execution_count": 18,
   "metadata": {},
   "outputs": [],
   "source": [
    "import math\n",
    "\n",
    "\n",
    "def parse_cards(cards):\n",
    "    score = 0\n",
    "    for card in cards:\n",
    "        card, numbers = card.split(\":\")\n",
    "        winning, own_numbers = numbers.split(\"|\")\n",
    "        winning_number_set = set(winning.split())\n",
    "        own_number_set = set(own_numbers.split())\n",
    "        wins = winning_number_set.intersection(own_number_set)\n",
    "        if len(wins) == 0:\n",
    "            continue\n",
    "        card_score = math.pow(2, len(wins)-1)\n",
    "        score += card_score\n",
    "    return score"
   ]
  },
  {
   "cell_type": "markdown",
   "metadata": {},
   "source": [
    "# Part 1"
   ]
  },
  {
   "cell_type": "code",
   "execution_count": 19,
   "metadata": {},
   "outputs": [
    {
     "data": {
      "text/plain": [
       "13.0"
      ]
     },
     "execution_count": 19,
     "metadata": {},
     "output_type": "execute_result"
    }
   ],
   "source": [
    "parse_cards(example.split('\\n'))"
   ]
  },
  {
   "cell_type": "code",
   "execution_count": 26,
   "metadata": {},
   "outputs": [],
   "source": [
    "with open('./data/Day 4/input.txt') as f:\n",
    "    cards = f.read().splitlines()"
   ]
  },
  {
   "cell_type": "code",
   "execution_count": 27,
   "metadata": {},
   "outputs": [
    {
     "data": {
      "text/plain": [
       "28750.0"
      ]
     },
     "execution_count": 27,
     "metadata": {},
     "output_type": "execute_result"
    }
   ],
   "source": [
    "parse_cards(cards)"
   ]
  },
  {
   "cell_type": "markdown",
   "metadata": {},
   "source": [
    "# Part 2"
   ]
  },
  {
   "cell_type": "code",
   "execution_count": 41,
   "metadata": {},
   "outputs": [],
   "source": [
    "import math\n",
    "\n",
    "\n",
    "def cards4days(cards):\n",
    "    number_of_cards = {1: 1}\n",
    "    for card in cards:\n",
    "        card_info, numbers = card.split(\":\")\n",
    "        cardnr = int(card_info.split()[1])\n",
    "        if cardnr not in number_of_cards:\n",
    "            number_of_cards[cardnr] = 1\n",
    "        winning, own_numbers = numbers.split(\"|\")\n",
    "        winning_number_set = set(winning.split())\n",
    "        own_number_set = set(own_numbers.split())\n",
    "        wins = winning_number_set.intersection(own_number_set)\n",
    "        for i in range(len(wins)):\n",
    "            if cardnr + i + 1 not in number_of_cards:\n",
    "                number_of_cards[cardnr + i + 1] = 1\n",
    "            number_of_cards[cardnr + i + 1] = number_of_cards[cardnr + i + 1] + number_of_cards[cardnr]\n",
    "    return number_of_cards"
   ]
  },
  {
   "cell_type": "code",
   "execution_count": 43,
   "metadata": {},
   "outputs": [
    {
     "name": "stdout",
     "output_type": "stream",
     "text": [
      "Total number of scratchcards:  30\n"
     ]
    }
   ],
   "source": [
    "scratchcards = cards4days(example.splitlines())\n",
    "print(\"Total number of scratchcards: \", sum(scratchcards.values()))"
   ]
  },
  {
   "cell_type": "code",
   "execution_count": 44,
   "metadata": {},
   "outputs": [
    {
     "name": "stdout",
     "output_type": "stream",
     "text": [
      "Total number of scratchcards:  10212704\n"
     ]
    }
   ],
   "source": [
    "scratchcards = cards4days(cards)\n",
    "print(\"Total number of scratchcards: \", sum(scratchcards.values()))"
   ]
  },
  {
   "cell_type": "code",
   "execution_count": null,
   "metadata": {},
   "outputs": [],
   "source": []
  }
 ],
 "metadata": {
  "kernelspec": {
   "display_name": ".venv",
   "language": "python",
   "name": "python3"
  },
  "language_info": {
   "codemirror_mode": {
    "name": "ipython",
    "version": 3
   },
   "file_extension": ".py",
   "mimetype": "text/x-python",
   "name": "python",
   "nbconvert_exporter": "python",
   "pygments_lexer": "ipython3",
   "version": "3.11.6"
  }
 },
 "nbformat": 4,
 "nbformat_minor": 2
}
