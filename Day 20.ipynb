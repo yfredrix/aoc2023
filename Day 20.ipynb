{
 "cells": [
  {
   "cell_type": "code",
   "execution_count": 107,
   "metadata": {},
   "outputs": [],
   "source": [
    "example_1 = \"\"\"broadcaster -> a, b, c\n",
    "%a -> b\n",
    "%b -> c\n",
    "%c -> inv\n",
    "&inv -> a\"\"\""
   ]
  },
  {
   "cell_type": "code",
   "execution_count": 108,
   "metadata": {},
   "outputs": [],
   "source": [
    "example_2 = \"\"\"broadcaster -> a\n",
    "%a -> inv, con\n",
    "&inv -> b\n",
    "%b -> con\n",
    "&con -> output\"\"\""
   ]
  },
  {
   "cell_type": "code",
   "execution_count": 109,
   "metadata": {},
   "outputs": [],
   "source": [
    "with open('./data/Day 20/input.txt') as input_file:\n",
    "    input_text = input_file.read()"
   ]
  },
  {
   "cell_type": "code",
   "execution_count": 110,
   "metadata": {},
   "outputs": [],
   "source": [
    "def parse_input(lines):\n",
    "    rules = {}\n",
    "    for line in lines.splitlines():\n",
    "        line = line.replace(\" \",\"\")\n",
    "        if \"->\" in line:\n",
    "            rule, output = line.split(\"->\")\n",
    "            if \"%\" in rule or \"&\" in rule:\n",
    "                node = rule[1:].strip()\n",
    "                nodetype= rule[0]\n",
    "            else:\n",
    "                node = rule.strip()\n",
    "                nodetype= \"broadcast\"\n",
    "            rules[node] = {\"outputs\": output.strip().split(\",\"), \"type\": nodetype}\n",
    "    return rules"
   ]
  },
  {
   "cell_type": "code",
   "execution_count": 111,
   "metadata": {},
   "outputs": [],
   "source": [
    "def flipflop(state, input_signal):\n",
    "    for key in input_signal:\n",
    "        if input_signal[key]:\n",
    "            return None, state\n",
    "        else:\n",
    "            if state:\n",
    "                return 0, 0\n",
    "            else:\n",
    "                return 1, 1\n",
    "\n",
    "def conjunction(state, input_signal):\n",
    "    for key in input_signal:\n",
    "        if key not in state:\n",
    "            raise NotImplementedError\n",
    "        state[key] = input_signal[key]\n",
    "    if all(state.values()):\n",
    "        return 0, state\n",
    "    else:\n",
    "        return 1, state"
   ]
  },
  {
   "cell_type": "code",
   "execution_count": 112,
   "metadata": {},
   "outputs": [],
   "source": [
    "translate = {\"%\": flipflop,\n",
    " \"&\": conjunction}"
   ]
  },
  {
   "cell_type": "code",
   "execution_count": 113,
   "metadata": {},
   "outputs": [],
   "source": [
    "def get_conjunctions(actions):\n",
    "    conjunctions = []\n",
    "    for key, value in actions.items():\n",
    "        if value[\"type\"] == \"&\":\n",
    "            conjunctions.append(key)\n",
    "    return conjunctions\n",
    "\n",
    "def get_flipflops(actions):\n",
    "    flipflops = []\n",
    "    for key, value in actions.items():\n",
    "        if value[\"type\"] == \"%\":\n",
    "            flipflops.append(key)\n",
    "    return flipflops"
   ]
  },
  {
   "cell_type": "code",
   "execution_count": 114,
   "metadata": {},
   "outputs": [],
   "source": [
    "def init(actions):\n",
    "    ### Conjunctions\n",
    "    conjunctions = get_conjunctions(actions)\n",
    "    conjunction_states = {}\n",
    "    for key in conjunctions:\n",
    "        conjunction_states[key] = {}\n",
    "        for k, value in actions.items():\n",
    "            if key in value[\"outputs\"]:\n",
    "                conjunction_states[key][k] = 0\n",
    "    ### FlipFlops\n",
    "    flipflops = get_flipflops(actions)\n",
    "    flipflop_states = {}\n",
    "    for key in flipflops:\n",
    "        flipflop_states[key] = 0\n",
    "    return {**conjunction_states, **flipflop_states}"
   ]
  },
  {
   "cell_type": "code",
   "execution_count": 121,
   "metadata": {},
   "outputs": [],
   "source": [
    "def propegate_signal(actions, state, signal):\n",
    "    new_signals = []\n",
    "    for key, value in signal.items():\n",
    "        new_signal = {}\n",
    "        if key not in actions:\n",
    "            continue\n",
    "        if actions[key][\"type\"] == \"broadcast\":\n",
    "            for i in actions[key][\"outputs\"]:\n",
    "                new_signal[i] = {}\n",
    "                new_signal[i][key] = list(value.values())[0]\n",
    "        else:\n",
    "            if actions[key][\"type\"] == \"%\":\n",
    "                out, state[key] = flipflop(\n",
    "                    state[key], value\n",
    "                )    \n",
    "                for i in actions[key][\"outputs\"]:\n",
    "                    if i in new_signal:\n",
    "                        raise Exception\n",
    "                    new_signal[i] = {}\n",
    "                    if out is not None:\n",
    "                        new_signal[i][key] = out\n",
    "                    else:\n",
    "                        del new_signal[i]\n",
    "            elif actions[key][\"type\"] == \"&\":\n",
    "                out, state[key] = conjunction(\n",
    "                state[key], value\n",
    "            )\n",
    "                for i in actions[key][\"outputs\"]:\n",
    "                    if i in new_signal:\n",
    "                        raise Exception\n",
    "                    new_signal[i] = {}\n",
    "                    new_signal[i][key] = out\n",
    "        new_signals.append(new_signal)\n",
    "    return new_signals, state"
   ]
  },
  {
   "cell_type": "code",
   "execution_count": 122,
   "metadata": {},
   "outputs": [],
   "source": [
    "def count_signals(signals, nr_low, nr_high):\n",
    "    for signal in signals:\n",
    "        for i, j in signal.items():\n",
    "            for k, l in j.items():\n",
    "                if l:\n",
    "                    nr_high += 1\n",
    "                else:\n",
    "                    nr_low += 1\n",
    "    return nr_low, nr_high"
   ]
  },
  {
   "cell_type": "code",
   "execution_count": 123,
   "metadata": {},
   "outputs": [],
   "source": [
    "def execute_button_press(actions, state, signals, nr_low, nr_high):\n",
    "    nr_low, nr_high = count_signals([signals], nr_low, nr_high)\n",
    "    signals = [signals]\n",
    "    while signals:\n",
    "        new_signals = []\n",
    "        for signal_group in signals:\n",
    "            signals, state = propegate_signal(actions, state, signal_group)\n",
    "            new_signals += signals\n",
    "        signals= new_signals\n",
    "        nr_low, nr_high = count_signals(signals, nr_low, nr_high)\n",
    "    return state, signals, nr_low, nr_high"
   ]
  },
  {
   "cell_type": "markdown",
   "metadata": {},
   "source": [
    "# Part 1"
   ]
  },
  {
   "cell_type": "code",
   "execution_count": 124,
   "metadata": {},
   "outputs": [
    {
     "data": {
      "text/plain": [
       "32000000"
      ]
     },
     "execution_count": 124,
     "metadata": {},
     "output_type": "execute_result"
    }
   ],
   "source": [
    "import copy\n",
    "parsed_example = parse_input(example_1)\n",
    "example_initial_state = init(parsed_example)\n",
    "state = copy.deepcopy(example_initial_state)\n",
    "button_signal = {\"broadcaster\":{\"entry\": 0}}\n",
    "nr_low = 0\n",
    "nr_high = 0\n",
    "\n",
    "for nr, button_press in enumerate(range(1000)):\n",
    "    state, signals, nr_low, nr_high = execute_button_press(parsed_example, state, button_signal, nr_low, nr_high)\n",
    "    if signals:\n",
    "        print(\"ERROR\")\n",
    "nr_low * nr_high"
   ]
  },
  {
   "cell_type": "code",
   "execution_count": 125,
   "metadata": {},
   "outputs": [
    {
     "data": {
      "text/plain": [
       "11687500"
      ]
     },
     "execution_count": 125,
     "metadata": {},
     "output_type": "execute_result"
    }
   ],
   "source": [
    "import copy\n",
    "parsed_example = parse_input(example_2)\n",
    "example_initial_state = init(parsed_example)\n",
    "state = copy.deepcopy(example_initial_state)\n",
    "button_signal = {\"broadcaster\":{\"entry\": 0}}\n",
    "nr_low = 0\n",
    "nr_high = 0\n",
    "\n",
    "for nr, button_press in enumerate(range(1000)):\n",
    "    state, signals, nr_low, nr_high = execute_button_press(parsed_example, state, button_signal, nr_low, nr_high)\n",
    "    if signals:\n",
    "        print(\"ERROR\")\n",
    "nr_low * nr_high"
   ]
  },
  {
   "cell_type": "code",
   "execution_count": 126,
   "metadata": {},
   "outputs": [
    {
     "data": {
      "text/plain": [
       "869395600"
      ]
     },
     "execution_count": 126,
     "metadata": {},
     "output_type": "execute_result"
    }
   ],
   "source": [
    "import copy\n",
    "parsed = parse_input(input_text)\n",
    "initial_state = init(parsed)\n",
    "state = copy.deepcopy(initial_state)\n",
    "button_signal = {\"broadcaster\":{\"entry\": 0}}\n",
    "nr_low = 0\n",
    "nr_high = 0\n",
    "\n",
    "for nr, button_press in enumerate(range(1000)):\n",
    "    state, signals, nr_low, nr_high = execute_button_press(parsed, state, button_signal, nr_low, nr_high)\n",
    "    if signals:\n",
    "        print(\"ERROR\")\n",
    "    if state == initial_state:\n",
    "        print(\"Loop found at iteration\", nr)\n",
    "        break\n",
    "\n",
    "# > 492871302\n",
    "nr_low * nr_high"
   ]
  },
  {
   "cell_type": "markdown",
   "metadata": {},
   "source": [
    "# Part 2"
   ]
  },
  {
   "cell_type": "code",
   "execution_count": 163,
   "metadata": {},
   "outputs": [],
   "source": [
    "def execute_button_press_part2(actions, state, signals, found):\n",
    "    signals = [signals]\n",
    "    while signals:\n",
    "        new_signals = []\n",
    "        for signal_group in signals:\n",
    "            signals, state = propegate_signal(actions, state, signal_group)\n",
    "            new_signals += signals\n",
    "        signals= new_signals\n",
    "        for signal in signals:\n",
    "            if 'ls' in signal:\n",
    "                for key in signal['ls']:\n",
    "                    if key in found and signal['ls'][key]:\n",
    "                        found[key] = True\n",
    "    return state, signals, found"
   ]
  },
  {
   "cell_type": "code",
   "execution_count": 164,
   "metadata": {},
   "outputs": [],
   "source": [
    "goal_keys = list(initial_state['ls'].keys())"
   ]
  },
  {
   "cell_type": "code",
   "execution_count": 165,
   "metadata": {},
   "outputs": [],
   "source": [
    "import copy\n",
    "parsed = parse_input(input_text)\n",
    "initial_state = init(parsed)\n",
    "state = copy.deepcopy(initial_state)\n",
    "button_signal = {\"broadcaster\":{\"entry\": 0}}\n",
    "\n",
    "found = {key: False for key in goal_keys}\n",
    "counter_dict = {}\n",
    "counter = 0\n",
    "while not all(found.values()):\n",
    "    counter += 1\n",
    "    state, signals, found = execute_button_press_part2(parsed, state, button_signal, found)\n",
    "    for key in found:\n",
    "        if found[key] and key not in counter_dict:\n",
    "            counter_dict[key] = counter"
   ]
  },
  {
   "cell_type": "code",
   "execution_count": 168,
   "metadata": {},
   "outputs": [
    {
     "data": {
      "text/plain": [
       "232605773145467"
      ]
     },
     "execution_count": 168,
     "metadata": {},
     "output_type": "execute_result"
    }
   ],
   "source": [
    "import math\n",
    "math.lcm(*list(counter_dict.values()))"
   ]
  },
  {
   "cell_type": "code",
   "execution_count": null,
   "metadata": {},
   "outputs": [],
   "source": []
  }
 ],
 "metadata": {
  "kernelspec": {
   "display_name": ".venv",
   "language": "python",
   "name": "python3"
  },
  "language_info": {
   "codemirror_mode": {
    "name": "ipython",
    "version": 3
   },
   "file_extension": ".py",
   "mimetype": "text/x-python",
   "name": "python",
   "nbconvert_exporter": "python",
   "pygments_lexer": "ipython3",
   "version": "3.12.1"
  }
 },
 "nbformat": 4,
 "nbformat_minor": 2
}
