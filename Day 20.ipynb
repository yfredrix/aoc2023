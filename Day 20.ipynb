{
 "cells": [
  {
   "cell_type": "code",
   "execution_count": 1,
   "metadata": {},
   "outputs": [],
   "source": [
    "example_1 = \"\"\"broadcaster -> a, b, c\n",
    "%a -> b\n",
    "%b -> c\n",
    "%c -> inv\n",
    "&inv -> a\"\"\""
   ]
  },
  {
   "cell_type": "code",
   "execution_count": 12,
   "metadata": {},
   "outputs": [],
   "source": [
    "with open('./data/Day 20/input.txt') as input_file:\n",
    "    input_text = input_file.read()"
   ]
  },
  {
   "cell_type": "code",
   "execution_count": 42,
   "metadata": {},
   "outputs": [],
   "source": [
    "def parse_input(lines):\n",
    "    rules = {}\n",
    "    for line in lines.splitlines():\n",
    "        line = line.replace(\" \",\"\")\n",
    "        if \"->\" in line:\n",
    "            rule, output = line.split(\"->\")\n",
    "            if \"%\" in rule or \"&\" in rule:\n",
    "                node = rule[1:].strip()\n",
    "                nodetype= rule[0]\n",
    "            else:\n",
    "                node = rule.strip()\n",
    "                nodetype= \"broadcast\"\n",
    "            rules[node] = {\"outputs\": output.strip().split(\",\"), \"type\": nodetype}\n",
    "    return rules"
   ]
  },
  {
   "cell_type": "code",
   "execution_count": 151,
   "metadata": {},
   "outputs": [],
   "source": [
    "def flipflop(state, input_signal):\n",
    "    for key in input_signal:\n",
    "        if input_signal[key]:\n",
    "            return None, state\n",
    "        else:\n",
    "            if state:\n",
    "                return 0, 0\n",
    "            else:\n",
    "                return 1, 1\n",
    "\n",
    "def conjunction(state, input_signal):\n",
    "    for key in input_signal:\n",
    "        if key not in state:\n",
    "            print(state)\n",
    "            print(key)\n",
    "            print(\"This shouldn't happen\")\n",
    "        state[key] = input_signal[key]\n",
    "    if all(state.values()):\n",
    "        return 0, state\n",
    "    else:\n",
    "        return 1, state"
   ]
  },
  {
   "cell_type": "code",
   "execution_count": 152,
   "metadata": {},
   "outputs": [],
   "source": [
    "translate = {\"%\": flipflop,\n",
    " \"&\": conjunction}"
   ]
  },
  {
   "cell_type": "code",
   "execution_count": 153,
   "metadata": {},
   "outputs": [],
   "source": [
    "def get_conjunctions(actions):\n",
    "    conjunctions = []\n",
    "    for key, value in actions.items():\n",
    "        if value[\"type\"] == \"&\":\n",
    "            conjunctions.append(key)\n",
    "    return conjunctions\n",
    "\n",
    "def get_flipflops(actions):\n",
    "    flipflops = []\n",
    "    for key, value in actions.items():\n",
    "        if value[\"type\"] == \"%\":\n",
    "            flipflops.append(key)\n",
    "    return flipflops"
   ]
  },
  {
   "cell_type": "code",
   "execution_count": 154,
   "metadata": {},
   "outputs": [],
   "source": [
    "def init(actions):\n",
    "    ### Conjunctions\n",
    "    conjunctions = get_conjunctions(actions)\n",
    "    conjunction_states = {}\n",
    "    for key in conjunctions:\n",
    "        conjunction_states[key] = {}\n",
    "        for k, value in actions.items():\n",
    "            if key in value[\"outputs\"]:\n",
    "                conjunction_states[key][k] = 0\n",
    "    ### FlipFlops\n",
    "    flipflops = get_flipflops(actions)\n",
    "    flipflop_states = {}\n",
    "    for key in flipflops:\n",
    "        flipflop_states[key] = 0\n",
    "    return {**conjunction_states, **flipflop_states}"
   ]
  },
  {
   "cell_type": "code",
   "execution_count": 155,
   "metadata": {},
   "outputs": [],
   "source": [
    "def propegate_signal(actions, state, signal):\n",
    "    new_signal = {}\n",
    "    for key, value in signal.items():\n",
    "        if actions[key][\"type\"] == \"broadcast\":\n",
    "            for i in actions[key][\"outputs\"]:\n",
    "                new_signal[i] = value\n",
    "        else:\n",
    "            for i in actions[key][\"outputs\"]:\n",
    "                new_signal[i], state[key] = translate[actions[key][\"type\"]](\n",
    "                    state[key], {key:value}\n",
    "                )\n",
    "    return new_signal, state"
   ]
  },
  {
   "cell_type": "code",
   "execution_count": 156,
   "metadata": {},
   "outputs": [],
   "source": [
    "parsed_example = parse_input(example_1)"
   ]
  },
  {
   "cell_type": "code",
   "execution_count": 157,
   "metadata": {},
   "outputs": [],
   "source": [
    "example_initial_state = init(parsed_example)"
   ]
  },
  {
   "cell_type": "code",
   "execution_count": 158,
   "metadata": {},
   "outputs": [],
   "source": [
    "initial_state = init(parse_input(input_text))"
   ]
  },
  {
   "cell_type": "code",
   "execution_count": 159,
   "metadata": {},
   "outputs": [
    {
     "data": {
      "text/plain": [
       "{'broadcaster': {'outputs': ['a', 'b', 'c'], 'type': 'broadcast'},\n",
       " 'a': {'outputs': ['b'], 'type': '%'},\n",
       " 'b': {'outputs': ['c'], 'type': '%'},\n",
       " 'c': {'outputs': ['inv'], 'type': '%'},\n",
       " 'inv': {'outputs': ['a'], 'type': '&'}}"
      ]
     },
     "execution_count": 159,
     "metadata": {},
     "output_type": "execute_result"
    }
   ],
   "source": [
    "parsed_example"
   ]
  },
  {
   "cell_type": "code",
   "execution_count": 160,
   "metadata": {},
   "outputs": [
    {
     "name": "stdout",
     "output_type": "stream",
     "text": [
      "{'c': 0}\n",
      "inv\n",
      "This shouldn't happen\n"
     ]
    }
   ],
   "source": [
    "signals, state = propegate_signal(\n",
    "    parsed_example, example_initial_state.copy(), {\"a\": 0, \"b\": 0, \"c\": 0}\n",
    ")\n",
    "signals, state = propegate_signal(parsed_example, state, signals)"
   ]
  },
  {
   "cell_type": "code",
   "execution_count": 162,
   "metadata": {},
   "outputs": [
    {
     "data": {
      "text/plain": [
       "{'c': None, 'inv': None, 'a': 1}"
      ]
     },
     "execution_count": 162,
     "metadata": {},
     "output_type": "execute_result"
    }
   ],
   "source": [
    "signals"
   ]
  },
  {
   "cell_type": "code",
   "execution_count": null,
   "metadata": {},
   "outputs": [],
   "source": []
  }
 ],
 "metadata": {
  "kernelspec": {
   "display_name": ".venv",
   "language": "python",
   "name": "python3"
  },
  "language_info": {
   "codemirror_mode": {
    "name": "ipython",
    "version": 3
   },
   "file_extension": ".py",
   "mimetype": "text/x-python",
   "name": "python",
   "nbconvert_exporter": "python",
   "pygments_lexer": "ipython3",
   "version": "3.8.10"
  }
 },
 "nbformat": 4,
 "nbformat_minor": 2
}
