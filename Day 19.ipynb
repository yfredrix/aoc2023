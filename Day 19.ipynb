{
 "cells": [
  {
   "cell_type": "code",
   "execution_count": 1,
   "metadata": {},
   "outputs": [],
   "source": [
    "example = \"\"\"px{a<2006:qkq,m>2090:A,rfg}\n",
    "pv{a>1716:R,A}\n",
    "lnx{m>1548:A,A}\n",
    "rfg{s<537:gd,x>2440:R,A}\n",
    "qs{s>3448:A,lnx}\n",
    "qkq{x<1416:A,crn}\n",
    "crn{x>2662:A,R}\n",
    "in{s<1351:px,qqz}\n",
    "qqz{s>2770:qs,m<1801:hdj,R}\n",
    "gd{a>3333:R,R}\n",
    "hdj{m>838:A,pv}\n",
    "\n",
    "{x=787,m=2655,a=1222,s=2876}\n",
    "{x=1679,m=44,a=2067,s=496}\n",
    "{x=2036,m=264,a=79,s=2244}\n",
    "{x=2461,m=1339,a=466,s=291}\n",
    "{x=2127,m=1623,a=2188,s=1013}\"\"\""
   ]
  },
  {
   "cell_type": "code",
   "execution_count": 2,
   "metadata": {},
   "outputs": [],
   "source": [
    "with open('./data/Day 19/input.txt') as inputFile:\n",
    "    data = inputFile.read()"
   ]
  },
  {
   "cell_type": "code",
   "execution_count": 3,
   "metadata": {},
   "outputs": [],
   "source": [
    "import re"
   ]
  },
  {
   "cell_type": "code",
   "execution_count": 4,
   "metadata": {},
   "outputs": [],
   "source": [
    "def parse_input(inputstr):\n",
    "    rules = {}\n",
    "    parts = []\n",
    "    rulesection = True\n",
    "    for line in inputstr.splitlines():\n",
    "        if line == \"\":\n",
    "            rulesection = False\n",
    "            continue\n",
    "        if rulesection:\n",
    "            identifier, rule = line.strip(\"}\").split(\"{\")\n",
    "            rules[identifier] = re.split(r\":|,\", rule)\n",
    "        else:\n",
    "            cleaned_line = line.strip('{}')\n",
    "            parts.append(\n",
    "                {i.split(\"=\")[0]: int(i.split(\"=\")[1]) for i in cleaned_line.split(\",\")}\n",
    "            )\n",
    "    return rules, parts"
   ]
  },
  {
   "cell_type": "code",
   "execution_count": 5,
   "metadata": {},
   "outputs": [],
   "source": [
    "def test(rules, i, x, m, a, s):\n",
    "    if eval(rules[i]):\n",
    "        return rules[i+1], i+1\n",
    "    else:\n",
    "        return rules[i+2], i+2"
   ]
  },
  {
   "cell_type": "code",
   "execution_count": 6,
   "metadata": {},
   "outputs": [],
   "source": [
    "def run_part(ruleset, part):\n",
    "    current_key = 'in'\n",
    "    next_action, index = test(ruleset['in'], 0, **part)\n",
    "    while next_action not in ['A', 'R']:\n",
    "        if next_action in ruleset.keys():\n",
    "            current_key = next_action\n",
    "            next_action, index = test(ruleset[next_action], 0, **part)\n",
    "        else:\n",
    "            next_action, index = test(ruleset[current_key], index, **part)\n",
    "    return next_action"
   ]
  },
  {
   "cell_type": "markdown",
   "metadata": {},
   "source": [
    "# Part 1"
   ]
  },
  {
   "cell_type": "code",
   "execution_count": 7,
   "metadata": {},
   "outputs": [
    {
     "data": {
      "text/plain": [
       "19114"
      ]
     },
     "execution_count": 7,
     "metadata": {},
     "output_type": "execute_result"
    }
   ],
   "source": [
    "example_rules, example_parts = parse_input(example)\n",
    "example_score = 0\n",
    "for part in example_parts:\n",
    "    part['result'] = run_part(example_rules, part)\n",
    "    if part['result'] == 'A':\n",
    "        example_score += part['x'] + part['m'] + part['a'] + part['s']\n",
    "example_score"
   ]
  },
  {
   "cell_type": "code",
   "execution_count": 8,
   "metadata": {},
   "outputs": [
    {
     "data": {
      "text/plain": [
       "325952"
      ]
     },
     "execution_count": 8,
     "metadata": {},
     "output_type": "execute_result"
    }
   ],
   "source": [
    "rules, parts = parse_input(data)\n",
    "score = 0\n",
    "for part in parts:\n",
    "    part[\"result\"] = run_part(rules, part)\n",
    "    if part['result'] == 'A':\n",
    "        score += part['x'] + part['m'] + part['a'] + part['s']\n",
    "score"
   ]
  },
  {
   "cell_type": "markdown",
   "metadata": {},
   "source": [
    "# Part 2"
   ]
  },
  {
   "cell_type": "code",
   "execution_count": 9,
   "metadata": {},
   "outputs": [],
   "source": [
    "def get_condition_tree(rule, i):\n",
    "    tree = {'condition': rule[i], True: rule[i + 1], False: rule[i + 2]}\n",
    "    return tree, i"
   ]
  },
  {
   "cell_type": "code",
   "execution_count": 10,
   "metadata": {},
   "outputs": [],
   "source": [
    "def create_tree(rule, rules):\n",
    "    if isinstance(rule[1], list):\n",
    "        rule[1] = create_tree(rule[1], rules)\n",
    "    if isinstance(rule[2], list):\n",
    "        rule[2] = create_tree(rule[2], rules)\n",
    "    if rule[1] not in ['A', 'R'] and not isinstance(rule[1], list):\n",
    "        rule[1] = create_tree(rules[rule[1]], rules)\n",
    "    if rule[2] not in ['A', 'R'] and not isinstance(rule[2], list):\n",
    "        rule[2] = create_tree(rules[rule[2]], rules)\n",
    "    return rule"
   ]
  },
  {
   "cell_type": "code",
   "execution_count": 11,
   "metadata": {},
   "outputs": [],
   "source": [
    "def cut_list(input_list):\n",
    "    if len(input_list) > 3:\n",
    "        input_list = input_list[:2] + [cut_list(input_list[2:])]\n",
    "    return input_list"
   ]
  },
  {
   "cell_type": "code",
   "execution_count": 12,
   "metadata": {},
   "outputs": [],
   "source": [
    "example_rules, _ = parse_input(example)\n",
    "example_rules_2 = {}\n",
    "for key, value in example_rules.items():\n",
    "    value = cut_list(value)\n",
    "    example_rules_2[key] = value\n",
    "example_tree = create_tree(example_rules_2[\"in\"], example_rules_2)"
   ]
  },
  {
   "cell_type": "code",
   "execution_count": 13,
   "metadata": {},
   "outputs": [],
   "source": [
    "rules_2 = {}\n",
    "for key, value in rules.items():\n",
    "    value = cut_list(value)\n",
    "    rules_2[key] = value\n",
    "tree = create_tree(rules_2[\"in\"], rules_2)"
   ]
  },
  {
   "cell_type": "code",
   "execution_count": 47,
   "metadata": {},
   "outputs": [],
   "source": [
    "def get_condition(condition):\n",
    "    if '<' in condition:\n",
    "        char, value = condition.split('<')\n",
    "        return {True: {char: range(1, int(value))}, False: {char: range(int(value), 4000)}}\n",
    "    elif '>' in condition:\n",
    "        char, value = condition.split('>')\n",
    "        return {True: {char: range( int(value)+1, 4000)}, False: {char: range(1, int(value)+1)}}"
   ]
  },
  {
   "cell_type": "code",
   "execution_count": 48,
   "metadata": {},
   "outputs": [],
   "source": [
    "def merge_dictionaries(dict1, dict2):\n",
    "    for key, value in dict2.items():\n",
    "        if key in dict1.keys():\n",
    "            dict1[key] = range(max(dict1[key].start, value.start), min(dict1[key].stop, value.stop))\n",
    "        else:\n",
    "            dict1[key] = value\n",
    "    return dict1"
   ]
  },
  {
   "cell_type": "code",
   "execution_count": 58,
   "metadata": {},
   "outputs": [],
   "source": [
    "import math\n",
    "\n",
    "def traverse_tree(tree, current_parents, score):\n",
    "    root_condition = get_condition(tree[0])\n",
    "    if isinstance(tree[1], list):\n",
    "        truth_result, score = traverse_tree(tree[1], merge_dictionaries(current_parents.copy(),root_condition[True]), score)\n",
    "    else:\n",
    "        if tree[1] == 'A':\n",
    "            results = merge_dictionaries(current_parents.copy(),root_condition[True])\n",
    "            temp_values = []\n",
    "            for i in 'xmas':\n",
    "                if i not in results:\n",
    "                    temp_values.append(4000)\n",
    "                else:\n",
    "                    temp_values.append(len(results[i]))\n",
    "            score += math.prod(temp_values)\n",
    "        truth_result = tree[1]\n",
    "    if isinstance(tree[2], list):\n",
    "        false_result, score = traverse_tree(tree[2], merge_dictionaries(current_parents.copy(),root_condition[False]), score)\n",
    "    else:\n",
    "        if tree[2] == 'A':\n",
    "            results = merge_dictionaries(current_parents.copy(),root_condition[False])\n",
    "            temp_values = []\n",
    "            for i in 'xmas':\n",
    "                if i not in results:\n",
    "                    temp_values.append(4000)\n",
    "                else:\n",
    "                    temp_values.append(len(results[i]))\n",
    "            score += math.prod(temp_values)\n",
    "        false_result = tree[2]\n",
    "    conditions = {\"condition\": root_condition, True: truth_result, False: false_result}\n",
    "    return conditions, score"
   ]
  },
  {
   "cell_type": "code",
   "execution_count": 61,
   "metadata": {},
   "outputs": [
    {
     "data": {
      "text/plain": [
       "167409079868000"
      ]
     },
     "execution_count": 61,
     "metadata": {},
     "output_type": "execute_result"
    }
   ],
   "source": [
    "score = 0\n",
    "_, example_score = traverse_tree(example_tree, {}, score)\n",
    "example_score"
   ]
  },
  {
   "cell_type": "code",
   "execution_count": 62,
   "metadata": {},
   "outputs": [
    {
     "data": {
      "text/plain": [
       "125744206494820"
      ]
     },
     "execution_count": 62,
     "metadata": {},
     "output_type": "execute_result"
    }
   ],
   "source": [
    "score = 0\n",
    "_, score = traverse_tree(tree, {}, score)\n",
    "score"
   ]
  },
  {
   "cell_type": "code",
   "execution_count": null,
   "metadata": {},
   "outputs": [],
   "source": []
  }
 ],
 "metadata": {
  "kernelspec": {
   "display_name": ".venv",
   "language": "python",
   "name": "python3"
  },
  "language_info": {
   "codemirror_mode": {
    "name": "ipython",
    "version": 3
   },
   "file_extension": ".py",
   "mimetype": "text/x-python",
   "name": "python",
   "nbconvert_exporter": "python",
   "pygments_lexer": "ipython3",
   "version": "3.12.1"
  }
 },
 "nbformat": 4,
 "nbformat_minor": 2
}
