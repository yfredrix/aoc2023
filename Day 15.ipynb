{
 "cells": [
  {
   "cell_type": "code",
   "execution_count": 1,
   "metadata": {},
   "outputs": [],
   "source": [
    "example = \"\"\"rn=1,cm-,qp=3,cm=2,qp-,pc=4,ot=9,ab=5,pc-,pc=6,ot=7\"\"\""
   ]
  },
  {
   "cell_type": "code",
   "execution_count": 43,
   "metadata": {},
   "outputs": [],
   "source": [
    "with open('./data/Day 15/input.txt') as file:\n",
    "    data = file.read()"
   ]
  },
  {
   "cell_type": "code",
   "execution_count": 44,
   "metadata": {},
   "outputs": [],
   "source": [
    "def parse_information(data: str):\n",
    "    return data.strip().split(',')"
   ]
  },
  {
   "cell_type": "code",
   "execution_count": 58,
   "metadata": {},
   "outputs": [],
   "source": [
    "def calculate_value(data: str, value = 0, multiple=17, max_value=256):\n",
    "    for char in data:\n",
    "        value += ord(char)\n",
    "        value *= multiple\n",
    "        value %= max_value\n",
    "    return value"
   ]
  },
  {
   "cell_type": "markdown",
   "metadata": {},
   "source": [
    "# Part 1"
   ]
  },
  {
   "cell_type": "code",
   "execution_count": 59,
   "metadata": {},
   "outputs": [
    {
     "data": {
      "text/plain": [
       "1320"
      ]
     },
     "execution_count": 59,
     "metadata": {},
     "output_type": "execute_result"
    }
   ],
   "source": [
    "example_parsed = parse_information(example)\n",
    "scores = {}\n",
    "for item in example_parsed:\n",
    "    scores[item] = calculate_value(item, 0)\n",
    "sum(scores.values())"
   ]
  },
  {
   "cell_type": "code",
   "execution_count": 60,
   "metadata": {},
   "outputs": [
    {
     "data": {
      "text/plain": [
       "515210"
      ]
     },
     "execution_count": 60,
     "metadata": {},
     "output_type": "execute_result"
    }
   ],
   "source": [
    "parsed = parse_information(data)\n",
    "scores = 0\n",
    "for item in parsed:\n",
    "    scores += calculate_value(item)\n",
    "scores"
   ]
  },
  {
   "cell_type": "markdown",
   "metadata": {},
   "source": [
    "# Part 2"
   ]
  },
  {
   "cell_type": "code",
   "execution_count": 80,
   "metadata": {},
   "outputs": [],
   "source": [
    "def update_lens(lens: str, focal, lens_state, box, operation):\n",
    "    if operation == 'add':\n",
    "        current_lenses = [i[0] for i in lens_state[box]]\n",
    "        if lens not in current_lenses:\n",
    "            lens_state[box].append((lens, focal))\n",
    "        else:\n",
    "            indexes = current_lenses.index(lens)\n",
    "            lens_state[box][indexes] = (lens, focal)\n",
    "    else:\n",
    "        current_lenses = [i[0] for i in lens_state[box]]\n",
    "        if lens in current_lenses:\n",
    "            indexes = current_lenses.index(lens)\n",
    "            lens_state[box].pop(indexes)\n",
    "    return lens_state"
   ]
  },
  {
   "cell_type": "code",
   "execution_count": 89,
   "metadata": {},
   "outputs": [],
   "source": [
    "def score_lenses(lens_state):\n",
    "    score = 0\n",
    "    for box in lens_state:\n",
    "        if len(lens_state[box]) != 0:\n",
    "            for i, item in enumerate(lens_state[box]):\n",
    "                score += (box + 1) * (i + 1) * int(item[1])\n",
    "    return score"
   ]
  },
  {
   "cell_type": "code",
   "execution_count": 90,
   "metadata": {},
   "outputs": [],
   "source": [
    "example_parsed = parse_information(example)\n",
    "lenses = {i: [] for i in range(256)}\n",
    "for item in example_parsed:\n",
    "    if '-' in item:\n",
    "        operation = 'remove'\n",
    "        lens, focal = item.split('-')\n",
    "    else:\n",
    "        operation = 'add'\n",
    "        lens, focal = item.split('=')\n",
    "    box = calculate_value(lens, 0)\n",
    "    lenses = update_lens(lens, focal, lenses, box, operation)"
   ]
  },
  {
   "cell_type": "code",
   "execution_count": 91,
   "metadata": {},
   "outputs": [
    {
     "data": {
      "text/plain": [
       "145"
      ]
     },
     "execution_count": 91,
     "metadata": {},
     "output_type": "execute_result"
    }
   ],
   "source": [
    "score_lenses(lenses)"
   ]
  },
  {
   "cell_type": "code",
   "execution_count": 92,
   "metadata": {},
   "outputs": [
    {
     "data": {
      "text/plain": [
       "246762"
      ]
     },
     "execution_count": 92,
     "metadata": {},
     "output_type": "execute_result"
    }
   ],
   "source": [
    "parsed = parse_information(data)\n",
    "lenses = {i: [] for i in range(256)}\n",
    "for item in parsed:\n",
    "    if \"-\" in item:\n",
    "        operation = \"remove\"\n",
    "        lens, focal = item.split(\"-\")\n",
    "    else:\n",
    "        operation = \"add\"\n",
    "        lens, focal = item.split(\"=\")\n",
    "    box = calculate_value(lens, 0)\n",
    "    lenses = update_lens(lens, focal, lenses, box, operation)\n",
    "score_lenses(lenses)"
   ]
  },
  {
   "cell_type": "code",
   "execution_count": null,
   "metadata": {},
   "outputs": [],
   "source": []
  }
 ],
 "metadata": {
  "kernelspec": {
   "display_name": ".venv",
   "language": "python",
   "name": "python3"
  },
  "language_info": {
   "codemirror_mode": {
    "name": "ipython",
    "version": 3
   },
   "file_extension": ".py",
   "mimetype": "text/x-python",
   "name": "python",
   "nbconvert_exporter": "python",
   "pygments_lexer": "ipython3",
   "version": "3.8.10"
  }
 },
 "nbformat": 4,
 "nbformat_minor": 2
}
