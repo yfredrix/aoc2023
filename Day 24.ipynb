{
 "cells": [
  {
   "cell_type": "code",
   "execution_count": 3,
   "metadata": {},
   "outputs": [],
   "source": [
    "with open(\"./data/Day 24/input.txt\") as f:\n",
    "    data = f.read().splitlines()\n",
    "\n",
    "with open(\"./data/Day 24/example.txt\") as f:\n",
    "    example= f.read().splitlines()"
   ]
  },
  {
   "cell_type": "code",
   "execution_count": 4,
   "metadata": {},
   "outputs": [],
   "source": [
    "from typing import List\n",
    "def parse_inputs(inputstr: List[str]):\n",
    "    parsed = []\n",
    "    for line in inputstr:\n",
    "        pos, vel = line.split(\"@\")\n",
    "        pos = tuple(int(x) for x in pos.split(\",\"))\n",
    "        vel = tuple(int(x) for x in vel.split(\",\"))\n",
    "        parsed.append((pos, vel))\n",
    "    return parsed"
   ]
  },
  {
   "cell_type": "code",
   "execution_count": 5,
   "metadata": {},
   "outputs": [],
   "source": [
    "def crosses(hail1, hail2, minimum, maximum):\n",
    "    x_1, y_1, _ = hail1[0]\n",
    "    x_2, y_2, _ = hail2[0]\n",
    "    v_x1, v_y1, _ = hail1[1]\n",
    "    v_x2, v_y2, _ = hail2[1]\n",
    "    try:\n",
    "        x = (-y_1 + y_2 + ((v_y1 / v_x1) * x_1) - ((v_y2 / v_x2) * x_2)) / ((v_y1 / v_x1) - (v_y2 / v_x2))\n",
    "    except ZeroDivisionError:\n",
    "        return False\n",
    "    ta = (x - x_1) / v_x1\n",
    "    tb = (x - x_2) / v_x2\n",
    "    y = y_1 + v_y1 * ta\n",
    "    if ta < 0 or tb < 0:\n",
    "        return False\n",
    "    if minimum <= x <= maximum and minimum <= y <= maximum:\n",
    "        return True\n",
    "    return False"
   ]
  },
  {
   "cell_type": "markdown",
   "metadata": {},
   "source": [
    "# Part 1"
   ]
  },
  {
   "cell_type": "code",
   "execution_count": 6,
   "metadata": {},
   "outputs": [
    {
     "data": {
      "text/plain": [
       "2"
      ]
     },
     "execution_count": 6,
     "metadata": {},
     "output_type": "execute_result"
    }
   ],
   "source": [
    "checks = []\n",
    "example_hail = parse_inputs(example)\n",
    "for i, item1 in enumerate(example_hail):\n",
    "    for j, item2 in enumerate(example_hail[i+1:]):\n",
    "        checks.append(crosses(item1, item2, 7, 27))\n",
    "sum(checks)"
   ]
  },
  {
   "cell_type": "code",
   "execution_count": 7,
   "metadata": {},
   "outputs": [
    {
     "data": {
      "text/plain": [
       "15107"
      ]
     },
     "execution_count": 7,
     "metadata": {},
     "output_type": "execute_result"
    }
   ],
   "source": [
    "checks = []\n",
    "hail = parse_inputs(data)\n",
    "for i, item1 in enumerate(hail):\n",
    "    for j, item2 in enumerate(hail[i + 1 :]):\n",
    "        checks.append(crosses(item1, item2, 200000000000000, 400000000000000))\n",
    "sum(checks)"
   ]
  },
  {
   "cell_type": "markdown",
   "metadata": {},
   "source": [
    "# Part 2"
   ]
  },
  {
   "cell_type": "code",
   "execution_count": 8,
   "metadata": {},
   "outputs": [],
   "source": [
    "import z3"
   ]
  },
  {
   "cell_type": "code",
   "execution_count": 9,
   "metadata": {},
   "outputs": [],
   "source": [
    "def solve_stones(hail: list[tuple[int]]):\n",
    "\t# BitVec is way faster than Int\n",
    "\tI = lambda name: z3.BitVec(name, 64)\n",
    "\tsolver = z3.Solver()\n",
    "\tx, y, z = I(\"x\"), I(\"y\"), I(\"z\")\n",
    "\tvx, vy, vz = I(\"vx\"), I(\"vy\"), I(\"vz\")\n",
    "\tfor i, a in enumerate(hail):\n",
    "\t\tpos, speed = a\n",
    "\t\tvax, vay, vaz = speed\n",
    "\t\tax, ay, az = pos\n",
    "\t\tt = I(f't_{i}')\n",
    "\t\tsolver.add(t >= 0)\n",
    "\t\tsolver.add(x + vx * t == ax + vax * t)\n",
    "\t\tsolver.add(y + vy * t == ay + vay * t)\n",
    "\t\tsolver.add(z + vz * t == az + vaz * t)\t\n",
    "\tassert solver.check() == z3.sat\n",
    "\tm = solver.model()\n",
    "\tx, y, z = m.eval(x), m.eval(y), m.eval(z)#, m.eval(vx), m.eval(vy), m.eval(vz)\n",
    "\tx, y, z = x.as_long(), y.as_long(), z.as_long()#, vx.as_long(), vy.as_long(), vz.as_long()\n",
    "\treturn x, y, z#, vx, vy, vz"
   ]
  },
  {
   "cell_type": "code",
   "execution_count": 12,
   "metadata": {},
   "outputs": [],
   "source": [
    "example_x, example_y, example_z = solve_stones(example_hail)"
   ]
  },
  {
   "cell_type": "code",
   "execution_count": 13,
   "metadata": {},
   "outputs": [
    {
     "name": "stdout",
     "output_type": "stream",
     "text": [
      "Position: 24, 13, 10\n"
     ]
    }
   ],
   "source": [
    "print(f\"Position: {example_x}, {example_y}, {example_z}\")"
   ]
  },
  {
   "cell_type": "code",
   "execution_count": 10,
   "metadata": {},
   "outputs": [],
   "source": [
    "x, y, z = solve_stones(hail)"
   ]
  },
  {
   "cell_type": "code",
   "execution_count": 11,
   "metadata": {},
   "outputs": [
    {
     "name": "stdout",
     "output_type": "stream",
     "text": [
      "Position: 422644646660238, 244357651988392, 189640099899118\n",
      "Distance: 856642398547748\n"
     ]
    }
   ],
   "source": [
    "print(f\"Position: {x}, {y}, {z}\")\n",
    "print(f\"Distance: {x + y + z}\")"
   ]
  },
  {
   "cell_type": "code",
   "execution_count": null,
   "metadata": {},
   "outputs": [],
   "source": []
  }
 ],
 "metadata": {
  "kernelspec": {
   "display_name": ".venv",
   "language": "python",
   "name": "python3"
  },
  "language_info": {
   "codemirror_mode": {
    "name": "ipython",
    "version": 3
   },
   "file_extension": ".py",
   "mimetype": "text/x-python",
   "name": "python",
   "nbconvert_exporter": "python",
   "pygments_lexer": "ipython3",
   "version": "3.11.7"
  }
 },
 "nbformat": 4,
 "nbformat_minor": 2
}
