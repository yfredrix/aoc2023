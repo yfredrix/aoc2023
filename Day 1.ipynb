{
 "cells": [
  {
   "cell_type": "code",
   "execution_count": 7,
   "metadata": {},
   "outputs": [],
   "source": [
    "example = \"\"\"1abc2\n",
    "pqr3stu8vwx\n",
    "a1b2c3d4e5f\n",
    "treb7uchet\"\"\""
   ]
  },
  {
   "cell_type": "code",
   "execution_count": 12,
   "metadata": {},
   "outputs": [],
   "source": [
    "def return_numbers(string):\n",
    "    firstnumber = \"\"\n",
    "    secondnumber = \"\"\n",
    "    for char in string:\n",
    "        if char.isdigit() and firstnumber == \"\":\n",
    "            firstnumber = char\n",
    "            secondnumber = char\n",
    "        elif char.isdigit():\n",
    "            secondnumber = char\n",
    "    return int(firstnumber + secondnumber)"
   ]
  },
  {
   "cell_type": "code",
   "execution_count": 14,
   "metadata": {},
   "outputs": [
    {
     "data": {
      "text/plain": [
       "142"
      ]
     },
     "execution_count": 14,
     "metadata": {},
     "output_type": "execute_result"
    }
   ],
   "source": [
    "sum([return_numbers(string) for string in example.split(\"\\n\")])"
   ]
  },
  {
   "cell_type": "markdown",
   "metadata": {},
   "source": [
    "## Part 1"
   ]
  },
  {
   "cell_type": "code",
   "execution_count": 15,
   "metadata": {},
   "outputs": [],
   "source": [
    "with open(\"data/Day 1/input.txt\", \"r\") as f:\n",
    "    data = f.readlines()"
   ]
  },
  {
   "cell_type": "code",
   "execution_count": 17,
   "metadata": {},
   "outputs": [
    {
     "data": {
      "text/plain": [
       "54953"
      ]
     },
     "execution_count": 17,
     "metadata": {},
     "output_type": "execute_result"
    }
   ],
   "source": [
    "sum([return_numbers(string) for string in data])"
   ]
  },
  {
   "cell_type": "markdown",
   "metadata": {},
   "source": [
    "## Part 2"
   ]
  },
  {
   "cell_type": "code",
   "execution_count": 18,
   "metadata": {},
   "outputs": [],
   "source": [
    "example2 = \"\"\"two1nine\n",
    "eightwothree\n",
    "abcone2threexyz\n",
    "xtwone3four\n",
    "4nineeightseven2\n",
    "zoneight234\n",
    "7pqrstsixteen\"\"\""
   ]
  },
  {
   "cell_type": "code",
   "execution_count": 52,
   "metadata": {},
   "outputs": [],
   "source": [
    "import re\n",
    "\n",
    "\n",
    "def get_numbers_from_string(string):\n",
    "    \"\"\"Get digits from a string by checking each character if it is a digit.\n",
    "    And if the text contains the english word for the digit\n",
    "    Return the first and last digit of the string as a combined integer\"\"\"\n",
    "    firstnumber = \"\"\n",
    "    secondnumber = \"\"\n",
    "    replace_dict = {\n",
    "        \"one\": \"1\",\n",
    "        \"two\": \"2\",\n",
    "        \"three\": \"3\",\n",
    "        \"four\": \"4\",\n",
    "        \"five\": \"5\",\n",
    "        \"six\": \"6\",\n",
    "        \"seven\": \"7\",\n",
    "        \"eight\": \"8\",\n",
    "        \"nine\": \"9\",\n",
    "    }\n",
    "\n",
    "    pattern = \"|\".join(sorted(re.escape(k) for k in replace_dict))\n",
    "    string = re.sub(pattern, lambda m: replace_dict.get(m.group(0).lower()), string, flags=re.IGNORECASE)\n",
    "\n",
    "    for char in string:\n",
    "        if char.isdigit() and firstnumber == \"\":\n",
    "            firstnumber = char\n",
    "            secondnumber = char\n",
    "        elif char.isdigit():\n",
    "            secondnumber = char\n",
    "    return int(firstnumber + secondnumber)"
   ]
  },
  {
   "cell_type": "code",
   "execution_count": 132,
   "metadata": {},
   "outputs": [],
   "source": [
    "import re\n",
    "\n",
    "replace_dict = {\n",
    "    \"one\": \"1\",\n",
    "    \"two\": \"2\",\n",
    "    \"three\": \"3\",\n",
    "    \"four\": \"4\",\n",
    "    \"five\": \"5\",\n",
    "    \"six\": \"6\",\n",
    "    \"seven\": \"7\",\n",
    "    \"eight\": \"8\",\n",
    "    \"nine\": \"9\",\n",
    "}\n",
    "\n",
    "\n",
    "def find_numbers(string, replace_dict=replace_dict):\n",
    "    \"\"\"Find all numbers in a string, including digits and English text from \"one\" to \"nine\" with overlapping letters\"\"\"\n",
    "\n",
    "    pattern = \"(?=(\\d|\" + \"|\".join(sorted(re.escape(k) for k in replace_dict)) + \"))\"\n",
    "    numbers = re.findall(pattern, string, flags=re.IGNORECASE)\n",
    "    return numbers"
   ]
  },
  {
   "cell_type": "code",
   "execution_count": 112,
   "metadata": {},
   "outputs": [
    {
     "data": {
      "text/plain": [
       "281"
      ]
     },
     "execution_count": 112,
     "metadata": {},
     "output_type": "execute_result"
    }
   ],
   "source": [
    "sum([get_numbers_from_string(string) for string in example2.split(\"\\n\")])"
   ]
  },
  {
   "cell_type": "code",
   "execution_count": 113,
   "metadata": {},
   "outputs": [
    {
     "data": {
      "text/plain": [
       "53885"
      ]
     },
     "execution_count": 113,
     "metadata": {},
     "output_type": "execute_result"
    }
   ],
   "source": [
    "datanumbers = [get_numbers_from_string(string) for string in data]\n",
    "sum(datanumbers)"
   ]
  },
  {
   "cell_type": "code",
   "execution_count": 135,
   "metadata": {},
   "outputs": [
    {
     "name": "stdout",
     "output_type": "stream",
     "text": [
      "53868\n"
     ]
    }
   ],
   "source": [
    "answer = 0\n",
    "for string in data:\n",
    "    numbers = find_numbers(string)\n",
    "    if numbers[0].isdigit():\n",
    "        firstdigit = numbers[0]\n",
    "    else:\n",
    "        firstdigit = replace_dict[numbers[0].lower()]\n",
    "    if numbers[-1].isdigit():\n",
    "        seconddigit = numbers[-1]\n",
    "    else:\n",
    "        seconddigit = replace_dict[numbers[-1].lower()]\n",
    "    goal = int(firstdigit + seconddigit)\n",
    "    answer += goal\n",
    "print(answer)"
   ]
  },
  {
   "cell_type": "code",
   "execution_count": 91,
   "metadata": {},
   "outputs": [],
   "source": [
    "def find_numbers(string):\n",
    "    \"\"\"Find all numbers in a string, including digits and English text from \"one\" to \"nine\" with overlapping letters\"\"\"\n",
    "    replace_dict = {\n",
    "        \"one\": \"1\",\n",
    "        \"two\": \"2\",\n",
    "        \"three\": \"3\",\n",
    "        \"four\": \"4\",\n",
    "        \"five\": \"5\",\n",
    "        \"six\": \"6\",\n",
    "        \"seven\": \"7\",\n",
    "        \"eight\": \"8\",\n",
    "        \"nine\": \"9\",\n",
    "    }\n",
    "\n",
    "    pattern = \"|\".join(f\"(?={re.escape(k)})\" for k in replace_dict)\n",
    "    matches = re.findall(pattern, string, flags=re.IGNORECASE)\n",
    "    return [replace_dict[m.lower()] for m in matches]"
   ]
  },
  {
   "cell_type": "code",
   "execution_count": null,
   "metadata": {},
   "outputs": [],
   "source": []
  }
 ],
 "metadata": {
  "kernelspec": {
   "display_name": ".venv",
   "language": "python",
   "name": "python3"
  },
  "language_info": {
   "codemirror_mode": {
    "name": "ipython",
    "version": 3
   },
   "file_extension": ".py",
   "mimetype": "text/x-python",
   "name": "python",
   "nbconvert_exporter": "python",
   "pygments_lexer": "ipython3",
   "version": "3.11.6"
  }
 },
 "nbformat": 4,
 "nbformat_minor": 2
}
