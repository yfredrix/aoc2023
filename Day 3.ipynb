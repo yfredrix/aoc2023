{
 "cells": [
  {
   "cell_type": "code",
   "execution_count": 2,
   "metadata": {},
   "outputs": [],
   "source": [
    "example = \"\"\"467..114..\n",
    "...*......\n",
    "..35..633.\n",
    "......#...\n",
    "617*......\n",
    ".....+.58.\n",
    "..592.....\n",
    "......755.\n",
    "...$.*....\n",
    ".664.598..\"\"\""
   ]
  },
  {
   "cell_type": "code",
   "execution_count": 15,
   "metadata": {},
   "outputs": [],
   "source": [
    "def find_char(grid):\n",
    "    \"\"\"Return a list of coordinates of all characters in the grid\n",
    "    Not being integers, or .\"\"\"\n",
    "    char_list = []\n",
    "    for y in range(len(grid)):\n",
    "        for x in range(len(grid[y])):\n",
    "            if grid[y][x] not in \"0123456789.\":\n",
    "                char_list.append((x, y))\n",
    "    return char_list"
   ]
  },
  {
   "cell_type": "code",
   "execution_count": 22,
   "metadata": {},
   "outputs": [],
   "source": [
    "characters_xy = find_char(example.splitlines())"
   ]
  },
  {
   "cell_type": "code",
   "execution_count": 43,
   "metadata": {},
   "outputs": [],
   "source": [
    "def find_digit(grid, x, y, validnumbersxy=set()):\n",
    "    for dx in range(-1, 2):\n",
    "        for dy in range(-1, 2):\n",
    "            if grid[y + dy][x + dx] in \"0123456789\":\n",
    "                validnumbersxy.add(tuple((x+dx,y+dy)))\n",
    "    return validnumbersxy\n",
    "\n",
    "def find_digits_in_line(grid, loc, possible_digits: set[tuple[str, str]]):\n",
    "    \"\"\"Return the number which is a combination of digits on the same y axis till a point is reached or the grid is finished.\"\"\"\n",
    "    if loc in possible_digits:\n",
    "        x, y = loc\n",
    "        number = \"\"\n",
    "        for dx in range(x, 0, -1):\n",
    "            if grid[y][dx] in \"0123456789\":\n",
    "                number = grid[y][dx] + number\n",
    "                if (dx, y) in possible_digits:\n",
    "                    possible_digits.remove((dx, y))\n",
    "            else:\n",
    "                break\n",
    "        for dx in range(x+1, len(grid[y])):\n",
    "            if grid[y][dx] in \"0123456789\":\n",
    "                number += grid[y][dx]\n",
    "                if (dx, y) in possible_digits:\n",
    "                    possible_digits.remove((dx, y))\n",
    "            else:\n",
    "                break\n",
    "        return int(number), possible_digits\n",
    "    else:\n",
    "        return None, possible_digits"
   ]
  },
  {
   "cell_type": "code",
   "execution_count": 46,
   "metadata": {},
   "outputs": [
    {
     "name": "stdout",
     "output_type": "stream",
     "text": [
      "{(6, 2), (2, 4), (4, 6), (2, 0), (2, 9), (6, 7), (3, 9), (7, 2), (2, 2), (5, 9), (3, 2), (6, 9)}\n"
     ]
    },
    {
     "ename": "ValueError",
     "evalue": "invalid literal for int() with base 10: ''",
     "output_type": "error",
     "traceback": [
      "\u001b[1;31m---------------------------------------------------------------------------\u001b[0m",
      "\u001b[1;31mValueError\u001b[0m                                Traceback (most recent call last)",
      "\u001b[1;32mc:\\Users\\Skier\\Documents\\Git\\aoc2023\\Day 3.ipynb Cell 5\u001b[0m line \u001b[0;36m7\n\u001b[0;32m      <a href='vscode-notebook-cell:/c%3A/Users/Skier/Documents/Git/aoc2023/Day%203.ipynb#W5sZmlsZQ%3D%3D?line=4'>5</a>\u001b[0m \u001b[39mprint\u001b[39m(validlocations)\n\u001b[0;32m      <a href='vscode-notebook-cell:/c%3A/Users/Skier/Documents/Git/aoc2023/Day%203.ipynb#W5sZmlsZQ%3D%3D?line=5'>6</a>\u001b[0m \u001b[39mfor\u001b[39;00m location \u001b[39min\u001b[39;00m validlocations\u001b[39m.\u001b[39mcopy():\n\u001b[1;32m----> <a href='vscode-notebook-cell:/c%3A/Users/Skier/Documents/Git/aoc2023/Day%203.ipynb#W5sZmlsZQ%3D%3D?line=6'>7</a>\u001b[0m     numbers, validlocations \u001b[39m=\u001b[39m find_digits_in_line(example\u001b[39m.\u001b[39;49msplitlines(), location, validlocations)\n\u001b[0;32m      <a href='vscode-notebook-cell:/c%3A/Users/Skier/Documents/Git/aoc2023/Day%203.ipynb#W5sZmlsZQ%3D%3D?line=7'>8</a>\u001b[0m     validnumbers\u001b[39m.\u001b[39mappend(numbers)\n",
      "\u001b[1;32mc:\\Users\\Skier\\Documents\\Git\\aoc2023\\Day 3.ipynb Cell 5\u001b[0m line \u001b[0;36m2\n\u001b[0;32m     <a href='vscode-notebook-cell:/c%3A/Users/Skier/Documents/Git/aoc2023/Day%203.ipynb#W5sZmlsZQ%3D%3D?line=24'>25</a>\u001b[0m         \u001b[39melse\u001b[39;00m:\n\u001b[0;32m     <a href='vscode-notebook-cell:/c%3A/Users/Skier/Documents/Git/aoc2023/Day%203.ipynb#W5sZmlsZQ%3D%3D?line=25'>26</a>\u001b[0m             \u001b[39mbreak\u001b[39;00m\n\u001b[1;32m---> <a href='vscode-notebook-cell:/c%3A/Users/Skier/Documents/Git/aoc2023/Day%203.ipynb#W5sZmlsZQ%3D%3D?line=26'>27</a>\u001b[0m     \u001b[39mreturn\u001b[39;00m \u001b[39mint\u001b[39;49m(number), possible_digits\n\u001b[0;32m     <a href='vscode-notebook-cell:/c%3A/Users/Skier/Documents/Git/aoc2023/Day%203.ipynb#W5sZmlsZQ%3D%3D?line=27'>28</a>\u001b[0m \u001b[39melse\u001b[39;00m:\n\u001b[0;32m     <a href='vscode-notebook-cell:/c%3A/Users/Skier/Documents/Git/aoc2023/Day%203.ipynb#W5sZmlsZQ%3D%3D?line=28'>29</a>\u001b[0m     \u001b[39mreturn\u001b[39;00m \u001b[39mNone\u001b[39;00m, possible_digits\n",
      "\u001b[1;31mValueError\u001b[0m: invalid literal for int() with base 10: ''"
     ]
    }
   ],
   "source": [
    "validlocations = set()\n",
    "validnumbers = []\n",
    "for character_xy in characters_xy:\n",
    "    validlocations = find_digit(example.splitlines(), character_xy[0], character_xy[1], validnumbersxy=validlocations)\n",
    "print(validlocations)\n",
    "for location in validlocations.copy():\n",
    "    numbers, validlocations = find_digits_in_line(example.splitlines(), location, validlocations)\n",
    "    validnumbers.append(numbers)"
   ]
  },
  {
   "cell_type": "code",
   "execution_count": 40,
   "metadata": {},
   "outputs": [
    {
     "data": {
      "text/plain": [
       "[6633, 7, 2, 7, 64, 7755, None, None, 35, 598, None, None]"
      ]
     },
     "execution_count": 40,
     "metadata": {},
     "output_type": "execute_result"
    }
   ],
   "source": [
    "validnumbers"
   ]
  },
  {
   "cell_type": "code",
   "execution_count": 41,
   "metadata": {},
   "outputs": [
    {
     "data": {
      "text/plain": [
       "['467..114..',\n",
       " '...*......',\n",
       " '..35..633.',\n",
       " '......#...',\n",
       " '617*......',\n",
       " '.....+.58.',\n",
       " '..592.....',\n",
       " '......755.',\n",
       " '...$.*....',\n",
       " '.664.598..']"
      ]
     },
     "execution_count": 41,
     "metadata": {},
     "output_type": "execute_result"
    }
   ],
   "source": [
    "example.splitlines()"
   ]
  },
  {
   "cell_type": "code",
   "execution_count": null,
   "metadata": {},
   "outputs": [],
   "source": []
  }
 ],
 "metadata": {
  "kernelspec": {
   "display_name": ".venv",
   "language": "python",
   "name": "python3"
  },
  "language_info": {
   "codemirror_mode": {
    "name": "ipython",
    "version": 3
   },
   "file_extension": ".py",
   "mimetype": "text/x-python",
   "name": "python",
   "nbconvert_exporter": "python",
   "pygments_lexer": "ipython3",
   "version": "3.11.6"
  }
 },
 "nbformat": 4,
 "nbformat_minor": 2
}
