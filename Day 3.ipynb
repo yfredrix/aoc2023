{
 "cells": [
  {
   "cell_type": "code",
   "execution_count": 2,
   "metadata": {},
   "outputs": [],
   "source": [
    "example = \"\"\"467..114..\n",
    "...*......\n",
    "..35..633.\n",
    "......#...\n",
    "617*......\n",
    ".....+.58.\n",
    "..592.....\n",
    "......755.\n",
    "...$.*....\n",
    ".664.598..\"\"\""
   ]
  },
  {
   "cell_type": "code",
   "execution_count": 92,
   "metadata": {},
   "outputs": [],
   "source": [
    "def find_char(grid, character = None):\n",
    "    \"\"\"Return a list of coordinates of all characters in the grid\n",
    "    Not being integers, or .\"\"\"\n",
    "    char_list = []\n",
    "    for y in range(len(grid)):\n",
    "        for x in range(len(grid[y])):\n",
    "            if grid[y][x] not in \"0123456789.\":\n",
    "                if character is None:\n",
    "                    char_list.append((x, y))\n",
    "                elif grid[y][x] == character:\n",
    "                    char_list.append((x, y))\n",
    "    return char_list"
   ]
  },
  {
   "cell_type": "code",
   "execution_count": 120,
   "metadata": {},
   "outputs": [],
   "source": [
    "def find_digit(grid, x, y, validnumbersxy=set(), search_gears = False):\n",
    "    gearset = set()\n",
    "    for dx in range(-1, 2):\n",
    "        for dy in range(-1, 2):\n",
    "            if y+dy < len(grid) and x+dx < len(grid[y]) and y+dy >= 0 and x+dx >= 0:\n",
    "                if grid[y + dy][x + dx] in \"0123456789\":\n",
    "                    gearset.add(tuple((x+dx,y+dy)))\n",
    "    if search_gears:\n",
    "        if len(gearset) >= 2:\n",
    "            return validnumbersxy.union(gearset)\n",
    "        else:\n",
    "            return validnumbersxy\n",
    "    return validnumbersxy.union(gearset)\n",
    "\n",
    "def find_digits_in_line(grid, loc, possible_digits: set[tuple[str, str]]):\n",
    "    \"\"\"Return the number which is a combination of digits on the same y axis till a point is reached or the grid is finished.\"\"\"\n",
    "    if loc in possible_digits:\n",
    "        x, y = loc\n",
    "        number = \"\"\n",
    "        for dx in range(x, -1, -1):\n",
    "            if grid[y][dx] in \"0123456789\":\n",
    "                number = grid[y][dx] + number\n",
    "                if (dx, y) in possible_digits:\n",
    "                    possible_digits.remove((dx, y))\n",
    "            else:\n",
    "                break\n",
    "        for dx in range(x+1, len(grid[y])):\n",
    "            if grid[y][dx] in \"0123456789\":\n",
    "                number += grid[y][dx]\n",
    "                if (dx, y) in possible_digits:\n",
    "                    possible_digits.remove((dx, y))\n",
    "            else:\n",
    "                break\n",
    "        return int(number), possible_digits\n",
    "    else:\n",
    "        return None, possible_digits"
   ]
  },
  {
   "cell_type": "code",
   "execution_count": 104,
   "metadata": {},
   "outputs": [
    {
     "name": "stdout",
     "output_type": "stream",
     "text": [
      "4361\n"
     ]
    }
   ],
   "source": [
    "validlocations = set()\n",
    "validnumbers = []\n",
    "characters_xy = find_char(example.splitlines())\n",
    "for character_xy in characters_xy:\n",
    "    validlocations = find_digit(example.splitlines(), character_xy[0], character_xy[1], validnumbersxy=validlocations)\n",
    "for location in validlocations.copy():\n",
    "    numbers, validlocations = find_digits_in_line(example.splitlines(), location, validlocations)\n",
    "    if numbers:\n",
    "        validnumbers.append(numbers)\n",
    "\n",
    "print(sum(validnumbers))"
   ]
  },
  {
   "cell_type": "markdown",
   "metadata": {},
   "source": [
    "# Part 1"
   ]
  },
  {
   "cell_type": "code",
   "execution_count": 105,
   "metadata": {},
   "outputs": [],
   "source": [
    "with open('./data/Day 3/input.txt', 'r') as file:\n",
    "    grid = file.read().splitlines() "
   ]
  },
  {
   "cell_type": "code",
   "execution_count": 106,
   "metadata": {},
   "outputs": [
    {
     "name": "stdout",
     "output_type": "stream",
     "text": [
      "520135\n"
     ]
    }
   ],
   "source": [
    "validlocations = set()\n",
    "validnumbers = []\n",
    "characters_xy = find_char(grid)\n",
    "for character_xy in characters_xy:\n",
    "    validlocations = find_digit(grid, character_xy[0], character_xy[1], validnumbersxy=validlocations)\n",
    "for location in validlocations.copy():\n",
    "    numbers, validlocations = find_digits_in_line(grid, location, validlocations)\n",
    "    if numbers:\n",
    "        validnumbers.append(numbers)\n",
    "\n",
    "print(sum(validnumbers))"
   ]
  },
  {
   "cell_type": "markdown",
   "metadata": {},
   "source": [
    "# Part 2"
   ]
  },
  {
   "cell_type": "code",
   "execution_count": 138,
   "metadata": {},
   "outputs": [
    {
     "name": "stdout",
     "output_type": "stream",
     "text": [
      "467835\n"
     ]
    }
   ],
   "source": [
    "import math\n",
    "example_grid = example.splitlines()\n",
    "characters_xy = find_char(example_grid, character = \"*\")\n",
    "validnumbers = []\n",
    "for gearloc in characters_xy:\n",
    "    gearnumbers = []\n",
    "    validlocations = find_digit(example_grid, gearloc[0], gearloc[1], validnumbersxy=set(), search_gears=True)\n",
    "    for location in validlocations.copy():\n",
    "        numbers, validlocations = find_digits_in_line(example_grid, location, validlocations)\n",
    "        if numbers:\n",
    "            gearnumbers.append(numbers)\n",
    "    if len(gearnumbers) >= 2:\n",
    "        validnumbers.append(math.prod(gearnumbers))\n",
    "print(sum(validnumbers))"
   ]
  },
  {
   "cell_type": "code",
   "execution_count": 140,
   "metadata": {},
   "outputs": [
    {
     "name": "stdout",
     "output_type": "stream",
     "text": [
      "72514855\n"
     ]
    }
   ],
   "source": [
    "import math\n",
    "\n",
    "characters_xy = find_char(grid, character = \"*\")\n",
    "validnumbers = []\n",
    "for gearloc in characters_xy:\n",
    "    gearnumbers = []\n",
    "    validlocations = find_digit(grid, gearloc[0], gearloc[1], validnumbersxy=set(), search_gears=True)\n",
    "    for location in validlocations.copy():\n",
    "        numbers, validlocations = find_digits_in_line(grid, location, validlocations)\n",
    "        if numbers:\n",
    "            gearnumbers.append(numbers)\n",
    "    if len(gearnumbers) >= 2:\n",
    "        validnumbers.append(math.prod(gearnumbers))\n",
    "print(sum(validnumbers))"
   ]
  },
  {
   "cell_type": "code",
   "execution_count": null,
   "metadata": {},
   "outputs": [],
   "source": []
  }
 ],
 "metadata": {
  "kernelspec": {
   "display_name": ".venv",
   "language": "python",
   "name": "python3"
  },
  "language_info": {
   "codemirror_mode": {
    "name": "ipython",
    "version": 3
   },
   "file_extension": ".py",
   "mimetype": "text/x-python",
   "name": "python",
   "nbconvert_exporter": "python",
   "pygments_lexer": "ipython3",
   "version": "3.11.6"
  }
 },
 "nbformat": 4,
 "nbformat_minor": 2
}
