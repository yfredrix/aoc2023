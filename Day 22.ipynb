{
 "cells": [
  {
   "cell_type": "code",
   "execution_count": 1,
   "metadata": {},
   "outputs": [],
   "source": [
    "example = \"\"\"1,0,1~1,2,1\n",
    "0,0,2~2,0,2\n",
    "0,2,3~2,2,3\n",
    "0,0,4~0,2,4\n",
    "2,0,5~2,2,5\n",
    "0,1,6~2,1,6\n",
    "1,1,8~1,1,9\"\"\""
   ]
  },
  {
   "cell_type": "code",
   "execution_count": 2,
   "metadata": {},
   "outputs": [],
   "source": [
    "with open('./data/Day 22/input.txt') as f:\n",
    "    data = f.read()"
   ]
  },
  {
   "cell_type": "code",
   "execution_count": 3,
   "metadata": {},
   "outputs": [],
   "source": [
    "def parse_information(inputstr):\n",
    "    output = []\n",
    "    max_x = max_y = max_z = 0\n",
    "    for nr, line in enumerate(inputstr.splitlines()):\n",
    "        x, y, z = line.split('~')[1].split(',')\n",
    "        max_x = max(max_x, int(x))\n",
    "        max_y = max(max_y, int(y))\n",
    "        max_z = max(max_z, int(z))\n",
    "        temp = list(tuple(int(i) for i in j.split(',')) for j in line.split('~'))\n",
    "        temp.append(nr)\n",
    "        output.append(temp)\n",
    "    return sorted(output, key=lambda x: x[0][2]), max_x, max_y, max_z"
   ]
  },
  {
   "cell_type": "code",
   "execution_count": 4,
   "metadata": {},
   "outputs": [],
   "source": [
    "def check_fall(x, y, z, x_end, y_end, data):\n",
    "    out = []\n",
    "    for i in range(x, x_end+1):\n",
    "       out.append(data[(i, y, z-1)] == -1)\n",
    "\n",
    "    for j in range(y, y_end+1):\n",
    "       out.append(data[(x, j, z-1)] == -1)\n",
    "    \n",
    "    return all(out) "
   ]
  },
  {
   "cell_type": "code",
   "execution_count": 5,
   "metadata": {},
   "outputs": [],
   "source": [
    "import numpy as np\n",
    "\n",
    "def fall_all_blocks(block_locations, max_x, max_y, max_z):\n",
    "    supports = {}\n",
    "    grid = -1*np.ones((max_x+1, max_y+1, max_z+1), dtype=int)\n",
    "    grid[:,:,0] = -9999\n",
    "\n",
    "    for block in block_locations:\n",
    "        supports[block[2]] = set()\n",
    "        z= block[0][2]\n",
    "        z_top = block[1][2]\n",
    "\n",
    "        while check_fall(block[0][0], block[0][1], z, block[1][0], block[1][1], grid):\n",
    "            z -= 1\n",
    "            z_top -= 1\n",
    "        \n",
    "        for x in range(block[0][0], block[1][0]+1):\n",
    "            grid[x, block[0][1], z] = block[2]\n",
    "            if grid[x, block[0][1], z-1] != -1:\n",
    "                supports[block[2]].add(grid[x, block[0][1], z-1])\n",
    "        \n",
    "        for y in range(block[0][1], block[1][1]+1):\n",
    "            grid[block[0][0], y, z] = block[2]\n",
    "            if grid[block[0][0], y, z-1] != -1:\n",
    "                supports[block[2]].add(grid[block[0][0], y, z-1])\n",
    "        \n",
    "        for k in range(z, z_top+1):\n",
    "            grid[block[0][0], block[0][1], k] = block[2]\n",
    "        \n",
    "        if grid[block[0][0], block[0][1], z-1] != -1:\n",
    "            supports[block[2]].add(grid[block[0][0], block[0][1], z-1])\n",
    "    \n",
    "    return grid, supports"
   ]
  },
  {
   "cell_type": "code",
   "execution_count": 6,
   "metadata": {},
   "outputs": [],
   "source": [
    "def find_nr_removable_blocks(supports, grid):\n",
    "    non_removable_blocks = set()\n",
    "    for block, support in supports.items():\n",
    "        if len(support) == 1:\n",
    "            non_removable_blocks = non_removable_blocks.union(support)\n",
    "    return len(np.unique(grid)) - 1 - len(non_removable_blocks)"
   ]
  },
  {
   "cell_type": "markdown",
   "metadata": {},
   "source": [
    "# Part 1"
   ]
  },
  {
   "cell_type": "code",
   "execution_count": 7,
   "metadata": {},
   "outputs": [
    {
     "data": {
      "text/plain": [
       "5"
      ]
     },
     "execution_count": 7,
     "metadata": {},
     "output_type": "execute_result"
    }
   ],
   "source": [
    "ex_grid, support = fall_all_blocks(*parse_information(example))\n",
    "find_nr_removable_blocks(support, ex_grid)"
   ]
  },
  {
   "cell_type": "code",
   "execution_count": 22,
   "metadata": {},
   "outputs": [
    {
     "data": {
      "text/plain": [
       "517"
      ]
     },
     "execution_count": 22,
     "metadata": {},
     "output_type": "execute_result"
    }
   ],
   "source": [
    "grid, support = fall_all_blocks(*parse_information(data))\n",
    "find_nr_removable_blocks(support, grid)"
   ]
  },
  {
   "cell_type": "markdown",
   "metadata": {},
   "source": [
    "# Part 2"
   ]
  },
  {
   "cell_type": "code",
   "execution_count": 26,
   "metadata": {},
   "outputs": [],
   "source": [
    "from functools import lru_cache\n",
    "\n",
    "\n",
    "def falling_blocks(start, isfalling):\n",
    "    nr_falling = 0\n",
    "    for supported_block, supporting_blocks in support.items():\n",
    "        if supported_block != start and start in supporting_blocks:\n",
    "            if all([blocki in isfalling for blocki in supporting_blocks]):\n",
    "                isfalling.append(supported_block)\n",
    "                nr_falling += 1 + falling_blocks(supported_block, isfalling)\n",
    "    return nr_falling"
   ]
  },
  {
   "cell_type": "code",
   "execution_count": 27,
   "metadata": {},
   "outputs": [],
   "source": [
    "nr_falls = {}\n",
    "for key in support:\n",
    "    nr_falls[key] = falling_blocks(key, [key])"
   ]
  },
  {
   "cell_type": "code",
   "execution_count": 28,
   "metadata": {},
   "outputs": [
    {
     "data": {
      "text/plain": [
       "61276"
      ]
     },
     "execution_count": 28,
     "metadata": {},
     "output_type": "execute_result"
    }
   ],
   "source": [
    "sum(nr_falls.values())"
   ]
  },
  {
   "cell_type": "code",
   "execution_count": null,
   "metadata": {},
   "outputs": [],
   "source": []
  }
 ],
 "metadata": {
  "kernelspec": {
   "display_name": ".venv",
   "language": "python",
   "name": "python3"
  },
  "language_info": {
   "codemirror_mode": {
    "name": "ipython",
    "version": 3
   },
   "file_extension": ".py",
   "mimetype": "text/x-python",
   "name": "python",
   "nbconvert_exporter": "python",
   "pygments_lexer": "ipython3",
   "version": "3.12.1"
  }
 },
 "nbformat": 4,
 "nbformat_minor": 2
}
